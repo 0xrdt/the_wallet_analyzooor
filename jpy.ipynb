{
 "cells": [
  {
   "cell_type": "code",
   "execution_count": 1,
   "metadata": {},
   "outputs": [],
   "source": [
    "import sys\n",
    "sys.path.insert(0, 'app')\n",
    "\n",
    "from utils import flipside\n",
    "from utils import queries\n",
    "import pandas as pd\n",
    "import plotly.express as px\n",
    "import plotly.graph_objects as go\n",
    "from plotly.subplots import make_subplots\n",
    "import numpy as np\n",
    "import datetime\n",
    "from statsmodels.tsa.seasonal import DecomposeResult, seasonal_decompose\n",
    "import time\n",
    "import time\n",
    "import json\n",
    "import requests"
   ]
  },
  {
   "cell_type": "code",
   "execution_count": 2,
   "metadata": {},
   "outputs": [],
   "source": [
    "chain_name = 'ethereum'\n",
    "start_date = '2022-02-01'"
   ]
  },
  {
   "cell_type": "code",
   "execution_count": 3,
   "metadata": {},
   "outputs": [],
   "source": [
    "wallet_address_test = '0x8dad4658ee06122fb9b105a8dea1d185ac428687'\n",
    "wallet_address_binance = '0x56eddb7aa87536c09ccc2793473599fd21a8b17f'"
   ]
  },
  {
   "cell_type": "code",
   "execution_count": 6,
   "metadata": {},
   "outputs": [],
   "source": [
    "query_template = queries.transactions_per_wallet\n",
    "query = query_template.\\\n",
    "\treplace(\"$CHAIN_NAME\", chain_name).\\\n",
    "\treplace(\"$START_DATE\", start_date).\\\n",
    "\treplace(\"$WALLET_ADDRESS\", wallet_address_test.lower())\n",
    "data = flipside.get_data(query)\n",
    "\n",
    "transactions_per_wallet_test = pd.DataFrame(data['results'], columns=data['columnLabels'])\n",
    "\n",
    "query_template = queries.transactions_per_wallet\n",
    "query = query_template.\\\n",
    "\treplace(\"$CHAIN_NAME\", chain_name).\\\n",
    "\treplace(\"$START_DATE\", start_date).\\\n",
    "\treplace(\"$WALLET_ADDRESS\", wallet_address_binance.lower()) \n",
    "data = flipside.get_data(query+ \" LIMIT 500\")\n",
    "\n",
    "transactions_per_wallet_binance = pd.DataFrame(data['results'], columns=data['columnLabels'])"
   ]
  },
  {
   "cell_type": "code",
   "execution_count": 170,
   "metadata": {},
   "outputs": [
    {
     "name": "stdout",
     "output_type": "stream",
     "text": [
      "Error getting query results, got response: <html>\n",
      "<head><title>504 Gateway Time-out</title></head>\n",
      "<body>\n",
      "<center><h1>504 Gateway Time-out</h1></center>\n",
      "</body>\n",
      "</html>\n",
      "with status code: 504\n",
      "Error getting query results, got response: <html>\n",
      "<head><title>504 Gateway Time-out</title></head>\n",
      "<body>\n",
      "<center><h1>504 Gateway Time-out</h1></center>\n",
      "</body>\n",
      "</html>\n",
      "with status code: 504\n"
     ]
    }
   ],
   "source": [
    "query_template = queries.erc20_balances_per_address\n",
    "query = query_template.\\\n",
    "\treplace(\"$START_DATE\", start_date).\\\n",
    "\treplace(\"$WALLET_ADDRESS\", wallet_address_test.lower())\n",
    "data = flipside.get_data(query)\n",
    "\n",
    "erc20_balances_per_address_test = pd.DataFrame(data['results'], columns=data['columnLabels'])\n",
    "\n",
    "query_template = queries.erc20_balances_per_address\n",
    "query = query_template.\\\n",
    "\treplace(\"$START_DATE\", start_date).\\\n",
    "\treplace(\"$WALLET_ADDRESS\", wallet_address_binance.lower())\n",
    "data = flipside.get_data(query  + \" LIMIT 500\")\n",
    "\n",
    "erc20_balances_per_address_binance = pd.DataFrame(data['results'], columns=data['columnLabels'])"
   ]
  },
  {
   "cell_type": "code",
   "execution_count": 171,
   "metadata": {},
   "outputs": [
    {
     "name": "stdout",
     "output_type": "stream",
     "text": [
      "Error getting query results, got response: <html>\n",
      "<head><title>504 Gateway Time-out</title></head>\n",
      "<body>\n",
      "<center><h1>504 Gateway Time-out</h1></center>\n",
      "</body>\n",
      "</html>\n",
      "with status code: 504\n",
      "Error getting query results, got response: <html>\n",
      "<head><title>504 Gateway Time-out</title></head>\n",
      "<body>\n",
      "<center><h1>504 Gateway Time-out</h1></center>\n",
      "</body>\n",
      "</html>\n",
      "with status code: 504\n",
      "Error getting query results, got response: <html>\n",
      "<head><title>504 Gateway Time-out</title></head>\n",
      "<body>\n",
      "<center><h1>504 Gateway Time-out</h1></center>\n",
      "</body>\n",
      "</html>\n",
      "with status code: 504\n",
      "Error getting query results, got response: <html>\n",
      "<head><title>504 Gateway Time-out</title></head>\n",
      "<body>\n",
      "<center><h1>504 Gateway Time-out</h1></center>\n",
      "</body>\n",
      "</html>\n",
      "with status code: 504\n",
      "Error getting query results, got response: <html>\n",
      "<head><title>504 Gateway Time-out</title></head>\n",
      "<body>\n",
      "<center><h1>504 Gateway Time-out</h1></center>\n",
      "</body>\n",
      "</html>\n",
      "with status code: 504\n",
      "Error getting query results, got response: <html>\n",
      "<head><title>504 Gateway Time-out</title></head>\n",
      "<body>\n",
      "<center><h1>504 Gateway Time-out</h1></center>\n",
      "</body>\n",
      "</html>\n",
      "with status code: 504\n"
     ]
    }
   ],
   "source": [
    "query_template = queries.native_token_transfers_per_wallet\n",
    "query = query_template.\\\n",
    "\treplace(\"$CHAIN_NAME\", chain_name).\\\n",
    "\treplace(\"$START_DATE\", start_date).\\\n",
    "\treplace(\"$WALLET_ADDRESS\", wallet_address_test.lower()).\\\n",
    "\treplace(\"$TOKEN_NAME\", \"ETH\")\n",
    "data = flipside.get_data(query)\n",
    "\n",
    "native_token_transfers_per_wallet_test = pd.DataFrame(data['results'], columns=data['columnLabels'])\n",
    "\n",
    "query_template = queries.native_token_transfers_per_wallet\n",
    "query = query_template.\\\n",
    "\treplace(\"$CHAIN_NAME\", chain_name).\\\n",
    "\treplace(\"$START_DATE\", start_date).\\\n",
    "\treplace(\"$WALLET_ADDRESS\", wallet_address_binance.lower()).\\\n",
    "\treplace(\"$TOKEN_NAME\", \"ETH\") \n",
    "data = flipside.get_data(query+ \" LIMIT 500\")\n",
    "\n",
    "native_token_transfers_per_wallet_binance = pd.DataFrame(data['results'], columns=data['columnLabels'])"
   ]
  },
  {
   "cell_type": "code",
   "execution_count": 172,
   "metadata": {},
   "outputs": [
    {
     "name": "stdout",
     "output_type": "stream",
     "text": [
      "Error getting query results, got response: <html>\n",
      "<head><title>504 Gateway Time-out</title></head>\n",
      "<body>\n",
      "<center><h1>504 Gateway Time-out</h1></center>\n",
      "</body>\n",
      "</html>\n",
      "with status code: 504\n"
     ]
    }
   ],
   "source": [
    "query_template = queries.token_transfers_per_wallet\n",
    "query = query_template.\\\n",
    "\treplace(\"$CHAIN_NAME\", chain_name).\\\n",
    "\treplace(\"$START_DATE\", start_date).\\\n",
    "\treplace(\"$WALLET_ADDRESS\", wallet_address_test.lower())\n",
    "data = flipside.get_data(query)\n",
    "\n",
    "token_transfers_per_wallet_test = pd.DataFrame(data['results'], columns=data['columnLabels'])\n",
    "\n",
    "query_template = queries.token_transfers_per_wallet\n",
    "query = query_template.\\\n",
    "\treplace(\"$CHAIN_NAME\", chain_name).\\\n",
    "\treplace(\"$START_DATE\", start_date).\\\n",
    "\treplace(\"$WALLET_ADDRESS\", wallet_address_binance.lower())\n",
    "data = flipside.get_data(query+ \" LIMIT 500\")\n",
    "\n",
    "token_transfers_per_wallet_binance = pd.DataFrame(data['results'], columns=data['columnLabels'])"
   ]
  },
  {
   "cell_type": "code",
   "execution_count": 226,
   "metadata": {},
   "outputs": [],
   "source": [
    "query_template = queries.wallet_label\n",
    "query = query_template.\\\n",
    "\treplace(\"$CHAIN_NAME\", chain_name).\\\n",
    "\treplace(\"$WALLET_ADDRESS\", wallet_address_test.lower())\n",
    "data = flipside.get_data(query)\n",
    "\n",
    "wallet_label = pd.DataFrame(data['results'], columns=data['columnLabels'])"
   ]
  },
  {
   "cell_type": "code",
   "execution_count": 173,
   "metadata": {},
   "outputs": [],
   "source": [
    "transactions_per_wallet = transactions_per_wallet_binance\n",
    "transactions_per_wallet = transactions_per_wallet_test\n",
    "\n",
    "erc20_balances_per_address = erc20_balances_per_address_binance\n",
    "erc20_balances_per_address = erc20_balances_per_address_test\n",
    "\n",
    "native_token_transfers_per_wallet = native_token_transfers_per_wallet_binance\n",
    "native_token_transfers_per_wallet = native_token_transfers_per_wallet_test\n",
    "\n",
    "token_transfers_per_wallet = token_transfers_per_wallet_binance\n",
    "token_transfers_per_wallet = token_transfers_per_wallet_test"
   ]
  },
  {
   "cell_type": "markdown",
   "metadata": {},
   "source": [
    "# process data"
   ]
  },
  {
   "cell_type": "code",
   "execution_count": 174,
   "metadata": {},
   "outputs": [],
   "source": [
    "transactions_per_wallet['BLOCK_TIMESTAMP'] = pd.to_datetime(transactions_per_wallet['BLOCK_TIMESTAMP'])\n",
    "cols = ['ADDRESS_NAME','LABEL_TYPE','LABEL_SUBTYPE','LABEL']\n",
    "for col in cols:\n",
    "\ttransactions_per_wallet[col] = transactions_per_wallet[col].fillna('other')"
   ]
  },
  {
   "cell_type": "code",
   "execution_count": 175,
   "metadata": {},
   "outputs": [
    {
     "name": "stderr",
     "output_type": "stream",
     "text": [
      "<ipython-input-175-11177656e201>:2: SettingWithCopyWarning:\n",
      "\n",
      "\n",
      "A value is trying to be set on a copy of a slice from a DataFrame.\n",
      "Try using .loc[row_indexer,col_indexer] = value instead\n",
      "\n",
      "See the caveats in the documentation: https://pandas.pydata.org/pandas-docs/stable/user_guide/indexing.html#returning-a-view-versus-a-copy\n",
      "\n",
      "c:\\Users\\RicDe\\AppData\\Local\\Programs\\Python\\Python38\\lib\\site-packages\\pandas\\util\\_decorators.py:311: SettingWithCopyWarning:\n",
      "\n",
      "\n",
      "A value is trying to be set on a copy of a slice from a DataFrame\n",
      "\n",
      "See the caveats in the documentation: https://pandas.pydata.org/pandas-docs/stable/user_guide/indexing.html#returning-a-view-versus-a-copy\n",
      "\n"
     ]
    }
   ],
   "source": [
    "erc20_balances_per_address = erc20_balances_per_address.dropna(subset=[\"AMOUNT_USD\"])\n",
    "erc20_balances_per_address['BALANCE_DATE'] = pd.to_datetime(erc20_balances_per_address['BALANCE_DATE'])\n",
    "erc20_balances_per_address.sort_values(by=['BALANCE_DATE'], inplace=True)"
   ]
  },
  {
   "cell_type": "code",
   "execution_count": 176,
   "metadata": {},
   "outputs": [],
   "source": [
    "native_token_transfers_per_wallet['BLOCK_TIMESTAMP'] = pd.to_datetime(native_token_transfers_per_wallet['BLOCK_TIMESTAMP'])\n",
    "cols = ['ADDRESS_NAME','LABEL_TYPE','LABEL_SUBTYPE','LABEL']\n",
    "for col in cols:\n",
    "\tnative_token_transfers_per_wallet[col] = native_token_transfers_per_wallet[col].fillna('other')"
   ]
  },
  {
   "cell_type": "code",
   "execution_count": 177,
   "metadata": {},
   "outputs": [],
   "source": [
    "token_transfers_per_wallet['BLOCK_TIMESTAMP'] = pd.to_datetime(token_transfers_per_wallet['BLOCK_TIMESTAMP'])\n",
    "cols = ['ADDRESS_NAME','LABEL_TYPE','LABEL_SUBTYPE','LABEL']\n",
    "for col in cols:\n",
    "\ttoken_transfers_per_wallet[col] = token_transfers_per_wallet[col].fillna('other')"
   ]
  },
  {
   "cell_type": "markdown",
   "metadata": {},
   "source": [
    "# transactions over time"
   ]
  },
  {
   "cell_type": "code",
   "execution_count": 213,
   "metadata": {},
   "outputs": [
    {
     "data": {
      "application/vnd.plotly.v1+json": {
       "config": {
        "plotlyServerURL": "https://plotly.com"
       },
       "data": [
        {
         "customdata": [
          [
           0.008036719492,
           "0x7073a7e0f2abb6879b135be49b56dc61f04ca7f541b3f8ea6475a2681d920783",
           3250
          ],
          [
           0.005209328169,
           "0xe40e2fb166ed24b731f5ad4e5ec72a408ce45368b9ed0398ff732761bc98a03c",
           0
          ],
          [
           0.006155453688,
           "0x3069fd7851349fcdcd1c7c70cbd7aeee550e8aa32a468b3ba7844cfa4443ce62",
           0
          ],
          [
           0.0004045945284,
           "0xb64dff1b3bc33cbdfa19c91051185d8f410db3f5a997f27e797a9f6d35a92464",
           7977
          ],
          [
           0.0005683279141,
           "0x4043e89fbf25406509bbd27455b73e1119c80616265121cfe3572a68381bb3a0",
           6668
          ],
          [
           0.0229972016,
           "0x2936566d37d298a4937746c32f72c59cbb7875b20274ef8f5718e5187a73c1b2",
           9298
          ]
         ],
         "hovertemplate": "SIDE=outgoing<br>BLOCK_TIMESTAMP=%{x}<br>LABEL=%{y}<br>TX_FEE=%{customdata[0]}<br>TX_HASH=%{customdata[1]}<br>ETH_VALUE=%{customdata[2]}<extra></extra>",
         "legendgroup": "outgoing",
         "marker": {
          "color": "#636efa",
          "symbol": "circle"
         },
         "mode": "markers",
         "name": "outgoing",
         "orientation": "v",
         "showlegend": true,
         "type": "scatter",
         "x": [
          "2022-02-09T09:22:23",
          "2022-03-02T11:32:52",
          "2022-03-28T10:04:33",
          "2022-03-28T11:01:26",
          "2022-03-02T12:34:07",
          "2022-02-03T14:53:43"
         ],
         "xaxis": "x",
         "y": [
          "other",
          "other",
          "other",
          "celsius network",
          "celsius network",
          "other"
         ],
         "yaxis": "y"
        },
        {
         "customdata": [
          [
           0.001074885743,
           "0x27dcde3b97d51f10f1d6d94e245716a8c98015280e0f620cca8713736ee2225d",
           3250
          ],
          [
           0.001865559955,
           "0xb04f3b39abad174e0b7abd593bb9c5d49448d6115709ab0335d624582c901992",
           9300
          ]
         ],
         "hovertemplate": "SIDE=incoming<br>BLOCK_TIMESTAMP=%{x}<br>LABEL=%{y}<br>TX_FEE=%{customdata[0]}<br>TX_HASH=%{customdata[1]}<br>ETH_VALUE=%{customdata[2]}<extra></extra>",
         "legendgroup": "incoming",
         "marker": {
          "color": "#EF553B",
          "symbol": "circle"
         },
         "mode": "markers",
         "name": "incoming",
         "orientation": "v",
         "showlegend": true,
         "type": "scatter",
         "x": [
          "2022-02-09T09:11:25",
          "2022-02-03T14:25:34"
         ],
         "xaxis": "x",
         "y": [
          "celsius network",
          "celsius network"
         ],
         "yaxis": "y"
        }
       ],
       "layout": {
        "height": 500,
        "legend": {
         "title": {
          "text": "SIDE"
         },
         "tracegroupgap": 0
        },
        "template": {
         "data": {
          "bar": [
           {
            "error_x": {
             "color": "#2a3f5f"
            },
            "error_y": {
             "color": "#2a3f5f"
            },
            "marker": {
             "line": {
              "color": "#E5ECF6",
              "width": 0.5
             },
             "pattern": {
              "fillmode": "overlay",
              "size": 10,
              "solidity": 0.2
             }
            },
            "type": "bar"
           }
          ],
          "barpolar": [
           {
            "marker": {
             "line": {
              "color": "#E5ECF6",
              "width": 0.5
             },
             "pattern": {
              "fillmode": "overlay",
              "size": 10,
              "solidity": 0.2
             }
            },
            "type": "barpolar"
           }
          ],
          "carpet": [
           {
            "aaxis": {
             "endlinecolor": "#2a3f5f",
             "gridcolor": "white",
             "linecolor": "white",
             "minorgridcolor": "white",
             "startlinecolor": "#2a3f5f"
            },
            "baxis": {
             "endlinecolor": "#2a3f5f",
             "gridcolor": "white",
             "linecolor": "white",
             "minorgridcolor": "white",
             "startlinecolor": "#2a3f5f"
            },
            "type": "carpet"
           }
          ],
          "choropleth": [
           {
            "colorbar": {
             "outlinewidth": 0,
             "ticks": ""
            },
            "type": "choropleth"
           }
          ],
          "contour": [
           {
            "colorbar": {
             "outlinewidth": 0,
             "ticks": ""
            },
            "colorscale": [
             [
              0,
              "#0d0887"
             ],
             [
              0.1111111111111111,
              "#46039f"
             ],
             [
              0.2222222222222222,
              "#7201a8"
             ],
             [
              0.3333333333333333,
              "#9c179e"
             ],
             [
              0.4444444444444444,
              "#bd3786"
             ],
             [
              0.5555555555555556,
              "#d8576b"
             ],
             [
              0.6666666666666666,
              "#ed7953"
             ],
             [
              0.7777777777777778,
              "#fb9f3a"
             ],
             [
              0.8888888888888888,
              "#fdca26"
             ],
             [
              1,
              "#f0f921"
             ]
            ],
            "type": "contour"
           }
          ],
          "contourcarpet": [
           {
            "colorbar": {
             "outlinewidth": 0,
             "ticks": ""
            },
            "type": "contourcarpet"
           }
          ],
          "heatmap": [
           {
            "colorbar": {
             "outlinewidth": 0,
             "ticks": ""
            },
            "colorscale": [
             [
              0,
              "#0d0887"
             ],
             [
              0.1111111111111111,
              "#46039f"
             ],
             [
              0.2222222222222222,
              "#7201a8"
             ],
             [
              0.3333333333333333,
              "#9c179e"
             ],
             [
              0.4444444444444444,
              "#bd3786"
             ],
             [
              0.5555555555555556,
              "#d8576b"
             ],
             [
              0.6666666666666666,
              "#ed7953"
             ],
             [
              0.7777777777777778,
              "#fb9f3a"
             ],
             [
              0.8888888888888888,
              "#fdca26"
             ],
             [
              1,
              "#f0f921"
             ]
            ],
            "type": "heatmap"
           }
          ],
          "heatmapgl": [
           {
            "colorbar": {
             "outlinewidth": 0,
             "ticks": ""
            },
            "colorscale": [
             [
              0,
              "#0d0887"
             ],
             [
              0.1111111111111111,
              "#46039f"
             ],
             [
              0.2222222222222222,
              "#7201a8"
             ],
             [
              0.3333333333333333,
              "#9c179e"
             ],
             [
              0.4444444444444444,
              "#bd3786"
             ],
             [
              0.5555555555555556,
              "#d8576b"
             ],
             [
              0.6666666666666666,
              "#ed7953"
             ],
             [
              0.7777777777777778,
              "#fb9f3a"
             ],
             [
              0.8888888888888888,
              "#fdca26"
             ],
             [
              1,
              "#f0f921"
             ]
            ],
            "type": "heatmapgl"
           }
          ],
          "histogram": [
           {
            "marker": {
             "pattern": {
              "fillmode": "overlay",
              "size": 10,
              "solidity": 0.2
             }
            },
            "type": "histogram"
           }
          ],
          "histogram2d": [
           {
            "colorbar": {
             "outlinewidth": 0,
             "ticks": ""
            },
            "colorscale": [
             [
              0,
              "#0d0887"
             ],
             [
              0.1111111111111111,
              "#46039f"
             ],
             [
              0.2222222222222222,
              "#7201a8"
             ],
             [
              0.3333333333333333,
              "#9c179e"
             ],
             [
              0.4444444444444444,
              "#bd3786"
             ],
             [
              0.5555555555555556,
              "#d8576b"
             ],
             [
              0.6666666666666666,
              "#ed7953"
             ],
             [
              0.7777777777777778,
              "#fb9f3a"
             ],
             [
              0.8888888888888888,
              "#fdca26"
             ],
             [
              1,
              "#f0f921"
             ]
            ],
            "type": "histogram2d"
           }
          ],
          "histogram2dcontour": [
           {
            "colorbar": {
             "outlinewidth": 0,
             "ticks": ""
            },
            "colorscale": [
             [
              0,
              "#0d0887"
             ],
             [
              0.1111111111111111,
              "#46039f"
             ],
             [
              0.2222222222222222,
              "#7201a8"
             ],
             [
              0.3333333333333333,
              "#9c179e"
             ],
             [
              0.4444444444444444,
              "#bd3786"
             ],
             [
              0.5555555555555556,
              "#d8576b"
             ],
             [
              0.6666666666666666,
              "#ed7953"
             ],
             [
              0.7777777777777778,
              "#fb9f3a"
             ],
             [
              0.8888888888888888,
              "#fdca26"
             ],
             [
              1,
              "#f0f921"
             ]
            ],
            "type": "histogram2dcontour"
           }
          ],
          "mesh3d": [
           {
            "colorbar": {
             "outlinewidth": 0,
             "ticks": ""
            },
            "type": "mesh3d"
           }
          ],
          "parcoords": [
           {
            "line": {
             "colorbar": {
              "outlinewidth": 0,
              "ticks": ""
             }
            },
            "type": "parcoords"
           }
          ],
          "pie": [
           {
            "automargin": true,
            "type": "pie"
           }
          ],
          "scatter": [
           {
            "marker": {
             "colorbar": {
              "outlinewidth": 0,
              "ticks": ""
             }
            },
            "type": "scatter"
           }
          ],
          "scatter3d": [
           {
            "line": {
             "colorbar": {
              "outlinewidth": 0,
              "ticks": ""
             }
            },
            "marker": {
             "colorbar": {
              "outlinewidth": 0,
              "ticks": ""
             }
            },
            "type": "scatter3d"
           }
          ],
          "scattercarpet": [
           {
            "marker": {
             "colorbar": {
              "outlinewidth": 0,
              "ticks": ""
             }
            },
            "type": "scattercarpet"
           }
          ],
          "scattergeo": [
           {
            "marker": {
             "colorbar": {
              "outlinewidth": 0,
              "ticks": ""
             }
            },
            "type": "scattergeo"
           }
          ],
          "scattergl": [
           {
            "marker": {
             "colorbar": {
              "outlinewidth": 0,
              "ticks": ""
             }
            },
            "type": "scattergl"
           }
          ],
          "scattermapbox": [
           {
            "marker": {
             "colorbar": {
              "outlinewidth": 0,
              "ticks": ""
             }
            },
            "type": "scattermapbox"
           }
          ],
          "scatterpolar": [
           {
            "marker": {
             "colorbar": {
              "outlinewidth": 0,
              "ticks": ""
             }
            },
            "type": "scatterpolar"
           }
          ],
          "scatterpolargl": [
           {
            "marker": {
             "colorbar": {
              "outlinewidth": 0,
              "ticks": ""
             }
            },
            "type": "scatterpolargl"
           }
          ],
          "scatterternary": [
           {
            "marker": {
             "colorbar": {
              "outlinewidth": 0,
              "ticks": ""
             }
            },
            "type": "scatterternary"
           }
          ],
          "surface": [
           {
            "colorbar": {
             "outlinewidth": 0,
             "ticks": ""
            },
            "colorscale": [
             [
              0,
              "#0d0887"
             ],
             [
              0.1111111111111111,
              "#46039f"
             ],
             [
              0.2222222222222222,
              "#7201a8"
             ],
             [
              0.3333333333333333,
              "#9c179e"
             ],
             [
              0.4444444444444444,
              "#bd3786"
             ],
             [
              0.5555555555555556,
              "#d8576b"
             ],
             [
              0.6666666666666666,
              "#ed7953"
             ],
             [
              0.7777777777777778,
              "#fb9f3a"
             ],
             [
              0.8888888888888888,
              "#fdca26"
             ],
             [
              1,
              "#f0f921"
             ]
            ],
            "type": "surface"
           }
          ],
          "table": [
           {
            "cells": {
             "fill": {
              "color": "#EBF0F8"
             },
             "line": {
              "color": "white"
             }
            },
            "header": {
             "fill": {
              "color": "#C8D4E3"
             },
             "line": {
              "color": "white"
             }
            },
            "type": "table"
           }
          ]
         },
         "layout": {
          "annotationdefaults": {
           "arrowcolor": "#2a3f5f",
           "arrowhead": 0,
           "arrowwidth": 1
          },
          "autotypenumbers": "strict",
          "coloraxis": {
           "colorbar": {
            "outlinewidth": 0,
            "ticks": ""
           }
          },
          "colorscale": {
           "diverging": [
            [
             0,
             "#8e0152"
            ],
            [
             0.1,
             "#c51b7d"
            ],
            [
             0.2,
             "#de77ae"
            ],
            [
             0.3,
             "#f1b6da"
            ],
            [
             0.4,
             "#fde0ef"
            ],
            [
             0.5,
             "#f7f7f7"
            ],
            [
             0.6,
             "#e6f5d0"
            ],
            [
             0.7,
             "#b8e186"
            ],
            [
             0.8,
             "#7fbc41"
            ],
            [
             0.9,
             "#4d9221"
            ],
            [
             1,
             "#276419"
            ]
           ],
           "sequential": [
            [
             0,
             "#0d0887"
            ],
            [
             0.1111111111111111,
             "#46039f"
            ],
            [
             0.2222222222222222,
             "#7201a8"
            ],
            [
             0.3333333333333333,
             "#9c179e"
            ],
            [
             0.4444444444444444,
             "#bd3786"
            ],
            [
             0.5555555555555556,
             "#d8576b"
            ],
            [
             0.6666666666666666,
             "#ed7953"
            ],
            [
             0.7777777777777778,
             "#fb9f3a"
            ],
            [
             0.8888888888888888,
             "#fdca26"
            ],
            [
             1,
             "#f0f921"
            ]
           ],
           "sequentialminus": [
            [
             0,
             "#0d0887"
            ],
            [
             0.1111111111111111,
             "#46039f"
            ],
            [
             0.2222222222222222,
             "#7201a8"
            ],
            [
             0.3333333333333333,
             "#9c179e"
            ],
            [
             0.4444444444444444,
             "#bd3786"
            ],
            [
             0.5555555555555556,
             "#d8576b"
            ],
            [
             0.6666666666666666,
             "#ed7953"
            ],
            [
             0.7777777777777778,
             "#fb9f3a"
            ],
            [
             0.8888888888888888,
             "#fdca26"
            ],
            [
             1,
             "#f0f921"
            ]
           ]
          },
          "colorway": [
           "#636efa",
           "#EF553B",
           "#00cc96",
           "#ab63fa",
           "#FFA15A",
           "#19d3f3",
           "#FF6692",
           "#B6E880",
           "#FF97FF",
           "#FECB52"
          ],
          "font": {
           "color": "#2a3f5f"
          },
          "geo": {
           "bgcolor": "white",
           "lakecolor": "white",
           "landcolor": "#E5ECF6",
           "showlakes": true,
           "showland": true,
           "subunitcolor": "white"
          },
          "hoverlabel": {
           "align": "left"
          },
          "hovermode": "closest",
          "mapbox": {
           "style": "light"
          },
          "paper_bgcolor": "white",
          "plot_bgcolor": "#E5ECF6",
          "polar": {
           "angularaxis": {
            "gridcolor": "white",
            "linecolor": "white",
            "ticks": ""
           },
           "bgcolor": "#E5ECF6",
           "radialaxis": {
            "gridcolor": "white",
            "linecolor": "white",
            "ticks": ""
           }
          },
          "scene": {
           "xaxis": {
            "backgroundcolor": "#E5ECF6",
            "gridcolor": "white",
            "gridwidth": 2,
            "linecolor": "white",
            "showbackground": true,
            "ticks": "",
            "zerolinecolor": "white"
           },
           "yaxis": {
            "backgroundcolor": "#E5ECF6",
            "gridcolor": "white",
            "gridwidth": 2,
            "linecolor": "white",
            "showbackground": true,
            "ticks": "",
            "zerolinecolor": "white"
           },
           "zaxis": {
            "backgroundcolor": "#E5ECF6",
            "gridcolor": "white",
            "gridwidth": 2,
            "linecolor": "white",
            "showbackground": true,
            "ticks": "",
            "zerolinecolor": "white"
           }
          },
          "shapedefaults": {
           "line": {
            "color": "#2a3f5f"
           }
          },
          "ternary": {
           "aaxis": {
            "gridcolor": "white",
            "linecolor": "white",
            "ticks": ""
           },
           "baxis": {
            "gridcolor": "white",
            "linecolor": "white",
            "ticks": ""
           },
           "bgcolor": "#E5ECF6",
           "caxis": {
            "gridcolor": "white",
            "linecolor": "white",
            "ticks": ""
           }
          },
          "title": {
           "x": 0.05
          },
          "xaxis": {
           "automargin": true,
           "gridcolor": "white",
           "linecolor": "white",
           "ticks": "",
           "title": {
            "standoff": 15
           },
           "zerolinecolor": "white",
           "zerolinewidth": 2
          },
          "yaxis": {
           "automargin": true,
           "gridcolor": "white",
           "linecolor": "white",
           "ticks": "",
           "title": {
            "standoff": 15
           },
           "zerolinecolor": "white",
           "zerolinewidth": 2
          }
         }
        },
        "title": {
         "text": "Labeled Transactions over time"
        },
        "xaxis": {
         "anchor": "y",
         "domain": [
          0,
          1
         ],
         "title": {
          "text": "BLOCK_TIMESTAMP"
         }
        },
        "yaxis": {
         "anchor": "x",
         "domain": [
          0,
          1
         ],
         "title": {
          "text": "LABEL"
         }
        }
       }
      }
     },
     "metadata": {},
     "output_type": "display_data"
    }
   ],
   "source": [
    "fig = px.scatter(transactions_per_wallet, x=\"BLOCK_TIMESTAMP\", y=\"LABEL\", color=\"SIDE\", size='dummy', size_max=10, opacity=0.5,\n",
    "\t\t   title='Labeled Transactions over time', hover_data=['TX_FEE', 'TX_HASH', 'ETH_VALUE'])\n",
    "# fig.update_layout(xaxis_rangeslider_visible=True)\n",
    "fig.update_layout(height=500)\n",
    "fig"
   ]
  },
  {
   "cell_type": "code",
   "execution_count": 179,
   "metadata": {},
   "outputs": [],
   "source": [
    "agg_transactions_per_wallet = transactions_per_wallet.set_index('BLOCK_TIMESTAMP').groupby(['SIDE', 'LABEL', pd.Grouper(freq='1d')])['TX_HASH'].count()"
   ]
  },
  {
   "cell_type": "code",
   "execution_count": 180,
   "metadata": {},
   "outputs": [
    {
     "data": {
      "application/vnd.plotly.v1+json": {
       "config": {
        "plotlyServerURL": "https://plotly.com"
       },
       "data": [
        {
         "alignmentgroup": "True",
         "hovertemplate": "LABEL=celsius network<br>SIDE=incoming<br>BLOCK_TIMESTAMP=%{x}<br>TX_HASH=%{y}<extra></extra>",
         "legendgroup": "celsius network",
         "marker": {
          "color": "#636efa",
          "pattern": {
           "shape": ""
          }
         },
         "name": "celsius network",
         "offsetgroup": "celsius network",
         "orientation": "v",
         "showlegend": true,
         "textposition": "auto",
         "type": "bar",
         "x": [
          "2022-02-03T00:00:00",
          "2022-02-09T00:00:00"
         ],
         "xaxis": "x",
         "y": [
          1,
          1
         ],
         "yaxis": "y"
        }
       ],
       "layout": {
        "annotations": [
         {
          "font": {},
          "showarrow": false,
          "text": "SIDE=incoming",
          "textangle": 90,
          "x": 0.98,
          "xanchor": "left",
          "xref": "paper",
          "y": 0.5,
          "yanchor": "middle",
          "yref": "paper"
         }
        ],
        "barmode": "relative",
        "legend": {
         "title": {
          "text": "LABEL"
         },
         "tracegroupgap": 0
        },
        "template": {
         "data": {
          "bar": [
           {
            "error_x": {
             "color": "#2a3f5f"
            },
            "error_y": {
             "color": "#2a3f5f"
            },
            "marker": {
             "line": {
              "color": "#E5ECF6",
              "width": 0.5
             },
             "pattern": {
              "fillmode": "overlay",
              "size": 10,
              "solidity": 0.2
             }
            },
            "type": "bar"
           }
          ],
          "barpolar": [
           {
            "marker": {
             "line": {
              "color": "#E5ECF6",
              "width": 0.5
             },
             "pattern": {
              "fillmode": "overlay",
              "size": 10,
              "solidity": 0.2
             }
            },
            "type": "barpolar"
           }
          ],
          "carpet": [
           {
            "aaxis": {
             "endlinecolor": "#2a3f5f",
             "gridcolor": "white",
             "linecolor": "white",
             "minorgridcolor": "white",
             "startlinecolor": "#2a3f5f"
            },
            "baxis": {
             "endlinecolor": "#2a3f5f",
             "gridcolor": "white",
             "linecolor": "white",
             "minorgridcolor": "white",
             "startlinecolor": "#2a3f5f"
            },
            "type": "carpet"
           }
          ],
          "choropleth": [
           {
            "colorbar": {
             "outlinewidth": 0,
             "ticks": ""
            },
            "type": "choropleth"
           }
          ],
          "contour": [
           {
            "colorbar": {
             "outlinewidth": 0,
             "ticks": ""
            },
            "colorscale": [
             [
              0,
              "#0d0887"
             ],
             [
              0.1111111111111111,
              "#46039f"
             ],
             [
              0.2222222222222222,
              "#7201a8"
             ],
             [
              0.3333333333333333,
              "#9c179e"
             ],
             [
              0.4444444444444444,
              "#bd3786"
             ],
             [
              0.5555555555555556,
              "#d8576b"
             ],
             [
              0.6666666666666666,
              "#ed7953"
             ],
             [
              0.7777777777777778,
              "#fb9f3a"
             ],
             [
              0.8888888888888888,
              "#fdca26"
             ],
             [
              1,
              "#f0f921"
             ]
            ],
            "type": "contour"
           }
          ],
          "contourcarpet": [
           {
            "colorbar": {
             "outlinewidth": 0,
             "ticks": ""
            },
            "type": "contourcarpet"
           }
          ],
          "heatmap": [
           {
            "colorbar": {
             "outlinewidth": 0,
             "ticks": ""
            },
            "colorscale": [
             [
              0,
              "#0d0887"
             ],
             [
              0.1111111111111111,
              "#46039f"
             ],
             [
              0.2222222222222222,
              "#7201a8"
             ],
             [
              0.3333333333333333,
              "#9c179e"
             ],
             [
              0.4444444444444444,
              "#bd3786"
             ],
             [
              0.5555555555555556,
              "#d8576b"
             ],
             [
              0.6666666666666666,
              "#ed7953"
             ],
             [
              0.7777777777777778,
              "#fb9f3a"
             ],
             [
              0.8888888888888888,
              "#fdca26"
             ],
             [
              1,
              "#f0f921"
             ]
            ],
            "type": "heatmap"
           }
          ],
          "heatmapgl": [
           {
            "colorbar": {
             "outlinewidth": 0,
             "ticks": ""
            },
            "colorscale": [
             [
              0,
              "#0d0887"
             ],
             [
              0.1111111111111111,
              "#46039f"
             ],
             [
              0.2222222222222222,
              "#7201a8"
             ],
             [
              0.3333333333333333,
              "#9c179e"
             ],
             [
              0.4444444444444444,
              "#bd3786"
             ],
             [
              0.5555555555555556,
              "#d8576b"
             ],
             [
              0.6666666666666666,
              "#ed7953"
             ],
             [
              0.7777777777777778,
              "#fb9f3a"
             ],
             [
              0.8888888888888888,
              "#fdca26"
             ],
             [
              1,
              "#f0f921"
             ]
            ],
            "type": "heatmapgl"
           }
          ],
          "histogram": [
           {
            "marker": {
             "pattern": {
              "fillmode": "overlay",
              "size": 10,
              "solidity": 0.2
             }
            },
            "type": "histogram"
           }
          ],
          "histogram2d": [
           {
            "colorbar": {
             "outlinewidth": 0,
             "ticks": ""
            },
            "colorscale": [
             [
              0,
              "#0d0887"
             ],
             [
              0.1111111111111111,
              "#46039f"
             ],
             [
              0.2222222222222222,
              "#7201a8"
             ],
             [
              0.3333333333333333,
              "#9c179e"
             ],
             [
              0.4444444444444444,
              "#bd3786"
             ],
             [
              0.5555555555555556,
              "#d8576b"
             ],
             [
              0.6666666666666666,
              "#ed7953"
             ],
             [
              0.7777777777777778,
              "#fb9f3a"
             ],
             [
              0.8888888888888888,
              "#fdca26"
             ],
             [
              1,
              "#f0f921"
             ]
            ],
            "type": "histogram2d"
           }
          ],
          "histogram2dcontour": [
           {
            "colorbar": {
             "outlinewidth": 0,
             "ticks": ""
            },
            "colorscale": [
             [
              0,
              "#0d0887"
             ],
             [
              0.1111111111111111,
              "#46039f"
             ],
             [
              0.2222222222222222,
              "#7201a8"
             ],
             [
              0.3333333333333333,
              "#9c179e"
             ],
             [
              0.4444444444444444,
              "#bd3786"
             ],
             [
              0.5555555555555556,
              "#d8576b"
             ],
             [
              0.6666666666666666,
              "#ed7953"
             ],
             [
              0.7777777777777778,
              "#fb9f3a"
             ],
             [
              0.8888888888888888,
              "#fdca26"
             ],
             [
              1,
              "#f0f921"
             ]
            ],
            "type": "histogram2dcontour"
           }
          ],
          "mesh3d": [
           {
            "colorbar": {
             "outlinewidth": 0,
             "ticks": ""
            },
            "type": "mesh3d"
           }
          ],
          "parcoords": [
           {
            "line": {
             "colorbar": {
              "outlinewidth": 0,
              "ticks": ""
             }
            },
            "type": "parcoords"
           }
          ],
          "pie": [
           {
            "automargin": true,
            "type": "pie"
           }
          ],
          "scatter": [
           {
            "marker": {
             "colorbar": {
              "outlinewidth": 0,
              "ticks": ""
             }
            },
            "type": "scatter"
           }
          ],
          "scatter3d": [
           {
            "line": {
             "colorbar": {
              "outlinewidth": 0,
              "ticks": ""
             }
            },
            "marker": {
             "colorbar": {
              "outlinewidth": 0,
              "ticks": ""
             }
            },
            "type": "scatter3d"
           }
          ],
          "scattercarpet": [
           {
            "marker": {
             "colorbar": {
              "outlinewidth": 0,
              "ticks": ""
             }
            },
            "type": "scattercarpet"
           }
          ],
          "scattergeo": [
           {
            "marker": {
             "colorbar": {
              "outlinewidth": 0,
              "ticks": ""
             }
            },
            "type": "scattergeo"
           }
          ],
          "scattergl": [
           {
            "marker": {
             "colorbar": {
              "outlinewidth": 0,
              "ticks": ""
             }
            },
            "type": "scattergl"
           }
          ],
          "scattermapbox": [
           {
            "marker": {
             "colorbar": {
              "outlinewidth": 0,
              "ticks": ""
             }
            },
            "type": "scattermapbox"
           }
          ],
          "scatterpolar": [
           {
            "marker": {
             "colorbar": {
              "outlinewidth": 0,
              "ticks": ""
             }
            },
            "type": "scatterpolar"
           }
          ],
          "scatterpolargl": [
           {
            "marker": {
             "colorbar": {
              "outlinewidth": 0,
              "ticks": ""
             }
            },
            "type": "scatterpolargl"
           }
          ],
          "scatterternary": [
           {
            "marker": {
             "colorbar": {
              "outlinewidth": 0,
              "ticks": ""
             }
            },
            "type": "scatterternary"
           }
          ],
          "surface": [
           {
            "colorbar": {
             "outlinewidth": 0,
             "ticks": ""
            },
            "colorscale": [
             [
              0,
              "#0d0887"
             ],
             [
              0.1111111111111111,
              "#46039f"
             ],
             [
              0.2222222222222222,
              "#7201a8"
             ],
             [
              0.3333333333333333,
              "#9c179e"
             ],
             [
              0.4444444444444444,
              "#bd3786"
             ],
             [
              0.5555555555555556,
              "#d8576b"
             ],
             [
              0.6666666666666666,
              "#ed7953"
             ],
             [
              0.7777777777777778,
              "#fb9f3a"
             ],
             [
              0.8888888888888888,
              "#fdca26"
             ],
             [
              1,
              "#f0f921"
             ]
            ],
            "type": "surface"
           }
          ],
          "table": [
           {
            "cells": {
             "fill": {
              "color": "#EBF0F8"
             },
             "line": {
              "color": "white"
             }
            },
            "header": {
             "fill": {
              "color": "#C8D4E3"
             },
             "line": {
              "color": "white"
             }
            },
            "type": "table"
           }
          ]
         },
         "layout": {
          "annotationdefaults": {
           "arrowcolor": "#2a3f5f",
           "arrowhead": 0,
           "arrowwidth": 1
          },
          "autotypenumbers": "strict",
          "coloraxis": {
           "colorbar": {
            "outlinewidth": 0,
            "ticks": ""
           }
          },
          "colorscale": {
           "diverging": [
            [
             0,
             "#8e0152"
            ],
            [
             0.1,
             "#c51b7d"
            ],
            [
             0.2,
             "#de77ae"
            ],
            [
             0.3,
             "#f1b6da"
            ],
            [
             0.4,
             "#fde0ef"
            ],
            [
             0.5,
             "#f7f7f7"
            ],
            [
             0.6,
             "#e6f5d0"
            ],
            [
             0.7,
             "#b8e186"
            ],
            [
             0.8,
             "#7fbc41"
            ],
            [
             0.9,
             "#4d9221"
            ],
            [
             1,
             "#276419"
            ]
           ],
           "sequential": [
            [
             0,
             "#0d0887"
            ],
            [
             0.1111111111111111,
             "#46039f"
            ],
            [
             0.2222222222222222,
             "#7201a8"
            ],
            [
             0.3333333333333333,
             "#9c179e"
            ],
            [
             0.4444444444444444,
             "#bd3786"
            ],
            [
             0.5555555555555556,
             "#d8576b"
            ],
            [
             0.6666666666666666,
             "#ed7953"
            ],
            [
             0.7777777777777778,
             "#fb9f3a"
            ],
            [
             0.8888888888888888,
             "#fdca26"
            ],
            [
             1,
             "#f0f921"
            ]
           ],
           "sequentialminus": [
            [
             0,
             "#0d0887"
            ],
            [
             0.1111111111111111,
             "#46039f"
            ],
            [
             0.2222222222222222,
             "#7201a8"
            ],
            [
             0.3333333333333333,
             "#9c179e"
            ],
            [
             0.4444444444444444,
             "#bd3786"
            ],
            [
             0.5555555555555556,
             "#d8576b"
            ],
            [
             0.6666666666666666,
             "#ed7953"
            ],
            [
             0.7777777777777778,
             "#fb9f3a"
            ],
            [
             0.8888888888888888,
             "#fdca26"
            ],
            [
             1,
             "#f0f921"
            ]
           ]
          },
          "colorway": [
           "#636efa",
           "#EF553B",
           "#00cc96",
           "#ab63fa",
           "#FFA15A",
           "#19d3f3",
           "#FF6692",
           "#B6E880",
           "#FF97FF",
           "#FECB52"
          ],
          "font": {
           "color": "#2a3f5f"
          },
          "geo": {
           "bgcolor": "white",
           "lakecolor": "white",
           "landcolor": "#E5ECF6",
           "showlakes": true,
           "showland": true,
           "subunitcolor": "white"
          },
          "hoverlabel": {
           "align": "left"
          },
          "hovermode": "closest",
          "mapbox": {
           "style": "light"
          },
          "paper_bgcolor": "white",
          "plot_bgcolor": "#E5ECF6",
          "polar": {
           "angularaxis": {
            "gridcolor": "white",
            "linecolor": "white",
            "ticks": ""
           },
           "bgcolor": "#E5ECF6",
           "radialaxis": {
            "gridcolor": "white",
            "linecolor": "white",
            "ticks": ""
           }
          },
          "scene": {
           "xaxis": {
            "backgroundcolor": "#E5ECF6",
            "gridcolor": "white",
            "gridwidth": 2,
            "linecolor": "white",
            "showbackground": true,
            "ticks": "",
            "zerolinecolor": "white"
           },
           "yaxis": {
            "backgroundcolor": "#E5ECF6",
            "gridcolor": "white",
            "gridwidth": 2,
            "linecolor": "white",
            "showbackground": true,
            "ticks": "",
            "zerolinecolor": "white"
           },
           "zaxis": {
            "backgroundcolor": "#E5ECF6",
            "gridcolor": "white",
            "gridwidth": 2,
            "linecolor": "white",
            "showbackground": true,
            "ticks": "",
            "zerolinecolor": "white"
           }
          },
          "shapedefaults": {
           "line": {
            "color": "#2a3f5f"
           }
          },
          "ternary": {
           "aaxis": {
            "gridcolor": "white",
            "linecolor": "white",
            "ticks": ""
           },
           "baxis": {
            "gridcolor": "white",
            "linecolor": "white",
            "ticks": ""
           },
           "bgcolor": "#E5ECF6",
           "caxis": {
            "gridcolor": "white",
            "linecolor": "white",
            "ticks": ""
           }
          },
          "title": {
           "x": 0.05
          },
          "xaxis": {
           "automargin": true,
           "gridcolor": "white",
           "linecolor": "white",
           "ticks": "",
           "title": {
            "standoff": 15
           },
           "zerolinecolor": "white",
           "zerolinewidth": 2
          },
          "yaxis": {
           "automargin": true,
           "gridcolor": "white",
           "linecolor": "white",
           "ticks": "",
           "title": {
            "standoff": 15
           },
           "zerolinecolor": "white",
           "zerolinewidth": 2
          }
         }
        },
        "title": {
         "text": "Aggregated Labeled Incoming Transactions over time"
        },
        "xaxis": {
         "anchor": "y",
         "domain": [
          0,
          0.98
         ],
         "title": {
          "text": "BLOCK_TIMESTAMP"
         }
        },
        "yaxis": {
         "anchor": "x",
         "domain": [
          0,
          1
         ],
         "title": {
          "text": "TX_HASH"
         }
        }
       }
      }
     },
     "metadata": {},
     "output_type": "display_data"
    }
   ],
   "source": [
    "tmp = agg_transactions_per_wallet.reset_index()\n",
    "tmp = tmp[tmp['SIDE']=='incoming']\n",
    "fig = px.bar(tmp, x=\"BLOCK_TIMESTAMP\", y=\"TX_HASH\", facet_row=\"SIDE\", color='LABEL',\n",
    "\t\t   title='Aggregated Labeled Incoming Transactions over time')\n",
    "# fig.update_yaxes(title='Number of Transactions')\n",
    "# fig.update_xaxes(title='Date')\n",
    "# fig.update_layout(height=700)\n",
    "fig"
   ]
  },
  {
   "cell_type": "code",
   "execution_count": 181,
   "metadata": {},
   "outputs": [
    {
     "data": {
      "application/vnd.plotly.v1+json": {
       "config": {
        "plotlyServerURL": "https://plotly.com"
       },
       "data": [
        {
         "alignmentgroup": "True",
         "hovertemplate": "LABEL=celsius network<br>SIDE=outgoing<br>BLOCK_TIMESTAMP=%{x}<br>TX_HASH=%{y}<extra></extra>",
         "legendgroup": "celsius network",
         "marker": {
          "color": "#636efa",
          "pattern": {
           "shape": ""
          }
         },
         "name": "celsius network",
         "offsetgroup": "celsius network",
         "orientation": "v",
         "showlegend": true,
         "textposition": "auto",
         "type": "bar",
         "x": [
          "2022-03-02T00:00:00",
          "2022-03-28T00:00:00"
         ],
         "xaxis": "x",
         "y": [
          1,
          1
         ],
         "yaxis": "y"
        },
        {
         "alignmentgroup": "True",
         "hovertemplate": "LABEL=other<br>SIDE=outgoing<br>BLOCK_TIMESTAMP=%{x}<br>TX_HASH=%{y}<extra></extra>",
         "legendgroup": "other",
         "marker": {
          "color": "#EF553B",
          "pattern": {
           "shape": ""
          }
         },
         "name": "other",
         "offsetgroup": "other",
         "orientation": "v",
         "showlegend": true,
         "textposition": "auto",
         "type": "bar",
         "x": [
          "2022-02-03T00:00:00",
          "2022-02-09T00:00:00",
          "2022-03-02T00:00:00",
          "2022-03-28T00:00:00"
         ],
         "xaxis": "x",
         "y": [
          1,
          1,
          1,
          1
         ],
         "yaxis": "y"
        }
       ],
       "layout": {
        "annotations": [
         {
          "font": {},
          "showarrow": false,
          "text": "SIDE=outgoing",
          "textangle": 90,
          "x": 0.98,
          "xanchor": "left",
          "xref": "paper",
          "y": 0.5,
          "yanchor": "middle",
          "yref": "paper"
         }
        ],
        "barmode": "relative",
        "legend": {
         "title": {
          "text": "LABEL"
         },
         "tracegroupgap": 0
        },
        "template": {
         "data": {
          "bar": [
           {
            "error_x": {
             "color": "#2a3f5f"
            },
            "error_y": {
             "color": "#2a3f5f"
            },
            "marker": {
             "line": {
              "color": "#E5ECF6",
              "width": 0.5
             },
             "pattern": {
              "fillmode": "overlay",
              "size": 10,
              "solidity": 0.2
             }
            },
            "type": "bar"
           }
          ],
          "barpolar": [
           {
            "marker": {
             "line": {
              "color": "#E5ECF6",
              "width": 0.5
             },
             "pattern": {
              "fillmode": "overlay",
              "size": 10,
              "solidity": 0.2
             }
            },
            "type": "barpolar"
           }
          ],
          "carpet": [
           {
            "aaxis": {
             "endlinecolor": "#2a3f5f",
             "gridcolor": "white",
             "linecolor": "white",
             "minorgridcolor": "white",
             "startlinecolor": "#2a3f5f"
            },
            "baxis": {
             "endlinecolor": "#2a3f5f",
             "gridcolor": "white",
             "linecolor": "white",
             "minorgridcolor": "white",
             "startlinecolor": "#2a3f5f"
            },
            "type": "carpet"
           }
          ],
          "choropleth": [
           {
            "colorbar": {
             "outlinewidth": 0,
             "ticks": ""
            },
            "type": "choropleth"
           }
          ],
          "contour": [
           {
            "colorbar": {
             "outlinewidth": 0,
             "ticks": ""
            },
            "colorscale": [
             [
              0,
              "#0d0887"
             ],
             [
              0.1111111111111111,
              "#46039f"
             ],
             [
              0.2222222222222222,
              "#7201a8"
             ],
             [
              0.3333333333333333,
              "#9c179e"
             ],
             [
              0.4444444444444444,
              "#bd3786"
             ],
             [
              0.5555555555555556,
              "#d8576b"
             ],
             [
              0.6666666666666666,
              "#ed7953"
             ],
             [
              0.7777777777777778,
              "#fb9f3a"
             ],
             [
              0.8888888888888888,
              "#fdca26"
             ],
             [
              1,
              "#f0f921"
             ]
            ],
            "type": "contour"
           }
          ],
          "contourcarpet": [
           {
            "colorbar": {
             "outlinewidth": 0,
             "ticks": ""
            },
            "type": "contourcarpet"
           }
          ],
          "heatmap": [
           {
            "colorbar": {
             "outlinewidth": 0,
             "ticks": ""
            },
            "colorscale": [
             [
              0,
              "#0d0887"
             ],
             [
              0.1111111111111111,
              "#46039f"
             ],
             [
              0.2222222222222222,
              "#7201a8"
             ],
             [
              0.3333333333333333,
              "#9c179e"
             ],
             [
              0.4444444444444444,
              "#bd3786"
             ],
             [
              0.5555555555555556,
              "#d8576b"
             ],
             [
              0.6666666666666666,
              "#ed7953"
             ],
             [
              0.7777777777777778,
              "#fb9f3a"
             ],
             [
              0.8888888888888888,
              "#fdca26"
             ],
             [
              1,
              "#f0f921"
             ]
            ],
            "type": "heatmap"
           }
          ],
          "heatmapgl": [
           {
            "colorbar": {
             "outlinewidth": 0,
             "ticks": ""
            },
            "colorscale": [
             [
              0,
              "#0d0887"
             ],
             [
              0.1111111111111111,
              "#46039f"
             ],
             [
              0.2222222222222222,
              "#7201a8"
             ],
             [
              0.3333333333333333,
              "#9c179e"
             ],
             [
              0.4444444444444444,
              "#bd3786"
             ],
             [
              0.5555555555555556,
              "#d8576b"
             ],
             [
              0.6666666666666666,
              "#ed7953"
             ],
             [
              0.7777777777777778,
              "#fb9f3a"
             ],
             [
              0.8888888888888888,
              "#fdca26"
             ],
             [
              1,
              "#f0f921"
             ]
            ],
            "type": "heatmapgl"
           }
          ],
          "histogram": [
           {
            "marker": {
             "pattern": {
              "fillmode": "overlay",
              "size": 10,
              "solidity": 0.2
             }
            },
            "type": "histogram"
           }
          ],
          "histogram2d": [
           {
            "colorbar": {
             "outlinewidth": 0,
             "ticks": ""
            },
            "colorscale": [
             [
              0,
              "#0d0887"
             ],
             [
              0.1111111111111111,
              "#46039f"
             ],
             [
              0.2222222222222222,
              "#7201a8"
             ],
             [
              0.3333333333333333,
              "#9c179e"
             ],
             [
              0.4444444444444444,
              "#bd3786"
             ],
             [
              0.5555555555555556,
              "#d8576b"
             ],
             [
              0.6666666666666666,
              "#ed7953"
             ],
             [
              0.7777777777777778,
              "#fb9f3a"
             ],
             [
              0.8888888888888888,
              "#fdca26"
             ],
             [
              1,
              "#f0f921"
             ]
            ],
            "type": "histogram2d"
           }
          ],
          "histogram2dcontour": [
           {
            "colorbar": {
             "outlinewidth": 0,
             "ticks": ""
            },
            "colorscale": [
             [
              0,
              "#0d0887"
             ],
             [
              0.1111111111111111,
              "#46039f"
             ],
             [
              0.2222222222222222,
              "#7201a8"
             ],
             [
              0.3333333333333333,
              "#9c179e"
             ],
             [
              0.4444444444444444,
              "#bd3786"
             ],
             [
              0.5555555555555556,
              "#d8576b"
             ],
             [
              0.6666666666666666,
              "#ed7953"
             ],
             [
              0.7777777777777778,
              "#fb9f3a"
             ],
             [
              0.8888888888888888,
              "#fdca26"
             ],
             [
              1,
              "#f0f921"
             ]
            ],
            "type": "histogram2dcontour"
           }
          ],
          "mesh3d": [
           {
            "colorbar": {
             "outlinewidth": 0,
             "ticks": ""
            },
            "type": "mesh3d"
           }
          ],
          "parcoords": [
           {
            "line": {
             "colorbar": {
              "outlinewidth": 0,
              "ticks": ""
             }
            },
            "type": "parcoords"
           }
          ],
          "pie": [
           {
            "automargin": true,
            "type": "pie"
           }
          ],
          "scatter": [
           {
            "marker": {
             "colorbar": {
              "outlinewidth": 0,
              "ticks": ""
             }
            },
            "type": "scatter"
           }
          ],
          "scatter3d": [
           {
            "line": {
             "colorbar": {
              "outlinewidth": 0,
              "ticks": ""
             }
            },
            "marker": {
             "colorbar": {
              "outlinewidth": 0,
              "ticks": ""
             }
            },
            "type": "scatter3d"
           }
          ],
          "scattercarpet": [
           {
            "marker": {
             "colorbar": {
              "outlinewidth": 0,
              "ticks": ""
             }
            },
            "type": "scattercarpet"
           }
          ],
          "scattergeo": [
           {
            "marker": {
             "colorbar": {
              "outlinewidth": 0,
              "ticks": ""
             }
            },
            "type": "scattergeo"
           }
          ],
          "scattergl": [
           {
            "marker": {
             "colorbar": {
              "outlinewidth": 0,
              "ticks": ""
             }
            },
            "type": "scattergl"
           }
          ],
          "scattermapbox": [
           {
            "marker": {
             "colorbar": {
              "outlinewidth": 0,
              "ticks": ""
             }
            },
            "type": "scattermapbox"
           }
          ],
          "scatterpolar": [
           {
            "marker": {
             "colorbar": {
              "outlinewidth": 0,
              "ticks": ""
             }
            },
            "type": "scatterpolar"
           }
          ],
          "scatterpolargl": [
           {
            "marker": {
             "colorbar": {
              "outlinewidth": 0,
              "ticks": ""
             }
            },
            "type": "scatterpolargl"
           }
          ],
          "scatterternary": [
           {
            "marker": {
             "colorbar": {
              "outlinewidth": 0,
              "ticks": ""
             }
            },
            "type": "scatterternary"
           }
          ],
          "surface": [
           {
            "colorbar": {
             "outlinewidth": 0,
             "ticks": ""
            },
            "colorscale": [
             [
              0,
              "#0d0887"
             ],
             [
              0.1111111111111111,
              "#46039f"
             ],
             [
              0.2222222222222222,
              "#7201a8"
             ],
             [
              0.3333333333333333,
              "#9c179e"
             ],
             [
              0.4444444444444444,
              "#bd3786"
             ],
             [
              0.5555555555555556,
              "#d8576b"
             ],
             [
              0.6666666666666666,
              "#ed7953"
             ],
             [
              0.7777777777777778,
              "#fb9f3a"
             ],
             [
              0.8888888888888888,
              "#fdca26"
             ],
             [
              1,
              "#f0f921"
             ]
            ],
            "type": "surface"
           }
          ],
          "table": [
           {
            "cells": {
             "fill": {
              "color": "#EBF0F8"
             },
             "line": {
              "color": "white"
             }
            },
            "header": {
             "fill": {
              "color": "#C8D4E3"
             },
             "line": {
              "color": "white"
             }
            },
            "type": "table"
           }
          ]
         },
         "layout": {
          "annotationdefaults": {
           "arrowcolor": "#2a3f5f",
           "arrowhead": 0,
           "arrowwidth": 1
          },
          "autotypenumbers": "strict",
          "coloraxis": {
           "colorbar": {
            "outlinewidth": 0,
            "ticks": ""
           }
          },
          "colorscale": {
           "diverging": [
            [
             0,
             "#8e0152"
            ],
            [
             0.1,
             "#c51b7d"
            ],
            [
             0.2,
             "#de77ae"
            ],
            [
             0.3,
             "#f1b6da"
            ],
            [
             0.4,
             "#fde0ef"
            ],
            [
             0.5,
             "#f7f7f7"
            ],
            [
             0.6,
             "#e6f5d0"
            ],
            [
             0.7,
             "#b8e186"
            ],
            [
             0.8,
             "#7fbc41"
            ],
            [
             0.9,
             "#4d9221"
            ],
            [
             1,
             "#276419"
            ]
           ],
           "sequential": [
            [
             0,
             "#0d0887"
            ],
            [
             0.1111111111111111,
             "#46039f"
            ],
            [
             0.2222222222222222,
             "#7201a8"
            ],
            [
             0.3333333333333333,
             "#9c179e"
            ],
            [
             0.4444444444444444,
             "#bd3786"
            ],
            [
             0.5555555555555556,
             "#d8576b"
            ],
            [
             0.6666666666666666,
             "#ed7953"
            ],
            [
             0.7777777777777778,
             "#fb9f3a"
            ],
            [
             0.8888888888888888,
             "#fdca26"
            ],
            [
             1,
             "#f0f921"
            ]
           ],
           "sequentialminus": [
            [
             0,
             "#0d0887"
            ],
            [
             0.1111111111111111,
             "#46039f"
            ],
            [
             0.2222222222222222,
             "#7201a8"
            ],
            [
             0.3333333333333333,
             "#9c179e"
            ],
            [
             0.4444444444444444,
             "#bd3786"
            ],
            [
             0.5555555555555556,
             "#d8576b"
            ],
            [
             0.6666666666666666,
             "#ed7953"
            ],
            [
             0.7777777777777778,
             "#fb9f3a"
            ],
            [
             0.8888888888888888,
             "#fdca26"
            ],
            [
             1,
             "#f0f921"
            ]
           ]
          },
          "colorway": [
           "#636efa",
           "#EF553B",
           "#00cc96",
           "#ab63fa",
           "#FFA15A",
           "#19d3f3",
           "#FF6692",
           "#B6E880",
           "#FF97FF",
           "#FECB52"
          ],
          "font": {
           "color": "#2a3f5f"
          },
          "geo": {
           "bgcolor": "white",
           "lakecolor": "white",
           "landcolor": "#E5ECF6",
           "showlakes": true,
           "showland": true,
           "subunitcolor": "white"
          },
          "hoverlabel": {
           "align": "left"
          },
          "hovermode": "closest",
          "mapbox": {
           "style": "light"
          },
          "paper_bgcolor": "white",
          "plot_bgcolor": "#E5ECF6",
          "polar": {
           "angularaxis": {
            "gridcolor": "white",
            "linecolor": "white",
            "ticks": ""
           },
           "bgcolor": "#E5ECF6",
           "radialaxis": {
            "gridcolor": "white",
            "linecolor": "white",
            "ticks": ""
           }
          },
          "scene": {
           "xaxis": {
            "backgroundcolor": "#E5ECF6",
            "gridcolor": "white",
            "gridwidth": 2,
            "linecolor": "white",
            "showbackground": true,
            "ticks": "",
            "zerolinecolor": "white"
           },
           "yaxis": {
            "backgroundcolor": "#E5ECF6",
            "gridcolor": "white",
            "gridwidth": 2,
            "linecolor": "white",
            "showbackground": true,
            "ticks": "",
            "zerolinecolor": "white"
           },
           "zaxis": {
            "backgroundcolor": "#E5ECF6",
            "gridcolor": "white",
            "gridwidth": 2,
            "linecolor": "white",
            "showbackground": true,
            "ticks": "",
            "zerolinecolor": "white"
           }
          },
          "shapedefaults": {
           "line": {
            "color": "#2a3f5f"
           }
          },
          "ternary": {
           "aaxis": {
            "gridcolor": "white",
            "linecolor": "white",
            "ticks": ""
           },
           "baxis": {
            "gridcolor": "white",
            "linecolor": "white",
            "ticks": ""
           },
           "bgcolor": "#E5ECF6",
           "caxis": {
            "gridcolor": "white",
            "linecolor": "white",
            "ticks": ""
           }
          },
          "title": {
           "x": 0.05
          },
          "xaxis": {
           "automargin": true,
           "gridcolor": "white",
           "linecolor": "white",
           "ticks": "",
           "title": {
            "standoff": 15
           },
           "zerolinecolor": "white",
           "zerolinewidth": 2
          },
          "yaxis": {
           "automargin": true,
           "gridcolor": "white",
           "linecolor": "white",
           "ticks": "",
           "title": {
            "standoff": 15
           },
           "zerolinecolor": "white",
           "zerolinewidth": 2
          }
         }
        },
        "title": {
         "text": "Aggregated Labeled Outgoing Transactions over time"
        },
        "xaxis": {
         "anchor": "y",
         "domain": [
          0,
          0.98
         ],
         "title": {
          "text": "BLOCK_TIMESTAMP"
         }
        },
        "yaxis": {
         "anchor": "x",
         "domain": [
          0,
          1
         ],
         "title": {
          "text": "TX_HASH"
         }
        }
       }
      }
     },
     "metadata": {},
     "output_type": "display_data"
    }
   ],
   "source": [
    "tmp = agg_transactions_per_wallet.reset_index()\n",
    "tmp = tmp[tmp['SIDE']=='outgoing']\n",
    "fig = px.bar(tmp, x=\"BLOCK_TIMESTAMP\", y=\"TX_HASH\", facet_row=\"SIDE\", color='LABEL',\n",
    "\t\t   title='Aggregated Labeled Outgoing Transactions over time')\n",
    "# fig.update_yaxes(title='Number of Transactions')\n",
    "# fig.update_xaxes(title='Date')\n",
    "# fig.update_layout(height=700)\n",
    "fig"
   ]
  },
  {
   "cell_type": "code",
   "execution_count": 182,
   "metadata": {},
   "outputs": [
    {
     "data": {
      "text/html": [
       "<div>\n",
       "<style scoped>\n",
       "    .dataframe tbody tr th:only-of-type {\n",
       "        vertical-align: middle;\n",
       "    }\n",
       "\n",
       "    .dataframe tbody tr th {\n",
       "        vertical-align: top;\n",
       "    }\n",
       "\n",
       "    .dataframe thead th {\n",
       "        text-align: right;\n",
       "    }\n",
       "</style>\n",
       "<table border=\"1\" class=\"dataframe\">\n",
       "  <thead>\n",
       "    <tr style=\"text-align: right;\">\n",
       "      <th></th>\n",
       "      <th>SIDE</th>\n",
       "      <th>LABEL</th>\n",
       "      <th>TX_FEE</th>\n",
       "    </tr>\n",
       "  </thead>\n",
       "  <tbody>\n",
       "    <tr>\n",
       "      <th>0</th>\n",
       "      <td>incoming</td>\n",
       "      <td>celsius network</td>\n",
       "      <td>0.002940</td>\n",
       "    </tr>\n",
       "    <tr>\n",
       "      <th>1</th>\n",
       "      <td>outgoing</td>\n",
       "      <td>celsius network</td>\n",
       "      <td>0.000973</td>\n",
       "    </tr>\n",
       "    <tr>\n",
       "      <th>2</th>\n",
       "      <td>outgoing</td>\n",
       "      <td>other</td>\n",
       "      <td>0.042399</td>\n",
       "    </tr>\n",
       "  </tbody>\n",
       "</table>\n",
       "</div>"
      ],
      "text/plain": [
       "       SIDE            LABEL    TX_FEE\n",
       "0  incoming  celsius network  0.002940\n",
       "1  outgoing  celsius network  0.000973\n",
       "2  outgoing            other  0.042399"
      ]
     },
     "execution_count": 182,
     "metadata": {},
     "output_type": "execute_result"
    }
   ],
   "source": [
    "transactions_per_wallet.groupby(['SIDE', 'LABEL'])['TX_FEE'].sum().reset_index()"
   ]
  },
  {
   "cell_type": "code",
   "execution_count": 217,
   "metadata": {},
   "outputs": [
    {
     "data": {
      "text/plain": [
       "Index(['BLOCK_NUMBER', 'BLOCK_TIMESTAMP', 'BLOCK_HASH', 'TX_HASH', 'NONCE',\n",
       "       'POSITION', 'ORIGIN_FUNCTION_SIGNATURE', 'FROM_ADDRESS', 'TO_ADDRESS',\n",
       "       'ETH_VALUE', 'TX_FEE', 'GAS_PRICE', 'GAS_LIMIT', 'GAS_USED',\n",
       "       'CUMULATIVE_GAS_USED', 'INPUT_DATA', 'STATUS', 'TX_JSON', 'BLOCKCHAIN',\n",
       "       'CREATOR', 'ADDRESS', 'ADDRESS_NAME', 'LABEL_TYPE', 'LABEL_SUBTYPE',\n",
       "       'LABEL', 'SIDE'],\n",
       "      dtype='object')"
      ]
     },
     "execution_count": 217,
     "metadata": {},
     "output_type": "execute_result"
    }
   ],
   "source": [
    "transactions_per_wallet.columns"
   ]
  },
  {
   "cell_type": "code",
   "execution_count": 219,
   "metadata": {},
   "outputs": [
    {
     "data": {
      "text/html": [
       "<div>\n",
       "<style scoped>\n",
       "    .dataframe tbody tr th:only-of-type {\n",
       "        vertical-align: middle;\n",
       "    }\n",
       "\n",
       "    .dataframe tbody tr th {\n",
       "        vertical-align: top;\n",
       "    }\n",
       "\n",
       "    .dataframe thead th {\n",
       "        text-align: right;\n",
       "    }\n",
       "</style>\n",
       "<table border=\"1\" class=\"dataframe\">\n",
       "  <thead>\n",
       "    <tr style=\"text-align: right;\">\n",
       "      <th></th>\n",
       "      <th>TX_HASH</th>\n",
       "      <th>BLOCK_TIMESTAMP</th>\n",
       "      <th>SIDE</th>\n",
       "      <th>FROM_ADDRESS</th>\n",
       "      <th>TO_ADDRESS</th>\n",
       "      <th>ETH_VALUE</th>\n",
       "      <th>TX_FEE</th>\n",
       "      <th>ADDRESS_NAME</th>\n",
       "      <th>LABEL_TYPE</th>\n",
       "      <th>LABEL_SUBTYPE</th>\n",
       "      <th>LABEL</th>\n",
       "    </tr>\n",
       "  </thead>\n",
       "  <tbody>\n",
       "    <tr>\n",
       "      <th>0</th>\n",
       "      <td>0x7073a7e0f2abb6879b135be49b56dc61f04ca7f541b3...</td>\n",
       "      <td>2022-02-09 09:22:23</td>\n",
       "      <td>outgoing</td>\n",
       "      <td>0x8dad4658ee06122fb9b105a8dea1d185ac428687</td>\n",
       "      <td>0xeea3311250fe4c3268f8e684f7c87a82ff183ec1</td>\n",
       "      <td>3250</td>\n",
       "      <td>0.008037</td>\n",
       "      <td>other</td>\n",
       "      <td>other</td>\n",
       "      <td>other</td>\n",
       "      <td>other</td>\n",
       "    </tr>\n",
       "    <tr>\n",
       "      <th>1</th>\n",
       "      <td>0xe40e2fb166ed24b731f5ad4e5ec72a408ce45368b9ed...</td>\n",
       "      <td>2022-03-02 11:32:52</td>\n",
       "      <td>outgoing</td>\n",
       "      <td>0x8dad4658ee06122fb9b105a8dea1d185ac428687</td>\n",
       "      <td>0xeea3311250fe4c3268f8e684f7c87a82ff183ec1</td>\n",
       "      <td>0</td>\n",
       "      <td>0.005209</td>\n",
       "      <td>other</td>\n",
       "      <td>other</td>\n",
       "      <td>other</td>\n",
       "      <td>other</td>\n",
       "    </tr>\n",
       "    <tr>\n",
       "      <th>2</th>\n",
       "      <td>0x27dcde3b97d51f10f1d6d94e245716a8c98015280e0f...</td>\n",
       "      <td>2022-02-09 09:11:25</td>\n",
       "      <td>incoming</td>\n",
       "      <td>0xef22c14f46858d5ac61326497b056974167f2ee1</td>\n",
       "      <td>0x8dad4658ee06122fb9b105a8dea1d185ac428687</td>\n",
       "      <td>3250</td>\n",
       "      <td>0.001075</td>\n",
       "      <td>celsius wallet</td>\n",
       "      <td>defi</td>\n",
       "      <td>general_contract</td>\n",
       "      <td>celsius network</td>\n",
       "    </tr>\n",
       "    <tr>\n",
       "      <th>3</th>\n",
       "      <td>0xb04f3b39abad174e0b7abd593bb9c5d49448d6115709...</td>\n",
       "      <td>2022-02-03 14:25:34</td>\n",
       "      <td>incoming</td>\n",
       "      <td>0xef22c14f46858d5ac61326497b056974167f2ee1</td>\n",
       "      <td>0x8dad4658ee06122fb9b105a8dea1d185ac428687</td>\n",
       "      <td>9300</td>\n",
       "      <td>0.001866</td>\n",
       "      <td>celsius wallet</td>\n",
       "      <td>defi</td>\n",
       "      <td>general_contract</td>\n",
       "      <td>celsius network</td>\n",
       "    </tr>\n",
       "    <tr>\n",
       "      <th>4</th>\n",
       "      <td>0x3069fd7851349fcdcd1c7c70cbd7aeee550e8aa32a46...</td>\n",
       "      <td>2022-03-28 10:04:33</td>\n",
       "      <td>outgoing</td>\n",
       "      <td>0x8dad4658ee06122fb9b105a8dea1d185ac428687</td>\n",
       "      <td>0xeea3311250fe4c3268f8e684f7c87a82ff183ec1</td>\n",
       "      <td>0</td>\n",
       "      <td>0.006155</td>\n",
       "      <td>other</td>\n",
       "      <td>other</td>\n",
       "      <td>other</td>\n",
       "      <td>other</td>\n",
       "    </tr>\n",
       "    <tr>\n",
       "      <th>5</th>\n",
       "      <td>0xb64dff1b3bc33cbdfa19c91051185d8f410db3f5a997...</td>\n",
       "      <td>2022-03-28 11:01:26</td>\n",
       "      <td>outgoing</td>\n",
       "      <td>0x8dad4658ee06122fb9b105a8dea1d185ac428687</td>\n",
       "      <td>0xef22c14f46858d5ac61326497b056974167f2ee1</td>\n",
       "      <td>7977</td>\n",
       "      <td>0.000405</td>\n",
       "      <td>celsius wallet</td>\n",
       "      <td>defi</td>\n",
       "      <td>general_contract</td>\n",
       "      <td>celsius network</td>\n",
       "    </tr>\n",
       "    <tr>\n",
       "      <th>6</th>\n",
       "      <td>0x4043e89fbf25406509bbd27455b73e1119c806162651...</td>\n",
       "      <td>2022-03-02 12:34:07</td>\n",
       "      <td>outgoing</td>\n",
       "      <td>0x8dad4658ee06122fb9b105a8dea1d185ac428687</td>\n",
       "      <td>0xef22c14f46858d5ac61326497b056974167f2ee1</td>\n",
       "      <td>6668</td>\n",
       "      <td>0.000568</td>\n",
       "      <td>celsius wallet</td>\n",
       "      <td>defi</td>\n",
       "      <td>general_contract</td>\n",
       "      <td>celsius network</td>\n",
       "    </tr>\n",
       "    <tr>\n",
       "      <th>7</th>\n",
       "      <td>0x2936566d37d298a4937746c32f72c59cbb7875b20274...</td>\n",
       "      <td>2022-02-03 14:53:43</td>\n",
       "      <td>outgoing</td>\n",
       "      <td>0x8dad4658ee06122fb9b105a8dea1d185ac428687</td>\n",
       "      <td>0xeea3311250fe4c3268f8e684f7c87a82ff183ec1</td>\n",
       "      <td>9298</td>\n",
       "      <td>0.022997</td>\n",
       "      <td>other</td>\n",
       "      <td>other</td>\n",
       "      <td>other</td>\n",
       "      <td>other</td>\n",
       "    </tr>\n",
       "  </tbody>\n",
       "</table>\n",
       "</div>"
      ],
      "text/plain": [
       "                                             TX_HASH     BLOCK_TIMESTAMP  \\\n",
       "0  0x7073a7e0f2abb6879b135be49b56dc61f04ca7f541b3... 2022-02-09 09:22:23   \n",
       "1  0xe40e2fb166ed24b731f5ad4e5ec72a408ce45368b9ed... 2022-03-02 11:32:52   \n",
       "2  0x27dcde3b97d51f10f1d6d94e245716a8c98015280e0f... 2022-02-09 09:11:25   \n",
       "3  0xb04f3b39abad174e0b7abd593bb9c5d49448d6115709... 2022-02-03 14:25:34   \n",
       "4  0x3069fd7851349fcdcd1c7c70cbd7aeee550e8aa32a46... 2022-03-28 10:04:33   \n",
       "5  0xb64dff1b3bc33cbdfa19c91051185d8f410db3f5a997... 2022-03-28 11:01:26   \n",
       "6  0x4043e89fbf25406509bbd27455b73e1119c806162651... 2022-03-02 12:34:07   \n",
       "7  0x2936566d37d298a4937746c32f72c59cbb7875b20274... 2022-02-03 14:53:43   \n",
       "\n",
       "       SIDE                                FROM_ADDRESS  \\\n",
       "0  outgoing  0x8dad4658ee06122fb9b105a8dea1d185ac428687   \n",
       "1  outgoing  0x8dad4658ee06122fb9b105a8dea1d185ac428687   \n",
       "2  incoming  0xef22c14f46858d5ac61326497b056974167f2ee1   \n",
       "3  incoming  0xef22c14f46858d5ac61326497b056974167f2ee1   \n",
       "4  outgoing  0x8dad4658ee06122fb9b105a8dea1d185ac428687   \n",
       "5  outgoing  0x8dad4658ee06122fb9b105a8dea1d185ac428687   \n",
       "6  outgoing  0x8dad4658ee06122fb9b105a8dea1d185ac428687   \n",
       "7  outgoing  0x8dad4658ee06122fb9b105a8dea1d185ac428687   \n",
       "\n",
       "                                   TO_ADDRESS  ETH_VALUE    TX_FEE  \\\n",
       "0  0xeea3311250fe4c3268f8e684f7c87a82ff183ec1       3250  0.008037   \n",
       "1  0xeea3311250fe4c3268f8e684f7c87a82ff183ec1          0  0.005209   \n",
       "2  0x8dad4658ee06122fb9b105a8dea1d185ac428687       3250  0.001075   \n",
       "3  0x8dad4658ee06122fb9b105a8dea1d185ac428687       9300  0.001866   \n",
       "4  0xeea3311250fe4c3268f8e684f7c87a82ff183ec1          0  0.006155   \n",
       "5  0xef22c14f46858d5ac61326497b056974167f2ee1       7977  0.000405   \n",
       "6  0xef22c14f46858d5ac61326497b056974167f2ee1       6668  0.000568   \n",
       "7  0xeea3311250fe4c3268f8e684f7c87a82ff183ec1       9298  0.022997   \n",
       "\n",
       "     ADDRESS_NAME LABEL_TYPE     LABEL_SUBTYPE            LABEL  \n",
       "0           other      other             other            other  \n",
       "1           other      other             other            other  \n",
       "2  celsius wallet       defi  general_contract  celsius network  \n",
       "3  celsius wallet       defi  general_contract  celsius network  \n",
       "4           other      other             other            other  \n",
       "5  celsius wallet       defi  general_contract  celsius network  \n",
       "6  celsius wallet       defi  general_contract  celsius network  \n",
       "7           other      other             other            other  "
      ]
     },
     "execution_count": 219,
     "metadata": {},
     "output_type": "execute_result"
    }
   ],
   "source": [
    "cols = [\n",
    "\t'TX_HASH', 'SIDE', 'BLOCK_TIMESTAMP', 'FROM_ADDRESS', 'TO_ADDRESS', 'ETH_VALUE', 'TX_FEE', \n",
    "\t'ADDRESS_NAME', 'LABEL_TYPE', 'LABEL_SUBTYPE',\n",
    "\t'LABEL'\n",
    "]\n",
    "transactions_per_wallet[cols]"
   ]
  },
  {
   "cell_type": "markdown",
   "metadata": {},
   "source": [
    "# balances"
   ]
  },
  {
   "cell_type": "code",
   "execution_count": 185,
   "metadata": {},
   "outputs": [
    {
     "data": {
      "application/vnd.plotly.v1+json": {
       "config": {
        "plotlyServerURL": "https://plotly.com"
       },
       "data": [
        {
         "alignmentgroup": "True",
         "hovertemplate": "SYMBOL=ETH<br>BALANCE_DATE=%{x}<br>AMOUNT_USD=%{y}<extra></extra>",
         "legendgroup": "ETH",
         "marker": {
          "color": "#636efa",
          "pattern": {
           "shape": ""
          }
         },
         "name": "ETH",
         "offsetgroup": "ETH",
         "orientation": "v",
         "showlegend": true,
         "textposition": "auto",
         "type": "bar",
         "x": [
          "2022-02-01T00:00:00",
          "2022-02-02T00:00:00",
          "2022-02-03T00:00:00",
          "2022-02-04T00:00:00",
          "2022-02-05T00:00:00",
          "2022-02-06T00:00:00",
          "2022-02-07T00:00:00",
          "2022-02-08T00:00:00",
          "2022-02-09T00:00:00",
          "2022-02-10T00:00:00",
          "2022-02-11T00:00:00",
          "2022-02-12T00:00:00",
          "2022-02-13T00:00:00",
          "2022-02-14T00:00:00",
          "2022-02-15T00:00:00",
          "2022-02-16T00:00:00",
          "2022-02-17T00:00:00",
          "2022-02-18T00:00:00",
          "2022-02-19T00:00:00",
          "2022-02-20T00:00:00",
          "2022-02-21T00:00:00",
          "2022-02-22T00:00:00",
          "2022-02-23T00:00:00",
          "2022-02-24T00:00:00",
          "2022-02-25T00:00:00",
          "2022-02-26T00:00:00",
          "2022-02-27T00:00:00",
          "2022-02-28T00:00:00",
          "2022-03-01T00:00:00",
          "2022-03-02T00:00:00",
          "2022-03-03T00:00:00",
          "2022-03-04T00:00:00",
          "2022-03-05T00:00:00",
          "2022-03-06T00:00:00",
          "2022-03-07T00:00:00",
          "2022-03-08T00:00:00",
          "2022-03-09T00:00:00",
          "2022-03-10T00:00:00",
          "2022-03-11T00:00:00",
          "2022-03-12T00:00:00",
          "2022-03-13T00:00:00",
          "2022-03-14T00:00:00",
          "2022-03-15T00:00:00",
          "2022-03-16T00:00:00",
          "2022-03-17T00:00:00",
          "2022-03-18T00:00:00",
          "2022-03-19T00:00:00",
          "2022-03-20T00:00:00",
          "2022-03-21T00:00:00",
          "2022-03-22T00:00:00",
          "2022-03-23T00:00:00",
          "2022-03-24T00:00:00",
          "2022-03-25T00:00:00",
          "2022-03-26T00:00:00",
          "2022-03-27T00:00:00",
          "2022-03-28T00:00:00",
          "2022-03-29T00:00:00",
          "2022-03-30T00:00:00",
          "2022-03-31T00:00:00",
          "2022-04-01T00:00:00",
          "2022-04-02T00:00:00",
          "2022-04-03T00:00:00",
          "2022-04-04T00:00:00",
          "2022-04-05T00:00:00",
          "2022-04-06T00:00:00",
          "2022-04-07T00:00:00",
          "2022-04-08T00:00:00",
          "2022-04-09T00:00:00",
          "2022-04-10T00:00:00",
          "2022-04-11T00:00:00",
          "2022-04-12T00:00:00",
          "2022-04-13T00:00:00",
          "2022-04-14T00:00:00",
          "2022-04-15T00:00:00",
          "2022-04-16T00:00:00",
          "2022-04-17T00:00:00",
          "2022-04-18T00:00:00",
          "2022-04-19T00:00:00",
          "2022-04-20T00:00:00",
          "2022-04-21T00:00:00",
          "2022-04-22T00:00:00",
          "2022-04-23T00:00:00",
          "2022-04-24T00:00:00",
          "2022-04-25T00:00:00",
          "2022-04-26T00:00:00",
          "2022-04-27T00:00:00",
          "2022-04-28T00:00:00",
          "2022-04-29T00:00:00",
          "2022-04-30T00:00:00",
          "2022-05-01T00:00:00",
          "2022-05-02T00:00:00",
          "2022-05-03T00:00:00",
          "2022-05-04T00:00:00",
          "2022-05-05T00:00:00",
          "2022-05-06T00:00:00",
          "2022-05-07T00:00:00",
          "2022-05-08T00:00:00",
          "2022-05-09T00:00:00",
          "2022-05-10T00:00:00",
          "2022-05-11T00:00:00",
          "2022-05-12T00:00:00",
          "2022-05-13T00:00:00",
          "2022-05-14T00:00:00",
          "2022-05-15T00:00:00",
          "2022-05-16T00:00:00",
          "2022-05-17T00:00:00",
          "2022-05-18T00:00:00",
          "2022-05-19T00:00:00",
          "2022-05-20T00:00:00",
          "2022-05-21T00:00:00",
          "2022-05-22T00:00:00",
          "2022-05-23T00:00:00",
          "2022-05-24T00:00:00",
          "2022-05-25T00:00:00",
          "2022-05-26T00:00:00",
          "2022-05-27T00:00:00",
          "2022-05-28T00:00:00",
          "2022-05-29T00:00:00",
          "2022-05-30T00:00:00",
          "2022-05-31T00:00:00",
          "2022-06-01T00:00:00",
          "2022-06-02T00:00:00",
          "2022-06-03T00:00:00",
          "2022-06-04T00:00:00",
          "2022-06-05T00:00:00",
          "2022-06-06T00:00:00",
          "2022-06-07T00:00:00",
          "2022-06-08T00:00:00",
          "2022-06-09T00:00:00",
          "2022-06-10T00:00:00",
          "2022-06-11T00:00:00",
          "2022-06-12T00:00:00",
          "2022-06-13T00:00:00",
          "2022-06-14T00:00:00",
          "2022-06-15T00:00:00",
          "2022-06-16T00:00:00",
          "2022-06-17T00:00:00",
          "2022-06-18T00:00:00",
          "2022-06-19T00:00:00",
          "2022-06-20T00:00:00",
          "2022-06-21T00:00:00",
          "2022-06-22T00:00:00",
          "2022-06-23T00:00:00",
          "2022-06-24T00:00:00",
          "2022-06-25T00:00:00",
          "2022-06-26T00:00:00",
          "2022-06-27T00:00:00",
          "2022-06-28T00:00:00",
          "2022-06-29T00:00:00",
          "2022-06-30T00:00:00"
         ],
         "xaxis": "x",
         "y": [
          122.298991675,
          121.527607416,
          5344.844813287,
          5725.82529168,
          6090.243865518,
          6082.789670937,
          6260.756436795,
          6291.240890065,
          6355.171047469,
          6418.79365271,
          6147.531168326,
          5894.580385939,
          5864.46106372,
          5826.918006128,
          6190.932121331,
          6314.289158814,
          6089.937624218,
          5782.413302567,
          5573.316821136,
          5352.903899015,
          5401.59484368,
          5201.537616312,
          5361.17569431,
          4958.931283252,
          5361.591783555,
          5618.848700775,
          5497.093673883,
          5443.301344438,
          5912.015809884,
          2808.258352609,
          2726.232871935,
          2555.544558098,
          2501.510650934,
          2491.987414082,
          2404.121387258,
          2421.059008695,
          2563.394706871,
          2473.908332762,
          2443.193921205,
          2445.736398711,
          2434.827730495,
          2422.531487134,
          2423.785033679,
          2544.05805401,
          2635.757679253,
          2691.926366066,
          2790.232488637,
          2739.861647774,
          2737.511378321,
          2832.144070528,
          2810.292650902,
          2896.778761808,
          2959.791765336,
          2952.112692745,
          2997.513450091,
          3935.855024081,
          4008.345539558,
          3987.906901407,
          3958.355344086,
          3932.550310986,
          4091.09149335,
          4103.124761152,
          4098.782676921,
          4106.451646041,
          3873.922830681,
          3781.658593549,
          3829.082285945,
          3787.605407933,
          3832.237377387,
          3633.651724789,
          3545.533986784,
          3606.215285661,
          3611.795051488,
          3562.578180917,
          3574.809606347,
          3585.321030507,
          3482.328915636,
          3613.646505354,
          3638.128140532,
          3630.082413368,
          3514.176262719,
          3480.76660157,
          3463.1703537,
          3403.593620176,
          3459.03733699,
          3369.409080097,
          3428.753819967,
          3379.028081202,
          3309.04977875,
          3269.519290458,
          3333.318751086,
          3321.776629861,
          3355.216836021,
          3365.758495437,
          3190.122908359,
          3148.786096711,
          3004.868292338,
          2821.481431533,
          2774.023260388,
          2686.972592797,
          2293.943414502,
          2438.408988281,
          2373.756762651,
          2427.812557742,
          2399.708797788,
          2432.163363646,
          2365.141998665,
          2314.162956457,
          2348.743904668,
          2317.534058935,
          2353.779703675,
          2399.128321053,
          2316.981325106,
          2320.083152515,
          2204.72552634,
          2074.12817915,
          2082.288418087,
          2108.766135836,
          2240.081301971,
          2315.336249226,
          2234.022895189,
          2142.701750083,
          2103.607417459,
          2085.242155553,
          2115.971476543,
          2206.302638923,
          2069.822914095,
          2115.898618009,
          2115.494177282,
          2049.649761681,
          1879.590823749,
          1743.214769066,
          1496.962861304,
          1407.425482722,
          1340.034009418,
          1347.106763985,
          1280.21588161,
          1187.249594865,
          1211.141393152,
          1301.766849869,
          1346.428277901,
          1278.742752722,
          1296.933384793,
          1391.635998857,
          1430.116877311,
          1451.632376249,
          1422.733454203,
          1400.516029939,
          1321.556298539,
          1243.045368829
         ],
         "yaxis": "y"
        }
       ],
       "layout": {
        "barmode": "relative",
        "legend": {
         "title": {
          "text": "SYMBOL"
         },
         "tracegroupgap": 0
        },
        "margin": {
         "t": 60
        },
        "template": {
         "data": {
          "bar": [
           {
            "error_x": {
             "color": "#2a3f5f"
            },
            "error_y": {
             "color": "#2a3f5f"
            },
            "marker": {
             "line": {
              "color": "#E5ECF6",
              "width": 0.5
             },
             "pattern": {
              "fillmode": "overlay",
              "size": 10,
              "solidity": 0.2
             }
            },
            "type": "bar"
           }
          ],
          "barpolar": [
           {
            "marker": {
             "line": {
              "color": "#E5ECF6",
              "width": 0.5
             },
             "pattern": {
              "fillmode": "overlay",
              "size": 10,
              "solidity": 0.2
             }
            },
            "type": "barpolar"
           }
          ],
          "carpet": [
           {
            "aaxis": {
             "endlinecolor": "#2a3f5f",
             "gridcolor": "white",
             "linecolor": "white",
             "minorgridcolor": "white",
             "startlinecolor": "#2a3f5f"
            },
            "baxis": {
             "endlinecolor": "#2a3f5f",
             "gridcolor": "white",
             "linecolor": "white",
             "minorgridcolor": "white",
             "startlinecolor": "#2a3f5f"
            },
            "type": "carpet"
           }
          ],
          "choropleth": [
           {
            "colorbar": {
             "outlinewidth": 0,
             "ticks": ""
            },
            "type": "choropleth"
           }
          ],
          "contour": [
           {
            "colorbar": {
             "outlinewidth": 0,
             "ticks": ""
            },
            "colorscale": [
             [
              0,
              "#0d0887"
             ],
             [
              0.1111111111111111,
              "#46039f"
             ],
             [
              0.2222222222222222,
              "#7201a8"
             ],
             [
              0.3333333333333333,
              "#9c179e"
             ],
             [
              0.4444444444444444,
              "#bd3786"
             ],
             [
              0.5555555555555556,
              "#d8576b"
             ],
             [
              0.6666666666666666,
              "#ed7953"
             ],
             [
              0.7777777777777778,
              "#fb9f3a"
             ],
             [
              0.8888888888888888,
              "#fdca26"
             ],
             [
              1,
              "#f0f921"
             ]
            ],
            "type": "contour"
           }
          ],
          "contourcarpet": [
           {
            "colorbar": {
             "outlinewidth": 0,
             "ticks": ""
            },
            "type": "contourcarpet"
           }
          ],
          "heatmap": [
           {
            "colorbar": {
             "outlinewidth": 0,
             "ticks": ""
            },
            "colorscale": [
             [
              0,
              "#0d0887"
             ],
             [
              0.1111111111111111,
              "#46039f"
             ],
             [
              0.2222222222222222,
              "#7201a8"
             ],
             [
              0.3333333333333333,
              "#9c179e"
             ],
             [
              0.4444444444444444,
              "#bd3786"
             ],
             [
              0.5555555555555556,
              "#d8576b"
             ],
             [
              0.6666666666666666,
              "#ed7953"
             ],
             [
              0.7777777777777778,
              "#fb9f3a"
             ],
             [
              0.8888888888888888,
              "#fdca26"
             ],
             [
              1,
              "#f0f921"
             ]
            ],
            "type": "heatmap"
           }
          ],
          "heatmapgl": [
           {
            "colorbar": {
             "outlinewidth": 0,
             "ticks": ""
            },
            "colorscale": [
             [
              0,
              "#0d0887"
             ],
             [
              0.1111111111111111,
              "#46039f"
             ],
             [
              0.2222222222222222,
              "#7201a8"
             ],
             [
              0.3333333333333333,
              "#9c179e"
             ],
             [
              0.4444444444444444,
              "#bd3786"
             ],
             [
              0.5555555555555556,
              "#d8576b"
             ],
             [
              0.6666666666666666,
              "#ed7953"
             ],
             [
              0.7777777777777778,
              "#fb9f3a"
             ],
             [
              0.8888888888888888,
              "#fdca26"
             ],
             [
              1,
              "#f0f921"
             ]
            ],
            "type": "heatmapgl"
           }
          ],
          "histogram": [
           {
            "marker": {
             "pattern": {
              "fillmode": "overlay",
              "size": 10,
              "solidity": 0.2
             }
            },
            "type": "histogram"
           }
          ],
          "histogram2d": [
           {
            "colorbar": {
             "outlinewidth": 0,
             "ticks": ""
            },
            "colorscale": [
             [
              0,
              "#0d0887"
             ],
             [
              0.1111111111111111,
              "#46039f"
             ],
             [
              0.2222222222222222,
              "#7201a8"
             ],
             [
              0.3333333333333333,
              "#9c179e"
             ],
             [
              0.4444444444444444,
              "#bd3786"
             ],
             [
              0.5555555555555556,
              "#d8576b"
             ],
             [
              0.6666666666666666,
              "#ed7953"
             ],
             [
              0.7777777777777778,
              "#fb9f3a"
             ],
             [
              0.8888888888888888,
              "#fdca26"
             ],
             [
              1,
              "#f0f921"
             ]
            ],
            "type": "histogram2d"
           }
          ],
          "histogram2dcontour": [
           {
            "colorbar": {
             "outlinewidth": 0,
             "ticks": ""
            },
            "colorscale": [
             [
              0,
              "#0d0887"
             ],
             [
              0.1111111111111111,
              "#46039f"
             ],
             [
              0.2222222222222222,
              "#7201a8"
             ],
             [
              0.3333333333333333,
              "#9c179e"
             ],
             [
              0.4444444444444444,
              "#bd3786"
             ],
             [
              0.5555555555555556,
              "#d8576b"
             ],
             [
              0.6666666666666666,
              "#ed7953"
             ],
             [
              0.7777777777777778,
              "#fb9f3a"
             ],
             [
              0.8888888888888888,
              "#fdca26"
             ],
             [
              1,
              "#f0f921"
             ]
            ],
            "type": "histogram2dcontour"
           }
          ],
          "mesh3d": [
           {
            "colorbar": {
             "outlinewidth": 0,
             "ticks": ""
            },
            "type": "mesh3d"
           }
          ],
          "parcoords": [
           {
            "line": {
             "colorbar": {
              "outlinewidth": 0,
              "ticks": ""
             }
            },
            "type": "parcoords"
           }
          ],
          "pie": [
           {
            "automargin": true,
            "type": "pie"
           }
          ],
          "scatter": [
           {
            "marker": {
             "colorbar": {
              "outlinewidth": 0,
              "ticks": ""
             }
            },
            "type": "scatter"
           }
          ],
          "scatter3d": [
           {
            "line": {
             "colorbar": {
              "outlinewidth": 0,
              "ticks": ""
             }
            },
            "marker": {
             "colorbar": {
              "outlinewidth": 0,
              "ticks": ""
             }
            },
            "type": "scatter3d"
           }
          ],
          "scattercarpet": [
           {
            "marker": {
             "colorbar": {
              "outlinewidth": 0,
              "ticks": ""
             }
            },
            "type": "scattercarpet"
           }
          ],
          "scattergeo": [
           {
            "marker": {
             "colorbar": {
              "outlinewidth": 0,
              "ticks": ""
             }
            },
            "type": "scattergeo"
           }
          ],
          "scattergl": [
           {
            "marker": {
             "colorbar": {
              "outlinewidth": 0,
              "ticks": ""
             }
            },
            "type": "scattergl"
           }
          ],
          "scattermapbox": [
           {
            "marker": {
             "colorbar": {
              "outlinewidth": 0,
              "ticks": ""
             }
            },
            "type": "scattermapbox"
           }
          ],
          "scatterpolar": [
           {
            "marker": {
             "colorbar": {
              "outlinewidth": 0,
              "ticks": ""
             }
            },
            "type": "scatterpolar"
           }
          ],
          "scatterpolargl": [
           {
            "marker": {
             "colorbar": {
              "outlinewidth": 0,
              "ticks": ""
             }
            },
            "type": "scatterpolargl"
           }
          ],
          "scatterternary": [
           {
            "marker": {
             "colorbar": {
              "outlinewidth": 0,
              "ticks": ""
             }
            },
            "type": "scatterternary"
           }
          ],
          "surface": [
           {
            "colorbar": {
             "outlinewidth": 0,
             "ticks": ""
            },
            "colorscale": [
             [
              0,
              "#0d0887"
             ],
             [
              0.1111111111111111,
              "#46039f"
             ],
             [
              0.2222222222222222,
              "#7201a8"
             ],
             [
              0.3333333333333333,
              "#9c179e"
             ],
             [
              0.4444444444444444,
              "#bd3786"
             ],
             [
              0.5555555555555556,
              "#d8576b"
             ],
             [
              0.6666666666666666,
              "#ed7953"
             ],
             [
              0.7777777777777778,
              "#fb9f3a"
             ],
             [
              0.8888888888888888,
              "#fdca26"
             ],
             [
              1,
              "#f0f921"
             ]
            ],
            "type": "surface"
           }
          ],
          "table": [
           {
            "cells": {
             "fill": {
              "color": "#EBF0F8"
             },
             "line": {
              "color": "white"
             }
            },
            "header": {
             "fill": {
              "color": "#C8D4E3"
             },
             "line": {
              "color": "white"
             }
            },
            "type": "table"
           }
          ]
         },
         "layout": {
          "annotationdefaults": {
           "arrowcolor": "#2a3f5f",
           "arrowhead": 0,
           "arrowwidth": 1
          },
          "autotypenumbers": "strict",
          "coloraxis": {
           "colorbar": {
            "outlinewidth": 0,
            "ticks": ""
           }
          },
          "colorscale": {
           "diverging": [
            [
             0,
             "#8e0152"
            ],
            [
             0.1,
             "#c51b7d"
            ],
            [
             0.2,
             "#de77ae"
            ],
            [
             0.3,
             "#f1b6da"
            ],
            [
             0.4,
             "#fde0ef"
            ],
            [
             0.5,
             "#f7f7f7"
            ],
            [
             0.6,
             "#e6f5d0"
            ],
            [
             0.7,
             "#b8e186"
            ],
            [
             0.8,
             "#7fbc41"
            ],
            [
             0.9,
             "#4d9221"
            ],
            [
             1,
             "#276419"
            ]
           ],
           "sequential": [
            [
             0,
             "#0d0887"
            ],
            [
             0.1111111111111111,
             "#46039f"
            ],
            [
             0.2222222222222222,
             "#7201a8"
            ],
            [
             0.3333333333333333,
             "#9c179e"
            ],
            [
             0.4444444444444444,
             "#bd3786"
            ],
            [
             0.5555555555555556,
             "#d8576b"
            ],
            [
             0.6666666666666666,
             "#ed7953"
            ],
            [
             0.7777777777777778,
             "#fb9f3a"
            ],
            [
             0.8888888888888888,
             "#fdca26"
            ],
            [
             1,
             "#f0f921"
            ]
           ],
           "sequentialminus": [
            [
             0,
             "#0d0887"
            ],
            [
             0.1111111111111111,
             "#46039f"
            ],
            [
             0.2222222222222222,
             "#7201a8"
            ],
            [
             0.3333333333333333,
             "#9c179e"
            ],
            [
             0.4444444444444444,
             "#bd3786"
            ],
            [
             0.5555555555555556,
             "#d8576b"
            ],
            [
             0.6666666666666666,
             "#ed7953"
            ],
            [
             0.7777777777777778,
             "#fb9f3a"
            ],
            [
             0.8888888888888888,
             "#fdca26"
            ],
            [
             1,
             "#f0f921"
            ]
           ]
          },
          "colorway": [
           "#636efa",
           "#EF553B",
           "#00cc96",
           "#ab63fa",
           "#FFA15A",
           "#19d3f3",
           "#FF6692",
           "#B6E880",
           "#FF97FF",
           "#FECB52"
          ],
          "font": {
           "color": "#2a3f5f"
          },
          "geo": {
           "bgcolor": "white",
           "lakecolor": "white",
           "landcolor": "#E5ECF6",
           "showlakes": true,
           "showland": true,
           "subunitcolor": "white"
          },
          "hoverlabel": {
           "align": "left"
          },
          "hovermode": "closest",
          "mapbox": {
           "style": "light"
          },
          "paper_bgcolor": "white",
          "plot_bgcolor": "#E5ECF6",
          "polar": {
           "angularaxis": {
            "gridcolor": "white",
            "linecolor": "white",
            "ticks": ""
           },
           "bgcolor": "#E5ECF6",
           "radialaxis": {
            "gridcolor": "white",
            "linecolor": "white",
            "ticks": ""
           }
          },
          "scene": {
           "xaxis": {
            "backgroundcolor": "#E5ECF6",
            "gridcolor": "white",
            "gridwidth": 2,
            "linecolor": "white",
            "showbackground": true,
            "ticks": "",
            "zerolinecolor": "white"
           },
           "yaxis": {
            "backgroundcolor": "#E5ECF6",
            "gridcolor": "white",
            "gridwidth": 2,
            "linecolor": "white",
            "showbackground": true,
            "ticks": "",
            "zerolinecolor": "white"
           },
           "zaxis": {
            "backgroundcolor": "#E5ECF6",
            "gridcolor": "white",
            "gridwidth": 2,
            "linecolor": "white",
            "showbackground": true,
            "ticks": "",
            "zerolinecolor": "white"
           }
          },
          "shapedefaults": {
           "line": {
            "color": "#2a3f5f"
           }
          },
          "ternary": {
           "aaxis": {
            "gridcolor": "white",
            "linecolor": "white",
            "ticks": ""
           },
           "baxis": {
            "gridcolor": "white",
            "linecolor": "white",
            "ticks": ""
           },
           "bgcolor": "#E5ECF6",
           "caxis": {
            "gridcolor": "white",
            "linecolor": "white",
            "ticks": ""
           }
          },
          "title": {
           "x": 0.05
          },
          "xaxis": {
           "automargin": true,
           "gridcolor": "white",
           "linecolor": "white",
           "ticks": "",
           "title": {
            "standoff": 15
           },
           "zerolinecolor": "white",
           "zerolinewidth": 2
          },
          "yaxis": {
           "automargin": true,
           "gridcolor": "white",
           "linecolor": "white",
           "ticks": "",
           "title": {
            "standoff": 15
           },
           "zerolinecolor": "white",
           "zerolinewidth": 2
          }
         }
        },
        "title": {
         "text": "Daily Balances"
        },
        "xaxis": {
         "anchor": "y",
         "domain": [
          0,
          1
         ],
         "title": {
          "text": "BALANCE_DATE"
         }
        },
        "yaxis": {
         "anchor": "x",
         "domain": [
          0,
          1
         ],
         "title": {
          "text": "AMOUNT_USD"
         }
        }
       }
      }
     },
     "metadata": {},
     "output_type": "display_data"
    }
   ],
   "source": [
    "fig = px.bar(erc20_balances_per_address, x='BALANCE_DATE', y='AMOUNT_USD', color='SYMBOL')\n",
    "fig.update_layout(title='Daily Balances')"
   ]
  },
  {
   "cell_type": "code",
   "execution_count": 186,
   "metadata": {},
   "outputs": [
    {
     "data": {
      "application/vnd.plotly.v1+json": {
       "config": {
        "plotlyServerURL": "https://plotly.com"
       },
       "data": [
        {
         "alignmentgroup": "True",
         "hovertemplate": "SYMBOL=ETH<br>BALANCE_DATE=%{x}<br>AMOUNT_USD_NORMALIZED=%{y}<extra></extra>",
         "legendgroup": "ETH",
         "marker": {
          "color": "#636efa",
          "pattern": {
           "shape": ""
          }
         },
         "name": "ETH",
         "offsetgroup": "ETH",
         "orientation": "v",
         "showlegend": true,
         "textposition": "auto",
         "type": "bar",
         "x": [
          "2022-02-01T00:00:00",
          "2022-02-02T00:00:00",
          "2022-02-03T00:00:00",
          "2022-02-04T00:00:00",
          "2022-02-05T00:00:00",
          "2022-02-06T00:00:00",
          "2022-02-07T00:00:00",
          "2022-02-08T00:00:00",
          "2022-02-09T00:00:00",
          "2022-02-10T00:00:00",
          "2022-02-11T00:00:00",
          "2022-02-12T00:00:00",
          "2022-02-13T00:00:00",
          "2022-02-14T00:00:00",
          "2022-02-15T00:00:00",
          "2022-02-16T00:00:00",
          "2022-02-17T00:00:00",
          "2022-02-18T00:00:00",
          "2022-02-19T00:00:00",
          "2022-02-20T00:00:00",
          "2022-02-21T00:00:00",
          "2022-02-22T00:00:00",
          "2022-02-23T00:00:00",
          "2022-02-24T00:00:00",
          "2022-02-25T00:00:00",
          "2022-02-26T00:00:00",
          "2022-02-27T00:00:00",
          "2022-02-28T00:00:00",
          "2022-03-01T00:00:00",
          "2022-03-02T00:00:00",
          "2022-03-03T00:00:00",
          "2022-03-04T00:00:00",
          "2022-03-05T00:00:00",
          "2022-03-06T00:00:00",
          "2022-03-07T00:00:00",
          "2022-03-08T00:00:00",
          "2022-03-09T00:00:00",
          "2022-03-10T00:00:00",
          "2022-03-11T00:00:00",
          "2022-03-12T00:00:00",
          "2022-03-13T00:00:00",
          "2022-03-14T00:00:00",
          "2022-03-15T00:00:00",
          "2022-03-16T00:00:00",
          "2022-03-17T00:00:00",
          "2022-03-18T00:00:00",
          "2022-03-19T00:00:00",
          "2022-03-20T00:00:00",
          "2022-03-21T00:00:00",
          "2022-03-22T00:00:00",
          "2022-03-23T00:00:00",
          "2022-03-24T00:00:00",
          "2022-03-25T00:00:00",
          "2022-03-26T00:00:00",
          "2022-03-27T00:00:00",
          "2022-03-28T00:00:00",
          "2022-03-29T00:00:00",
          "2022-03-30T00:00:00",
          "2022-03-31T00:00:00",
          "2022-04-01T00:00:00",
          "2022-04-02T00:00:00",
          "2022-04-03T00:00:00",
          "2022-04-04T00:00:00",
          "2022-04-05T00:00:00",
          "2022-04-06T00:00:00",
          "2022-04-07T00:00:00",
          "2022-04-08T00:00:00",
          "2022-04-09T00:00:00",
          "2022-04-10T00:00:00",
          "2022-04-11T00:00:00",
          "2022-04-12T00:00:00",
          "2022-04-13T00:00:00",
          "2022-04-14T00:00:00",
          "2022-04-15T00:00:00",
          "2022-04-16T00:00:00",
          "2022-04-17T00:00:00",
          "2022-04-18T00:00:00",
          "2022-04-19T00:00:00",
          "2022-04-20T00:00:00",
          "2022-04-21T00:00:00",
          "2022-04-22T00:00:00",
          "2022-04-23T00:00:00",
          "2022-04-24T00:00:00",
          "2022-04-25T00:00:00",
          "2022-04-26T00:00:00",
          "2022-04-27T00:00:00",
          "2022-04-28T00:00:00",
          "2022-04-29T00:00:00",
          "2022-04-30T00:00:00",
          "2022-05-01T00:00:00",
          "2022-05-02T00:00:00",
          "2022-05-03T00:00:00",
          "2022-05-04T00:00:00",
          "2022-05-05T00:00:00",
          "2022-05-06T00:00:00",
          "2022-05-07T00:00:00",
          "2022-05-08T00:00:00",
          "2022-05-09T00:00:00",
          "2022-05-10T00:00:00",
          "2022-05-11T00:00:00",
          "2022-05-12T00:00:00",
          "2022-05-13T00:00:00",
          "2022-05-14T00:00:00",
          "2022-05-15T00:00:00",
          "2022-05-16T00:00:00",
          "2022-05-17T00:00:00",
          "2022-05-18T00:00:00",
          "2022-05-19T00:00:00",
          "2022-05-20T00:00:00",
          "2022-05-21T00:00:00",
          "2022-05-22T00:00:00",
          "2022-05-23T00:00:00",
          "2022-05-24T00:00:00",
          "2022-05-25T00:00:00",
          "2022-05-26T00:00:00",
          "2022-05-27T00:00:00",
          "2022-05-28T00:00:00",
          "2022-05-29T00:00:00",
          "2022-05-30T00:00:00",
          "2022-05-31T00:00:00",
          "2022-06-01T00:00:00",
          "2022-06-02T00:00:00",
          "2022-06-03T00:00:00",
          "2022-06-04T00:00:00",
          "2022-06-05T00:00:00",
          "2022-06-06T00:00:00",
          "2022-06-07T00:00:00",
          "2022-06-08T00:00:00",
          "2022-06-09T00:00:00",
          "2022-06-10T00:00:00",
          "2022-06-11T00:00:00",
          "2022-06-12T00:00:00",
          "2022-06-13T00:00:00",
          "2022-06-14T00:00:00",
          "2022-06-15T00:00:00",
          "2022-06-16T00:00:00",
          "2022-06-17T00:00:00",
          "2022-06-18T00:00:00",
          "2022-06-19T00:00:00",
          "2022-06-20T00:00:00",
          "2022-06-21T00:00:00",
          "2022-06-22T00:00:00",
          "2022-06-23T00:00:00",
          "2022-06-24T00:00:00",
          "2022-06-25T00:00:00",
          "2022-06-26T00:00:00",
          "2022-06-27T00:00:00",
          "2022-06-28T00:00:00",
          "2022-06-29T00:00:00",
          "2022-06-30T00:00:00"
         ],
         "xaxis": "x",
         "y": [
          100,
          100,
          100,
          100,
          100,
          100,
          100,
          100,
          100,
          100,
          100,
          100,
          100,
          100,
          100,
          100,
          100,
          100,
          100,
          100,
          100,
          100,
          100,
          100,
          100,
          100,
          100,
          100,
          100,
          100,
          100,
          100,
          100,
          100,
          100,
          100,
          100,
          100,
          100,
          100,
          100,
          100,
          100,
          100,
          100,
          100,
          100,
          100,
          100,
          100,
          100,
          100,
          100,
          100,
          100,
          100,
          100,
          100,
          100,
          100,
          100,
          100,
          100,
          100,
          100,
          100,
          100,
          100,
          100,
          100,
          100,
          100,
          100,
          100,
          100,
          100,
          100,
          100,
          100,
          100,
          100,
          100,
          100,
          100,
          100,
          100,
          100,
          100,
          100,
          100,
          100,
          100,
          100,
          100,
          100,
          100,
          100,
          100,
          100,
          100,
          100,
          100,
          100,
          100,
          100,
          100,
          100,
          100,
          100,
          100,
          100,
          100,
          100,
          100,
          100,
          100,
          100,
          100,
          100,
          100,
          100,
          100,
          100,
          100,
          100,
          100,
          100,
          100,
          100,
          100,
          100,
          100,
          100,
          100,
          100,
          100,
          100,
          100,
          100,
          100,
          100,
          100,
          100,
          100,
          100,
          100,
          100,
          100,
          100,
          100
         ],
         "yaxis": "y"
        }
       ],
       "layout": {
        "barmode": "relative",
        "height": 700,
        "legend": {
         "title": {
          "text": "SYMBOL"
         },
         "tracegroupgap": 0
        },
        "margin": {
         "t": 60
        },
        "template": {
         "data": {
          "bar": [
           {
            "error_x": {
             "color": "#2a3f5f"
            },
            "error_y": {
             "color": "#2a3f5f"
            },
            "marker": {
             "line": {
              "color": "#E5ECF6",
              "width": 0.5
             },
             "pattern": {
              "fillmode": "overlay",
              "size": 10,
              "solidity": 0.2
             }
            },
            "type": "bar"
           }
          ],
          "barpolar": [
           {
            "marker": {
             "line": {
              "color": "#E5ECF6",
              "width": 0.5
             },
             "pattern": {
              "fillmode": "overlay",
              "size": 10,
              "solidity": 0.2
             }
            },
            "type": "barpolar"
           }
          ],
          "carpet": [
           {
            "aaxis": {
             "endlinecolor": "#2a3f5f",
             "gridcolor": "white",
             "linecolor": "white",
             "minorgridcolor": "white",
             "startlinecolor": "#2a3f5f"
            },
            "baxis": {
             "endlinecolor": "#2a3f5f",
             "gridcolor": "white",
             "linecolor": "white",
             "minorgridcolor": "white",
             "startlinecolor": "#2a3f5f"
            },
            "type": "carpet"
           }
          ],
          "choropleth": [
           {
            "colorbar": {
             "outlinewidth": 0,
             "ticks": ""
            },
            "type": "choropleth"
           }
          ],
          "contour": [
           {
            "colorbar": {
             "outlinewidth": 0,
             "ticks": ""
            },
            "colorscale": [
             [
              0,
              "#0d0887"
             ],
             [
              0.1111111111111111,
              "#46039f"
             ],
             [
              0.2222222222222222,
              "#7201a8"
             ],
             [
              0.3333333333333333,
              "#9c179e"
             ],
             [
              0.4444444444444444,
              "#bd3786"
             ],
             [
              0.5555555555555556,
              "#d8576b"
             ],
             [
              0.6666666666666666,
              "#ed7953"
             ],
             [
              0.7777777777777778,
              "#fb9f3a"
             ],
             [
              0.8888888888888888,
              "#fdca26"
             ],
             [
              1,
              "#f0f921"
             ]
            ],
            "type": "contour"
           }
          ],
          "contourcarpet": [
           {
            "colorbar": {
             "outlinewidth": 0,
             "ticks": ""
            },
            "type": "contourcarpet"
           }
          ],
          "heatmap": [
           {
            "colorbar": {
             "outlinewidth": 0,
             "ticks": ""
            },
            "colorscale": [
             [
              0,
              "#0d0887"
             ],
             [
              0.1111111111111111,
              "#46039f"
             ],
             [
              0.2222222222222222,
              "#7201a8"
             ],
             [
              0.3333333333333333,
              "#9c179e"
             ],
             [
              0.4444444444444444,
              "#bd3786"
             ],
             [
              0.5555555555555556,
              "#d8576b"
             ],
             [
              0.6666666666666666,
              "#ed7953"
             ],
             [
              0.7777777777777778,
              "#fb9f3a"
             ],
             [
              0.8888888888888888,
              "#fdca26"
             ],
             [
              1,
              "#f0f921"
             ]
            ],
            "type": "heatmap"
           }
          ],
          "heatmapgl": [
           {
            "colorbar": {
             "outlinewidth": 0,
             "ticks": ""
            },
            "colorscale": [
             [
              0,
              "#0d0887"
             ],
             [
              0.1111111111111111,
              "#46039f"
             ],
             [
              0.2222222222222222,
              "#7201a8"
             ],
             [
              0.3333333333333333,
              "#9c179e"
             ],
             [
              0.4444444444444444,
              "#bd3786"
             ],
             [
              0.5555555555555556,
              "#d8576b"
             ],
             [
              0.6666666666666666,
              "#ed7953"
             ],
             [
              0.7777777777777778,
              "#fb9f3a"
             ],
             [
              0.8888888888888888,
              "#fdca26"
             ],
             [
              1,
              "#f0f921"
             ]
            ],
            "type": "heatmapgl"
           }
          ],
          "histogram": [
           {
            "marker": {
             "pattern": {
              "fillmode": "overlay",
              "size": 10,
              "solidity": 0.2
             }
            },
            "type": "histogram"
           }
          ],
          "histogram2d": [
           {
            "colorbar": {
             "outlinewidth": 0,
             "ticks": ""
            },
            "colorscale": [
             [
              0,
              "#0d0887"
             ],
             [
              0.1111111111111111,
              "#46039f"
             ],
             [
              0.2222222222222222,
              "#7201a8"
             ],
             [
              0.3333333333333333,
              "#9c179e"
             ],
             [
              0.4444444444444444,
              "#bd3786"
             ],
             [
              0.5555555555555556,
              "#d8576b"
             ],
             [
              0.6666666666666666,
              "#ed7953"
             ],
             [
              0.7777777777777778,
              "#fb9f3a"
             ],
             [
              0.8888888888888888,
              "#fdca26"
             ],
             [
              1,
              "#f0f921"
             ]
            ],
            "type": "histogram2d"
           }
          ],
          "histogram2dcontour": [
           {
            "colorbar": {
             "outlinewidth": 0,
             "ticks": ""
            },
            "colorscale": [
             [
              0,
              "#0d0887"
             ],
             [
              0.1111111111111111,
              "#46039f"
             ],
             [
              0.2222222222222222,
              "#7201a8"
             ],
             [
              0.3333333333333333,
              "#9c179e"
             ],
             [
              0.4444444444444444,
              "#bd3786"
             ],
             [
              0.5555555555555556,
              "#d8576b"
             ],
             [
              0.6666666666666666,
              "#ed7953"
             ],
             [
              0.7777777777777778,
              "#fb9f3a"
             ],
             [
              0.8888888888888888,
              "#fdca26"
             ],
             [
              1,
              "#f0f921"
             ]
            ],
            "type": "histogram2dcontour"
           }
          ],
          "mesh3d": [
           {
            "colorbar": {
             "outlinewidth": 0,
             "ticks": ""
            },
            "type": "mesh3d"
           }
          ],
          "parcoords": [
           {
            "line": {
             "colorbar": {
              "outlinewidth": 0,
              "ticks": ""
             }
            },
            "type": "parcoords"
           }
          ],
          "pie": [
           {
            "automargin": true,
            "type": "pie"
           }
          ],
          "scatter": [
           {
            "marker": {
             "colorbar": {
              "outlinewidth": 0,
              "ticks": ""
             }
            },
            "type": "scatter"
           }
          ],
          "scatter3d": [
           {
            "line": {
             "colorbar": {
              "outlinewidth": 0,
              "ticks": ""
             }
            },
            "marker": {
             "colorbar": {
              "outlinewidth": 0,
              "ticks": ""
             }
            },
            "type": "scatter3d"
           }
          ],
          "scattercarpet": [
           {
            "marker": {
             "colorbar": {
              "outlinewidth": 0,
              "ticks": ""
             }
            },
            "type": "scattercarpet"
           }
          ],
          "scattergeo": [
           {
            "marker": {
             "colorbar": {
              "outlinewidth": 0,
              "ticks": ""
             }
            },
            "type": "scattergeo"
           }
          ],
          "scattergl": [
           {
            "marker": {
             "colorbar": {
              "outlinewidth": 0,
              "ticks": ""
             }
            },
            "type": "scattergl"
           }
          ],
          "scattermapbox": [
           {
            "marker": {
             "colorbar": {
              "outlinewidth": 0,
              "ticks": ""
             }
            },
            "type": "scattermapbox"
           }
          ],
          "scatterpolar": [
           {
            "marker": {
             "colorbar": {
              "outlinewidth": 0,
              "ticks": ""
             }
            },
            "type": "scatterpolar"
           }
          ],
          "scatterpolargl": [
           {
            "marker": {
             "colorbar": {
              "outlinewidth": 0,
              "ticks": ""
             }
            },
            "type": "scatterpolargl"
           }
          ],
          "scatterternary": [
           {
            "marker": {
             "colorbar": {
              "outlinewidth": 0,
              "ticks": ""
             }
            },
            "type": "scatterternary"
           }
          ],
          "surface": [
           {
            "colorbar": {
             "outlinewidth": 0,
             "ticks": ""
            },
            "colorscale": [
             [
              0,
              "#0d0887"
             ],
             [
              0.1111111111111111,
              "#46039f"
             ],
             [
              0.2222222222222222,
              "#7201a8"
             ],
             [
              0.3333333333333333,
              "#9c179e"
             ],
             [
              0.4444444444444444,
              "#bd3786"
             ],
             [
              0.5555555555555556,
              "#d8576b"
             ],
             [
              0.6666666666666666,
              "#ed7953"
             ],
             [
              0.7777777777777778,
              "#fb9f3a"
             ],
             [
              0.8888888888888888,
              "#fdca26"
             ],
             [
              1,
              "#f0f921"
             ]
            ],
            "type": "surface"
           }
          ],
          "table": [
           {
            "cells": {
             "fill": {
              "color": "#EBF0F8"
             },
             "line": {
              "color": "white"
             }
            },
            "header": {
             "fill": {
              "color": "#C8D4E3"
             },
             "line": {
              "color": "white"
             }
            },
            "type": "table"
           }
          ]
         },
         "layout": {
          "annotationdefaults": {
           "arrowcolor": "#2a3f5f",
           "arrowhead": 0,
           "arrowwidth": 1
          },
          "autotypenumbers": "strict",
          "coloraxis": {
           "colorbar": {
            "outlinewidth": 0,
            "ticks": ""
           }
          },
          "colorscale": {
           "diverging": [
            [
             0,
             "#8e0152"
            ],
            [
             0.1,
             "#c51b7d"
            ],
            [
             0.2,
             "#de77ae"
            ],
            [
             0.3,
             "#f1b6da"
            ],
            [
             0.4,
             "#fde0ef"
            ],
            [
             0.5,
             "#f7f7f7"
            ],
            [
             0.6,
             "#e6f5d0"
            ],
            [
             0.7,
             "#b8e186"
            ],
            [
             0.8,
             "#7fbc41"
            ],
            [
             0.9,
             "#4d9221"
            ],
            [
             1,
             "#276419"
            ]
           ],
           "sequential": [
            [
             0,
             "#0d0887"
            ],
            [
             0.1111111111111111,
             "#46039f"
            ],
            [
             0.2222222222222222,
             "#7201a8"
            ],
            [
             0.3333333333333333,
             "#9c179e"
            ],
            [
             0.4444444444444444,
             "#bd3786"
            ],
            [
             0.5555555555555556,
             "#d8576b"
            ],
            [
             0.6666666666666666,
             "#ed7953"
            ],
            [
             0.7777777777777778,
             "#fb9f3a"
            ],
            [
             0.8888888888888888,
             "#fdca26"
            ],
            [
             1,
             "#f0f921"
            ]
           ],
           "sequentialminus": [
            [
             0,
             "#0d0887"
            ],
            [
             0.1111111111111111,
             "#46039f"
            ],
            [
             0.2222222222222222,
             "#7201a8"
            ],
            [
             0.3333333333333333,
             "#9c179e"
            ],
            [
             0.4444444444444444,
             "#bd3786"
            ],
            [
             0.5555555555555556,
             "#d8576b"
            ],
            [
             0.6666666666666666,
             "#ed7953"
            ],
            [
             0.7777777777777778,
             "#fb9f3a"
            ],
            [
             0.8888888888888888,
             "#fdca26"
            ],
            [
             1,
             "#f0f921"
            ]
           ]
          },
          "colorway": [
           "#636efa",
           "#EF553B",
           "#00cc96",
           "#ab63fa",
           "#FFA15A",
           "#19d3f3",
           "#FF6692",
           "#B6E880",
           "#FF97FF",
           "#FECB52"
          ],
          "font": {
           "color": "#2a3f5f"
          },
          "geo": {
           "bgcolor": "white",
           "lakecolor": "white",
           "landcolor": "#E5ECF6",
           "showlakes": true,
           "showland": true,
           "subunitcolor": "white"
          },
          "hoverlabel": {
           "align": "left"
          },
          "hovermode": "closest",
          "mapbox": {
           "style": "light"
          },
          "paper_bgcolor": "white",
          "plot_bgcolor": "#E5ECF6",
          "polar": {
           "angularaxis": {
            "gridcolor": "white",
            "linecolor": "white",
            "ticks": ""
           },
           "bgcolor": "#E5ECF6",
           "radialaxis": {
            "gridcolor": "white",
            "linecolor": "white",
            "ticks": ""
           }
          },
          "scene": {
           "xaxis": {
            "backgroundcolor": "#E5ECF6",
            "gridcolor": "white",
            "gridwidth": 2,
            "linecolor": "white",
            "showbackground": true,
            "ticks": "",
            "zerolinecolor": "white"
           },
           "yaxis": {
            "backgroundcolor": "#E5ECF6",
            "gridcolor": "white",
            "gridwidth": 2,
            "linecolor": "white",
            "showbackground": true,
            "ticks": "",
            "zerolinecolor": "white"
           },
           "zaxis": {
            "backgroundcolor": "#E5ECF6",
            "gridcolor": "white",
            "gridwidth": 2,
            "linecolor": "white",
            "showbackground": true,
            "ticks": "",
            "zerolinecolor": "white"
           }
          },
          "shapedefaults": {
           "line": {
            "color": "#2a3f5f"
           }
          },
          "ternary": {
           "aaxis": {
            "gridcolor": "white",
            "linecolor": "white",
            "ticks": ""
           },
           "baxis": {
            "gridcolor": "white",
            "linecolor": "white",
            "ticks": ""
           },
           "bgcolor": "#E5ECF6",
           "caxis": {
            "gridcolor": "white",
            "linecolor": "white",
            "ticks": ""
           }
          },
          "title": {
           "x": 0.05
          },
          "xaxis": {
           "automargin": true,
           "gridcolor": "white",
           "linecolor": "white",
           "ticks": "",
           "title": {
            "standoff": 15
           },
           "zerolinecolor": "white",
           "zerolinewidth": 2
          },
          "yaxis": {
           "automargin": true,
           "gridcolor": "white",
           "linecolor": "white",
           "ticks": "",
           "title": {
            "standoff": 15
           },
           "zerolinecolor": "white",
           "zerolinewidth": 2
          }
         }
        },
        "title": {
         "text": "Normalized Daily Balances"
        },
        "xaxis": {
         "anchor": "y",
         "domain": [
          0,
          1
         ],
         "title": {
          "text": "BALANCE_DATE"
         }
        },
        "yaxis": {
         "anchor": "x",
         "domain": [
          0,
          1
         ],
         "title": {
          "text": "AMOUNT_USD_NORMALIZED"
         }
        }
       }
      }
     },
     "metadata": {},
     "output_type": "display_data"
    }
   ],
   "source": [
    "normalized_erc20_balances_per_address = erc20_balances_per_address.groupby(['BALANCE_DATE', 'SYMBOL'])['AMOUNT_USD'].sum()/erc20_balances_per_address.groupby(['BALANCE_DATE'])['AMOUNT_USD'].sum()\n",
    "normalized_erc20_balances_per_address = normalized_erc20_balances_per_address.reset_index()\n",
    "\n",
    "normalized_erc20_balances_per_address['AMOUNT_USD'] = normalized_erc20_balances_per_address['AMOUNT_USD']*100\n",
    "\n",
    "normalized_erc20_balances_per_address.columns=['BALANCE_DATE', 'SYMBOL', 'AMOUNT_USD_NORMALIZED']\n",
    "\n",
    "fig = px.bar(normalized_erc20_balances_per_address, x='BALANCE_DATE', y='AMOUNT_USD_NORMALIZED', color='SYMBOL')\n",
    "fig.update_layout(title='Normalized Daily Balances', height=700)"
   ]
  },
  {
   "cell_type": "code",
   "execution_count": 187,
   "metadata": {},
   "outputs": [
    {
     "data": {
      "application/vnd.plotly.v1+json": {
       "config": {
        "plotlyServerURL": "https://plotly.com"
       },
       "data": [
        {
         "alignmentgroup": "True",
         "hovertemplate": "AMOUNT_USD=%{text}<br>SYMBOL=%{y}<extra></extra>",
         "legendgroup": "",
         "marker": {
          "color": "#636efa",
          "pattern": {
           "shape": ""
          }
         },
         "name": "",
         "offsetgroup": "",
         "orientation": "h",
         "showlegend": false,
         "text": [
          1243.045368829
         ],
         "textposition": "inside",
         "texttemplate": "%{x:.2s}",
         "type": "bar",
         "x": [
          1243.045368829
         ],
         "xaxis": "x",
         "y": [
          "ETH"
         ],
         "yaxis": "y"
        }
       ],
       "layout": {
        "barmode": "relative",
        "legend": {
         "tracegroupgap": 0
        },
        "template": {
         "data": {
          "bar": [
           {
            "error_x": {
             "color": "#2a3f5f"
            },
            "error_y": {
             "color": "#2a3f5f"
            },
            "marker": {
             "line": {
              "color": "#E5ECF6",
              "width": 0.5
             },
             "pattern": {
              "fillmode": "overlay",
              "size": 10,
              "solidity": 0.2
             }
            },
            "type": "bar"
           }
          ],
          "barpolar": [
           {
            "marker": {
             "line": {
              "color": "#E5ECF6",
              "width": 0.5
             },
             "pattern": {
              "fillmode": "overlay",
              "size": 10,
              "solidity": 0.2
             }
            },
            "type": "barpolar"
           }
          ],
          "carpet": [
           {
            "aaxis": {
             "endlinecolor": "#2a3f5f",
             "gridcolor": "white",
             "linecolor": "white",
             "minorgridcolor": "white",
             "startlinecolor": "#2a3f5f"
            },
            "baxis": {
             "endlinecolor": "#2a3f5f",
             "gridcolor": "white",
             "linecolor": "white",
             "minorgridcolor": "white",
             "startlinecolor": "#2a3f5f"
            },
            "type": "carpet"
           }
          ],
          "choropleth": [
           {
            "colorbar": {
             "outlinewidth": 0,
             "ticks": ""
            },
            "type": "choropleth"
           }
          ],
          "contour": [
           {
            "colorbar": {
             "outlinewidth": 0,
             "ticks": ""
            },
            "colorscale": [
             [
              0,
              "#0d0887"
             ],
             [
              0.1111111111111111,
              "#46039f"
             ],
             [
              0.2222222222222222,
              "#7201a8"
             ],
             [
              0.3333333333333333,
              "#9c179e"
             ],
             [
              0.4444444444444444,
              "#bd3786"
             ],
             [
              0.5555555555555556,
              "#d8576b"
             ],
             [
              0.6666666666666666,
              "#ed7953"
             ],
             [
              0.7777777777777778,
              "#fb9f3a"
             ],
             [
              0.8888888888888888,
              "#fdca26"
             ],
             [
              1,
              "#f0f921"
             ]
            ],
            "type": "contour"
           }
          ],
          "contourcarpet": [
           {
            "colorbar": {
             "outlinewidth": 0,
             "ticks": ""
            },
            "type": "contourcarpet"
           }
          ],
          "heatmap": [
           {
            "colorbar": {
             "outlinewidth": 0,
             "ticks": ""
            },
            "colorscale": [
             [
              0,
              "#0d0887"
             ],
             [
              0.1111111111111111,
              "#46039f"
             ],
             [
              0.2222222222222222,
              "#7201a8"
             ],
             [
              0.3333333333333333,
              "#9c179e"
             ],
             [
              0.4444444444444444,
              "#bd3786"
             ],
             [
              0.5555555555555556,
              "#d8576b"
             ],
             [
              0.6666666666666666,
              "#ed7953"
             ],
             [
              0.7777777777777778,
              "#fb9f3a"
             ],
             [
              0.8888888888888888,
              "#fdca26"
             ],
             [
              1,
              "#f0f921"
             ]
            ],
            "type": "heatmap"
           }
          ],
          "heatmapgl": [
           {
            "colorbar": {
             "outlinewidth": 0,
             "ticks": ""
            },
            "colorscale": [
             [
              0,
              "#0d0887"
             ],
             [
              0.1111111111111111,
              "#46039f"
             ],
             [
              0.2222222222222222,
              "#7201a8"
             ],
             [
              0.3333333333333333,
              "#9c179e"
             ],
             [
              0.4444444444444444,
              "#bd3786"
             ],
             [
              0.5555555555555556,
              "#d8576b"
             ],
             [
              0.6666666666666666,
              "#ed7953"
             ],
             [
              0.7777777777777778,
              "#fb9f3a"
             ],
             [
              0.8888888888888888,
              "#fdca26"
             ],
             [
              1,
              "#f0f921"
             ]
            ],
            "type": "heatmapgl"
           }
          ],
          "histogram": [
           {
            "marker": {
             "pattern": {
              "fillmode": "overlay",
              "size": 10,
              "solidity": 0.2
             }
            },
            "type": "histogram"
           }
          ],
          "histogram2d": [
           {
            "colorbar": {
             "outlinewidth": 0,
             "ticks": ""
            },
            "colorscale": [
             [
              0,
              "#0d0887"
             ],
             [
              0.1111111111111111,
              "#46039f"
             ],
             [
              0.2222222222222222,
              "#7201a8"
             ],
             [
              0.3333333333333333,
              "#9c179e"
             ],
             [
              0.4444444444444444,
              "#bd3786"
             ],
             [
              0.5555555555555556,
              "#d8576b"
             ],
             [
              0.6666666666666666,
              "#ed7953"
             ],
             [
              0.7777777777777778,
              "#fb9f3a"
             ],
             [
              0.8888888888888888,
              "#fdca26"
             ],
             [
              1,
              "#f0f921"
             ]
            ],
            "type": "histogram2d"
           }
          ],
          "histogram2dcontour": [
           {
            "colorbar": {
             "outlinewidth": 0,
             "ticks": ""
            },
            "colorscale": [
             [
              0,
              "#0d0887"
             ],
             [
              0.1111111111111111,
              "#46039f"
             ],
             [
              0.2222222222222222,
              "#7201a8"
             ],
             [
              0.3333333333333333,
              "#9c179e"
             ],
             [
              0.4444444444444444,
              "#bd3786"
             ],
             [
              0.5555555555555556,
              "#d8576b"
             ],
             [
              0.6666666666666666,
              "#ed7953"
             ],
             [
              0.7777777777777778,
              "#fb9f3a"
             ],
             [
              0.8888888888888888,
              "#fdca26"
             ],
             [
              1,
              "#f0f921"
             ]
            ],
            "type": "histogram2dcontour"
           }
          ],
          "mesh3d": [
           {
            "colorbar": {
             "outlinewidth": 0,
             "ticks": ""
            },
            "type": "mesh3d"
           }
          ],
          "parcoords": [
           {
            "line": {
             "colorbar": {
              "outlinewidth": 0,
              "ticks": ""
             }
            },
            "type": "parcoords"
           }
          ],
          "pie": [
           {
            "automargin": true,
            "type": "pie"
           }
          ],
          "scatter": [
           {
            "marker": {
             "colorbar": {
              "outlinewidth": 0,
              "ticks": ""
             }
            },
            "type": "scatter"
           }
          ],
          "scatter3d": [
           {
            "line": {
             "colorbar": {
              "outlinewidth": 0,
              "ticks": ""
             }
            },
            "marker": {
             "colorbar": {
              "outlinewidth": 0,
              "ticks": ""
             }
            },
            "type": "scatter3d"
           }
          ],
          "scattercarpet": [
           {
            "marker": {
             "colorbar": {
              "outlinewidth": 0,
              "ticks": ""
             }
            },
            "type": "scattercarpet"
           }
          ],
          "scattergeo": [
           {
            "marker": {
             "colorbar": {
              "outlinewidth": 0,
              "ticks": ""
             }
            },
            "type": "scattergeo"
           }
          ],
          "scattergl": [
           {
            "marker": {
             "colorbar": {
              "outlinewidth": 0,
              "ticks": ""
             }
            },
            "type": "scattergl"
           }
          ],
          "scattermapbox": [
           {
            "marker": {
             "colorbar": {
              "outlinewidth": 0,
              "ticks": ""
             }
            },
            "type": "scattermapbox"
           }
          ],
          "scatterpolar": [
           {
            "marker": {
             "colorbar": {
              "outlinewidth": 0,
              "ticks": ""
             }
            },
            "type": "scatterpolar"
           }
          ],
          "scatterpolargl": [
           {
            "marker": {
             "colorbar": {
              "outlinewidth": 0,
              "ticks": ""
             }
            },
            "type": "scatterpolargl"
           }
          ],
          "scatterternary": [
           {
            "marker": {
             "colorbar": {
              "outlinewidth": 0,
              "ticks": ""
             }
            },
            "type": "scatterternary"
           }
          ],
          "surface": [
           {
            "colorbar": {
             "outlinewidth": 0,
             "ticks": ""
            },
            "colorscale": [
             [
              0,
              "#0d0887"
             ],
             [
              0.1111111111111111,
              "#46039f"
             ],
             [
              0.2222222222222222,
              "#7201a8"
             ],
             [
              0.3333333333333333,
              "#9c179e"
             ],
             [
              0.4444444444444444,
              "#bd3786"
             ],
             [
              0.5555555555555556,
              "#d8576b"
             ],
             [
              0.6666666666666666,
              "#ed7953"
             ],
             [
              0.7777777777777778,
              "#fb9f3a"
             ],
             [
              0.8888888888888888,
              "#fdca26"
             ],
             [
              1,
              "#f0f921"
             ]
            ],
            "type": "surface"
           }
          ],
          "table": [
           {
            "cells": {
             "fill": {
              "color": "#EBF0F8"
             },
             "line": {
              "color": "white"
             }
            },
            "header": {
             "fill": {
              "color": "#C8D4E3"
             },
             "line": {
              "color": "white"
             }
            },
            "type": "table"
           }
          ]
         },
         "layout": {
          "annotationdefaults": {
           "arrowcolor": "#2a3f5f",
           "arrowhead": 0,
           "arrowwidth": 1
          },
          "autotypenumbers": "strict",
          "coloraxis": {
           "colorbar": {
            "outlinewidth": 0,
            "ticks": ""
           }
          },
          "colorscale": {
           "diverging": [
            [
             0,
             "#8e0152"
            ],
            [
             0.1,
             "#c51b7d"
            ],
            [
             0.2,
             "#de77ae"
            ],
            [
             0.3,
             "#f1b6da"
            ],
            [
             0.4,
             "#fde0ef"
            ],
            [
             0.5,
             "#f7f7f7"
            ],
            [
             0.6,
             "#e6f5d0"
            ],
            [
             0.7,
             "#b8e186"
            ],
            [
             0.8,
             "#7fbc41"
            ],
            [
             0.9,
             "#4d9221"
            ],
            [
             1,
             "#276419"
            ]
           ],
           "sequential": [
            [
             0,
             "#0d0887"
            ],
            [
             0.1111111111111111,
             "#46039f"
            ],
            [
             0.2222222222222222,
             "#7201a8"
            ],
            [
             0.3333333333333333,
             "#9c179e"
            ],
            [
             0.4444444444444444,
             "#bd3786"
            ],
            [
             0.5555555555555556,
             "#d8576b"
            ],
            [
             0.6666666666666666,
             "#ed7953"
            ],
            [
             0.7777777777777778,
             "#fb9f3a"
            ],
            [
             0.8888888888888888,
             "#fdca26"
            ],
            [
             1,
             "#f0f921"
            ]
           ],
           "sequentialminus": [
            [
             0,
             "#0d0887"
            ],
            [
             0.1111111111111111,
             "#46039f"
            ],
            [
             0.2222222222222222,
             "#7201a8"
            ],
            [
             0.3333333333333333,
             "#9c179e"
            ],
            [
             0.4444444444444444,
             "#bd3786"
            ],
            [
             0.5555555555555556,
             "#d8576b"
            ],
            [
             0.6666666666666666,
             "#ed7953"
            ],
            [
             0.7777777777777778,
             "#fb9f3a"
            ],
            [
             0.8888888888888888,
             "#fdca26"
            ],
            [
             1,
             "#f0f921"
            ]
           ]
          },
          "colorway": [
           "#636efa",
           "#EF553B",
           "#00cc96",
           "#ab63fa",
           "#FFA15A",
           "#19d3f3",
           "#FF6692",
           "#B6E880",
           "#FF97FF",
           "#FECB52"
          ],
          "font": {
           "color": "#2a3f5f"
          },
          "geo": {
           "bgcolor": "white",
           "lakecolor": "white",
           "landcolor": "#E5ECF6",
           "showlakes": true,
           "showland": true,
           "subunitcolor": "white"
          },
          "hoverlabel": {
           "align": "left"
          },
          "hovermode": "closest",
          "mapbox": {
           "style": "light"
          },
          "paper_bgcolor": "white",
          "plot_bgcolor": "#E5ECF6",
          "polar": {
           "angularaxis": {
            "gridcolor": "white",
            "linecolor": "white",
            "ticks": ""
           },
           "bgcolor": "#E5ECF6",
           "radialaxis": {
            "gridcolor": "white",
            "linecolor": "white",
            "ticks": ""
           }
          },
          "scene": {
           "xaxis": {
            "backgroundcolor": "#E5ECF6",
            "gridcolor": "white",
            "gridwidth": 2,
            "linecolor": "white",
            "showbackground": true,
            "ticks": "",
            "zerolinecolor": "white"
           },
           "yaxis": {
            "backgroundcolor": "#E5ECF6",
            "gridcolor": "white",
            "gridwidth": 2,
            "linecolor": "white",
            "showbackground": true,
            "ticks": "",
            "zerolinecolor": "white"
           },
           "zaxis": {
            "backgroundcolor": "#E5ECF6",
            "gridcolor": "white",
            "gridwidth": 2,
            "linecolor": "white",
            "showbackground": true,
            "ticks": "",
            "zerolinecolor": "white"
           }
          },
          "shapedefaults": {
           "line": {
            "color": "#2a3f5f"
           }
          },
          "ternary": {
           "aaxis": {
            "gridcolor": "white",
            "linecolor": "white",
            "ticks": ""
           },
           "baxis": {
            "gridcolor": "white",
            "linecolor": "white",
            "ticks": ""
           },
           "bgcolor": "#E5ECF6",
           "caxis": {
            "gridcolor": "white",
            "linecolor": "white",
            "ticks": ""
           }
          },
          "title": {
           "x": 0.05
          },
          "xaxis": {
           "automargin": true,
           "gridcolor": "white",
           "linecolor": "white",
           "ticks": "",
           "title": {
            "standoff": 15
           },
           "zerolinecolor": "white",
           "zerolinewidth": 2
          },
          "yaxis": {
           "automargin": true,
           "gridcolor": "white",
           "linecolor": "white",
           "ticks": "",
           "title": {
            "standoff": 15
           },
           "zerolinecolor": "white",
           "zerolinewidth": 2
          }
         }
        },
        "title": {
         "text": "Most recent balance (2022-06-30 00:00:00)"
        },
        "uniformtext": {
         "minsize": 40,
         "mode": "hide"
        },
        "xaxis": {
         "anchor": "y",
         "domain": [
          0,
          1
         ],
         "title": {
          "text": "AMOUNT_USD"
         }
        },
        "yaxis": {
         "anchor": "x",
         "domain": [
          0,
          1
         ],
         "title": {
          "text": "SYMBOL"
         }
        }
       }
      }
     },
     "metadata": {},
     "output_type": "display_data"
    }
   ],
   "source": [
    "most_recent_balance_date = erc20_balances_per_address['BALANCE_DATE'].max()\n",
    "most_recent_balance = erc20_balances_per_address[erc20_balances_per_address['BALANCE_DATE']==most_recent_balance_date]\n",
    "fig = px.bar(most_recent_balance, x='AMOUNT_USD', y='SYMBOL', title=f'Most recent balance ({most_recent_balance_date})',\n",
    "\t\t\t\t text='AMOUNT_USD', text_auto='.2s')\n",
    "# add values to the bars\n",
    "fig.update_traces(textposition='inside')\n",
    "fig.update_layout(uniformtext_minsize=40, uniformtext_mode='hide')"
   ]
  },
  {
   "cell_type": "code",
   "execution_count": 220,
   "metadata": {},
   "outputs": [
    {
     "data": {
      "text/html": [
       "<div>\n",
       "<style scoped>\n",
       "    .dataframe tbody tr th:only-of-type {\n",
       "        vertical-align: middle;\n",
       "    }\n",
       "\n",
       "    .dataframe tbody tr th {\n",
       "        vertical-align: top;\n",
       "    }\n",
       "\n",
       "    .dataframe thead th {\n",
       "        text-align: right;\n",
       "    }\n",
       "</style>\n",
       "<table border=\"1\" class=\"dataframe\">\n",
       "  <thead>\n",
       "    <tr style=\"text-align: right;\">\n",
       "      <th></th>\n",
       "      <th>BALANCE_DATE</th>\n",
       "      <th>SYMBOL</th>\n",
       "      <th>PRICE</th>\n",
       "      <th>BALANCE</th>\n",
       "      <th>AMOUNT_USD</th>\n",
       "    </tr>\n",
       "  </thead>\n",
       "  <tbody>\n",
       "    <tr>\n",
       "      <th>73</th>\n",
       "      <td>2022-06-30</td>\n",
       "      <td>ETH</td>\n",
       "      <td>1056.747336</td>\n",
       "      <td>1.176294</td>\n",
       "      <td>1243.045369</td>\n",
       "    </tr>\n",
       "  </tbody>\n",
       "</table>\n",
       "</div>"
      ],
      "text/plain": [
       "   BALANCE_DATE SYMBOL        PRICE   BALANCE   AMOUNT_USD\n",
       "73   2022-06-30    ETH  1056.747336  1.176294  1243.045369"
      ]
     },
     "execution_count": 220,
     "metadata": {},
     "output_type": "execute_result"
    }
   ],
   "source": [
    "cols = ['BALANCE_DATE', 'SYMBOL', 'PRICE', 'BALANCE', 'AMOUNT_USD']\n",
    "most_recent_balance[cols].sort_values(by=['AMOUNT_USD'], ascending=False)"
   ]
  },
  {
   "cell_type": "markdown",
   "metadata": {},
   "source": [
    "# eth transfers"
   ]
  },
  {
   "cell_type": "code",
   "execution_count": 216,
   "metadata": {},
   "outputs": [
    {
     "data": {
      "application/vnd.plotly.v1+json": {
       "config": {
        "plotlyServerURL": "https://plotly.com"
       },
       "data": [
        {
         "customdata": [
          [
           9298,
           24301318.81
          ],
          [
           6668,
           19962351.61
          ],
          [
           3250,
           10095008.37
          ],
          [
           6666.938248365,
           20006595.04
          ],
          [
           7977.23702012,
           26655390.58
          ],
          [
           6666.938248365,
           20006595.04
          ],
          [
           7977.23702012,
           26655390.58
          ],
          [
           3250,
           10095008.37
          ],
          [
           7977,
           26682806.27
          ],
          [
           9298,
           24301318.81
          ]
         ],
         "hovertemplate": "SIDE=outgoing<br>BLOCK_TIMESTAMP=%{x}<br>LABEL=%{y}<br>dummy=%{marker.size}<br>AMOUNT=%{customdata[0]}<br>AMOUNT_USD=%{customdata[1]}<extra></extra>",
         "legendgroup": "outgoing",
         "marker": {
          "color": "#636efa",
          "opacity": 0.5,
          "size": [
           10,
           10,
           10,
           10,
           10,
           10,
           10,
           10,
           10,
           10
          ],
          "sizemode": "area",
          "sizeref": 0.1,
          "symbol": "circle"
         },
         "mode": "markers",
         "name": "outgoing",
         "orientation": "v",
         "showlegend": true,
         "type": "scatter",
         "x": [
          "2022-02-03T14:53:43",
          "2022-03-02T12:34:07",
          "2022-02-09T09:22:23",
          "2022-03-02T11:32:52",
          "2022-03-28T10:04:33",
          "2022-03-02T11:32:52",
          "2022-03-28T10:04:33",
          "2022-02-09T09:22:23",
          "2022-03-28T11:01:26",
          "2022-02-03T14:53:43"
         ],
         "xaxis": "x",
         "y": [
          "other",
          "celsius network",
          "other",
          "other",
          "other",
          "other",
          "other",
          "other",
          "celsius network",
          "other"
         ],
         "yaxis": "y"
        },
        {
         "customdata": [
          [
           3250,
           10095008.37
          ],
          [
           9300,
           24306546.03
          ]
         ],
         "hovertemplate": "SIDE=incoming<br>BLOCK_TIMESTAMP=%{x}<br>LABEL=%{y}<br>dummy=%{marker.size}<br>AMOUNT=%{customdata[0]}<br>AMOUNT_USD=%{customdata[1]}<extra></extra>",
         "legendgroup": "incoming",
         "marker": {
          "color": "#EF553B",
          "opacity": 0.5,
          "size": [
           10,
           10
          ],
          "sizemode": "area",
          "sizeref": 0.1,
          "symbol": "circle"
         },
         "mode": "markers",
         "name": "incoming",
         "orientation": "v",
         "showlegend": true,
         "type": "scatter",
         "x": [
          "2022-02-09T09:11:25",
          "2022-02-03T14:25:34"
         ],
         "xaxis": "x",
         "y": [
          "celsius network",
          "celsius network"
         ],
         "yaxis": "y"
        }
       ],
       "layout": {
        "height": 500,
        "legend": {
         "itemsizing": "constant",
         "title": {
          "text": "SIDE"
         },
         "tracegroupgap": 0
        },
        "margin": {
         "t": 60
        },
        "template": {
         "data": {
          "bar": [
           {
            "error_x": {
             "color": "#2a3f5f"
            },
            "error_y": {
             "color": "#2a3f5f"
            },
            "marker": {
             "line": {
              "color": "#E5ECF6",
              "width": 0.5
             },
             "pattern": {
              "fillmode": "overlay",
              "size": 10,
              "solidity": 0.2
             }
            },
            "type": "bar"
           }
          ],
          "barpolar": [
           {
            "marker": {
             "line": {
              "color": "#E5ECF6",
              "width": 0.5
             },
             "pattern": {
              "fillmode": "overlay",
              "size": 10,
              "solidity": 0.2
             }
            },
            "type": "barpolar"
           }
          ],
          "carpet": [
           {
            "aaxis": {
             "endlinecolor": "#2a3f5f",
             "gridcolor": "white",
             "linecolor": "white",
             "minorgridcolor": "white",
             "startlinecolor": "#2a3f5f"
            },
            "baxis": {
             "endlinecolor": "#2a3f5f",
             "gridcolor": "white",
             "linecolor": "white",
             "minorgridcolor": "white",
             "startlinecolor": "#2a3f5f"
            },
            "type": "carpet"
           }
          ],
          "choropleth": [
           {
            "colorbar": {
             "outlinewidth": 0,
             "ticks": ""
            },
            "type": "choropleth"
           }
          ],
          "contour": [
           {
            "colorbar": {
             "outlinewidth": 0,
             "ticks": ""
            },
            "colorscale": [
             [
              0,
              "#0d0887"
             ],
             [
              0.1111111111111111,
              "#46039f"
             ],
             [
              0.2222222222222222,
              "#7201a8"
             ],
             [
              0.3333333333333333,
              "#9c179e"
             ],
             [
              0.4444444444444444,
              "#bd3786"
             ],
             [
              0.5555555555555556,
              "#d8576b"
             ],
             [
              0.6666666666666666,
              "#ed7953"
             ],
             [
              0.7777777777777778,
              "#fb9f3a"
             ],
             [
              0.8888888888888888,
              "#fdca26"
             ],
             [
              1,
              "#f0f921"
             ]
            ],
            "type": "contour"
           }
          ],
          "contourcarpet": [
           {
            "colorbar": {
             "outlinewidth": 0,
             "ticks": ""
            },
            "type": "contourcarpet"
           }
          ],
          "heatmap": [
           {
            "colorbar": {
             "outlinewidth": 0,
             "ticks": ""
            },
            "colorscale": [
             [
              0,
              "#0d0887"
             ],
             [
              0.1111111111111111,
              "#46039f"
             ],
             [
              0.2222222222222222,
              "#7201a8"
             ],
             [
              0.3333333333333333,
              "#9c179e"
             ],
             [
              0.4444444444444444,
              "#bd3786"
             ],
             [
              0.5555555555555556,
              "#d8576b"
             ],
             [
              0.6666666666666666,
              "#ed7953"
             ],
             [
              0.7777777777777778,
              "#fb9f3a"
             ],
             [
              0.8888888888888888,
              "#fdca26"
             ],
             [
              1,
              "#f0f921"
             ]
            ],
            "type": "heatmap"
           }
          ],
          "heatmapgl": [
           {
            "colorbar": {
             "outlinewidth": 0,
             "ticks": ""
            },
            "colorscale": [
             [
              0,
              "#0d0887"
             ],
             [
              0.1111111111111111,
              "#46039f"
             ],
             [
              0.2222222222222222,
              "#7201a8"
             ],
             [
              0.3333333333333333,
              "#9c179e"
             ],
             [
              0.4444444444444444,
              "#bd3786"
             ],
             [
              0.5555555555555556,
              "#d8576b"
             ],
             [
              0.6666666666666666,
              "#ed7953"
             ],
             [
              0.7777777777777778,
              "#fb9f3a"
             ],
             [
              0.8888888888888888,
              "#fdca26"
             ],
             [
              1,
              "#f0f921"
             ]
            ],
            "type": "heatmapgl"
           }
          ],
          "histogram": [
           {
            "marker": {
             "pattern": {
              "fillmode": "overlay",
              "size": 10,
              "solidity": 0.2
             }
            },
            "type": "histogram"
           }
          ],
          "histogram2d": [
           {
            "colorbar": {
             "outlinewidth": 0,
             "ticks": ""
            },
            "colorscale": [
             [
              0,
              "#0d0887"
             ],
             [
              0.1111111111111111,
              "#46039f"
             ],
             [
              0.2222222222222222,
              "#7201a8"
             ],
             [
              0.3333333333333333,
              "#9c179e"
             ],
             [
              0.4444444444444444,
              "#bd3786"
             ],
             [
              0.5555555555555556,
              "#d8576b"
             ],
             [
              0.6666666666666666,
              "#ed7953"
             ],
             [
              0.7777777777777778,
              "#fb9f3a"
             ],
             [
              0.8888888888888888,
              "#fdca26"
             ],
             [
              1,
              "#f0f921"
             ]
            ],
            "type": "histogram2d"
           }
          ],
          "histogram2dcontour": [
           {
            "colorbar": {
             "outlinewidth": 0,
             "ticks": ""
            },
            "colorscale": [
             [
              0,
              "#0d0887"
             ],
             [
              0.1111111111111111,
              "#46039f"
             ],
             [
              0.2222222222222222,
              "#7201a8"
             ],
             [
              0.3333333333333333,
              "#9c179e"
             ],
             [
              0.4444444444444444,
              "#bd3786"
             ],
             [
              0.5555555555555556,
              "#d8576b"
             ],
             [
              0.6666666666666666,
              "#ed7953"
             ],
             [
              0.7777777777777778,
              "#fb9f3a"
             ],
             [
              0.8888888888888888,
              "#fdca26"
             ],
             [
              1,
              "#f0f921"
             ]
            ],
            "type": "histogram2dcontour"
           }
          ],
          "mesh3d": [
           {
            "colorbar": {
             "outlinewidth": 0,
             "ticks": ""
            },
            "type": "mesh3d"
           }
          ],
          "parcoords": [
           {
            "line": {
             "colorbar": {
              "outlinewidth": 0,
              "ticks": ""
             }
            },
            "type": "parcoords"
           }
          ],
          "pie": [
           {
            "automargin": true,
            "type": "pie"
           }
          ],
          "scatter": [
           {
            "marker": {
             "colorbar": {
              "outlinewidth": 0,
              "ticks": ""
             }
            },
            "type": "scatter"
           }
          ],
          "scatter3d": [
           {
            "line": {
             "colorbar": {
              "outlinewidth": 0,
              "ticks": ""
             }
            },
            "marker": {
             "colorbar": {
              "outlinewidth": 0,
              "ticks": ""
             }
            },
            "type": "scatter3d"
           }
          ],
          "scattercarpet": [
           {
            "marker": {
             "colorbar": {
              "outlinewidth": 0,
              "ticks": ""
             }
            },
            "type": "scattercarpet"
           }
          ],
          "scattergeo": [
           {
            "marker": {
             "colorbar": {
              "outlinewidth": 0,
              "ticks": ""
             }
            },
            "type": "scattergeo"
           }
          ],
          "scattergl": [
           {
            "marker": {
             "colorbar": {
              "outlinewidth": 0,
              "ticks": ""
             }
            },
            "type": "scattergl"
           }
          ],
          "scattermapbox": [
           {
            "marker": {
             "colorbar": {
              "outlinewidth": 0,
              "ticks": ""
             }
            },
            "type": "scattermapbox"
           }
          ],
          "scatterpolar": [
           {
            "marker": {
             "colorbar": {
              "outlinewidth": 0,
              "ticks": ""
             }
            },
            "type": "scatterpolar"
           }
          ],
          "scatterpolargl": [
           {
            "marker": {
             "colorbar": {
              "outlinewidth": 0,
              "ticks": ""
             }
            },
            "type": "scatterpolargl"
           }
          ],
          "scatterternary": [
           {
            "marker": {
             "colorbar": {
              "outlinewidth": 0,
              "ticks": ""
             }
            },
            "type": "scatterternary"
           }
          ],
          "surface": [
           {
            "colorbar": {
             "outlinewidth": 0,
             "ticks": ""
            },
            "colorscale": [
             [
              0,
              "#0d0887"
             ],
             [
              0.1111111111111111,
              "#46039f"
             ],
             [
              0.2222222222222222,
              "#7201a8"
             ],
             [
              0.3333333333333333,
              "#9c179e"
             ],
             [
              0.4444444444444444,
              "#bd3786"
             ],
             [
              0.5555555555555556,
              "#d8576b"
             ],
             [
              0.6666666666666666,
              "#ed7953"
             ],
             [
              0.7777777777777778,
              "#fb9f3a"
             ],
             [
              0.8888888888888888,
              "#fdca26"
             ],
             [
              1,
              "#f0f921"
             ]
            ],
            "type": "surface"
           }
          ],
          "table": [
           {
            "cells": {
             "fill": {
              "color": "#EBF0F8"
             },
             "line": {
              "color": "white"
             }
            },
            "header": {
             "fill": {
              "color": "#C8D4E3"
             },
             "line": {
              "color": "white"
             }
            },
            "type": "table"
           }
          ]
         },
         "layout": {
          "annotationdefaults": {
           "arrowcolor": "#2a3f5f",
           "arrowhead": 0,
           "arrowwidth": 1
          },
          "autotypenumbers": "strict",
          "coloraxis": {
           "colorbar": {
            "outlinewidth": 0,
            "ticks": ""
           }
          },
          "colorscale": {
           "diverging": [
            [
             0,
             "#8e0152"
            ],
            [
             0.1,
             "#c51b7d"
            ],
            [
             0.2,
             "#de77ae"
            ],
            [
             0.3,
             "#f1b6da"
            ],
            [
             0.4,
             "#fde0ef"
            ],
            [
             0.5,
             "#f7f7f7"
            ],
            [
             0.6,
             "#e6f5d0"
            ],
            [
             0.7,
             "#b8e186"
            ],
            [
             0.8,
             "#7fbc41"
            ],
            [
             0.9,
             "#4d9221"
            ],
            [
             1,
             "#276419"
            ]
           ],
           "sequential": [
            [
             0,
             "#0d0887"
            ],
            [
             0.1111111111111111,
             "#46039f"
            ],
            [
             0.2222222222222222,
             "#7201a8"
            ],
            [
             0.3333333333333333,
             "#9c179e"
            ],
            [
             0.4444444444444444,
             "#bd3786"
            ],
            [
             0.5555555555555556,
             "#d8576b"
            ],
            [
             0.6666666666666666,
             "#ed7953"
            ],
            [
             0.7777777777777778,
             "#fb9f3a"
            ],
            [
             0.8888888888888888,
             "#fdca26"
            ],
            [
             1,
             "#f0f921"
            ]
           ],
           "sequentialminus": [
            [
             0,
             "#0d0887"
            ],
            [
             0.1111111111111111,
             "#46039f"
            ],
            [
             0.2222222222222222,
             "#7201a8"
            ],
            [
             0.3333333333333333,
             "#9c179e"
            ],
            [
             0.4444444444444444,
             "#bd3786"
            ],
            [
             0.5555555555555556,
             "#d8576b"
            ],
            [
             0.6666666666666666,
             "#ed7953"
            ],
            [
             0.7777777777777778,
             "#fb9f3a"
            ],
            [
             0.8888888888888888,
             "#fdca26"
            ],
            [
             1,
             "#f0f921"
            ]
           ]
          },
          "colorway": [
           "#636efa",
           "#EF553B",
           "#00cc96",
           "#ab63fa",
           "#FFA15A",
           "#19d3f3",
           "#FF6692",
           "#B6E880",
           "#FF97FF",
           "#FECB52"
          ],
          "font": {
           "color": "#2a3f5f"
          },
          "geo": {
           "bgcolor": "white",
           "lakecolor": "white",
           "landcolor": "#E5ECF6",
           "showlakes": true,
           "showland": true,
           "subunitcolor": "white"
          },
          "hoverlabel": {
           "align": "left"
          },
          "hovermode": "closest",
          "mapbox": {
           "style": "light"
          },
          "paper_bgcolor": "white",
          "plot_bgcolor": "#E5ECF6",
          "polar": {
           "angularaxis": {
            "gridcolor": "white",
            "linecolor": "white",
            "ticks": ""
           },
           "bgcolor": "#E5ECF6",
           "radialaxis": {
            "gridcolor": "white",
            "linecolor": "white",
            "ticks": ""
           }
          },
          "scene": {
           "xaxis": {
            "backgroundcolor": "#E5ECF6",
            "gridcolor": "white",
            "gridwidth": 2,
            "linecolor": "white",
            "showbackground": true,
            "ticks": "",
            "zerolinecolor": "white"
           },
           "yaxis": {
            "backgroundcolor": "#E5ECF6",
            "gridcolor": "white",
            "gridwidth": 2,
            "linecolor": "white",
            "showbackground": true,
            "ticks": "",
            "zerolinecolor": "white"
           },
           "zaxis": {
            "backgroundcolor": "#E5ECF6",
            "gridcolor": "white",
            "gridwidth": 2,
            "linecolor": "white",
            "showbackground": true,
            "ticks": "",
            "zerolinecolor": "white"
           }
          },
          "shapedefaults": {
           "line": {
            "color": "#2a3f5f"
           }
          },
          "ternary": {
           "aaxis": {
            "gridcolor": "white",
            "linecolor": "white",
            "ticks": ""
           },
           "baxis": {
            "gridcolor": "white",
            "linecolor": "white",
            "ticks": ""
           },
           "bgcolor": "#E5ECF6",
           "caxis": {
            "gridcolor": "white",
            "linecolor": "white",
            "ticks": ""
           }
          },
          "title": {
           "x": 0.05
          },
          "xaxis": {
           "automargin": true,
           "gridcolor": "white",
           "linecolor": "white",
           "ticks": "",
           "title": {
            "standoff": 15
           },
           "zerolinecolor": "white",
           "zerolinewidth": 2
          },
          "yaxis": {
           "automargin": true,
           "gridcolor": "white",
           "linecolor": "white",
           "ticks": "",
           "title": {
            "standoff": 15
           },
           "zerolinecolor": "white",
           "zerolinewidth": 2
          }
         }
        },
        "xaxis": {
         "anchor": "y",
         "domain": [
          0,
          1
         ],
         "title": {
          "text": "BLOCK_TIMESTAMP"
         }
        },
        "yaxis": {
         "anchor": "x",
         "domain": [
          0,
          1
         ],
         "title": {
          "text": "LABEL"
         }
        }
       }
      }
     },
     "metadata": {},
     "output_type": "display_data"
    }
   ],
   "source": [
    "native_token_transfers_per_wallet['dummy'] = 10\n",
    "fig = px.scatter(native_token_transfers_per_wallet, x=\"BLOCK_TIMESTAMP\", y=\"LABEL\", color=\"SIDE\", \n",
    "\t\t\thover_data=['LABEL', 'AMOUNT', 'AMOUNT_USD'], size='dummy', size_max=10, opacity=0.5)\n",
    "fig.update_layout(height=500)"
   ]
  },
  {
   "cell_type": "code",
   "execution_count": 195,
   "metadata": {},
   "outputs": [
    {
     "data": {
      "application/vnd.plotly.v1+json": {
       "config": {
        "plotlyServerURL": "https://plotly.com"
       },
       "data": [
        {
         "branchvalues": "total",
         "domain": {
          "x": [
           0,
           1
          ],
          "y": [
           0,
           1
          ]
         },
         "hovertemplate": "labels=%{label}<br>AMOUNT_USD=%{value}<br>parent=%{parent}<br>id=%{id}<extra></extra>",
         "ids": [
          "incoming/celsius network",
          "outgoing/celsius network",
          "outgoing/other",
          "incoming",
          "outgoing"
         ],
         "labels": [
          "celsius network",
          "celsius network",
          "other",
          "incoming",
          "outgoing"
         ],
         "name": "",
         "parents": [
          "incoming",
          "outgoing",
          "outgoing",
          "",
          ""
         ],
         "type": "sunburst",
         "values": [
          34401554.4,
          46645157.879999995,
          162116625.6,
          34401554.4,
          208761783.48
         ]
        }
       ],
       "layout": {
        "legend": {
         "tracegroupgap": 0
        },
        "template": {
         "data": {
          "bar": [
           {
            "error_x": {
             "color": "#2a3f5f"
            },
            "error_y": {
             "color": "#2a3f5f"
            },
            "marker": {
             "line": {
              "color": "#E5ECF6",
              "width": 0.5
             },
             "pattern": {
              "fillmode": "overlay",
              "size": 10,
              "solidity": 0.2
             }
            },
            "type": "bar"
           }
          ],
          "barpolar": [
           {
            "marker": {
             "line": {
              "color": "#E5ECF6",
              "width": 0.5
             },
             "pattern": {
              "fillmode": "overlay",
              "size": 10,
              "solidity": 0.2
             }
            },
            "type": "barpolar"
           }
          ],
          "carpet": [
           {
            "aaxis": {
             "endlinecolor": "#2a3f5f",
             "gridcolor": "white",
             "linecolor": "white",
             "minorgridcolor": "white",
             "startlinecolor": "#2a3f5f"
            },
            "baxis": {
             "endlinecolor": "#2a3f5f",
             "gridcolor": "white",
             "linecolor": "white",
             "minorgridcolor": "white",
             "startlinecolor": "#2a3f5f"
            },
            "type": "carpet"
           }
          ],
          "choropleth": [
           {
            "colorbar": {
             "outlinewidth": 0,
             "ticks": ""
            },
            "type": "choropleth"
           }
          ],
          "contour": [
           {
            "colorbar": {
             "outlinewidth": 0,
             "ticks": ""
            },
            "colorscale": [
             [
              0,
              "#0d0887"
             ],
             [
              0.1111111111111111,
              "#46039f"
             ],
             [
              0.2222222222222222,
              "#7201a8"
             ],
             [
              0.3333333333333333,
              "#9c179e"
             ],
             [
              0.4444444444444444,
              "#bd3786"
             ],
             [
              0.5555555555555556,
              "#d8576b"
             ],
             [
              0.6666666666666666,
              "#ed7953"
             ],
             [
              0.7777777777777778,
              "#fb9f3a"
             ],
             [
              0.8888888888888888,
              "#fdca26"
             ],
             [
              1,
              "#f0f921"
             ]
            ],
            "type": "contour"
           }
          ],
          "contourcarpet": [
           {
            "colorbar": {
             "outlinewidth": 0,
             "ticks": ""
            },
            "type": "contourcarpet"
           }
          ],
          "heatmap": [
           {
            "colorbar": {
             "outlinewidth": 0,
             "ticks": ""
            },
            "colorscale": [
             [
              0,
              "#0d0887"
             ],
             [
              0.1111111111111111,
              "#46039f"
             ],
             [
              0.2222222222222222,
              "#7201a8"
             ],
             [
              0.3333333333333333,
              "#9c179e"
             ],
             [
              0.4444444444444444,
              "#bd3786"
             ],
             [
              0.5555555555555556,
              "#d8576b"
             ],
             [
              0.6666666666666666,
              "#ed7953"
             ],
             [
              0.7777777777777778,
              "#fb9f3a"
             ],
             [
              0.8888888888888888,
              "#fdca26"
             ],
             [
              1,
              "#f0f921"
             ]
            ],
            "type": "heatmap"
           }
          ],
          "heatmapgl": [
           {
            "colorbar": {
             "outlinewidth": 0,
             "ticks": ""
            },
            "colorscale": [
             [
              0,
              "#0d0887"
             ],
             [
              0.1111111111111111,
              "#46039f"
             ],
             [
              0.2222222222222222,
              "#7201a8"
             ],
             [
              0.3333333333333333,
              "#9c179e"
             ],
             [
              0.4444444444444444,
              "#bd3786"
             ],
             [
              0.5555555555555556,
              "#d8576b"
             ],
             [
              0.6666666666666666,
              "#ed7953"
             ],
             [
              0.7777777777777778,
              "#fb9f3a"
             ],
             [
              0.8888888888888888,
              "#fdca26"
             ],
             [
              1,
              "#f0f921"
             ]
            ],
            "type": "heatmapgl"
           }
          ],
          "histogram": [
           {
            "marker": {
             "pattern": {
              "fillmode": "overlay",
              "size": 10,
              "solidity": 0.2
             }
            },
            "type": "histogram"
           }
          ],
          "histogram2d": [
           {
            "colorbar": {
             "outlinewidth": 0,
             "ticks": ""
            },
            "colorscale": [
             [
              0,
              "#0d0887"
             ],
             [
              0.1111111111111111,
              "#46039f"
             ],
             [
              0.2222222222222222,
              "#7201a8"
             ],
             [
              0.3333333333333333,
              "#9c179e"
             ],
             [
              0.4444444444444444,
              "#bd3786"
             ],
             [
              0.5555555555555556,
              "#d8576b"
             ],
             [
              0.6666666666666666,
              "#ed7953"
             ],
             [
              0.7777777777777778,
              "#fb9f3a"
             ],
             [
              0.8888888888888888,
              "#fdca26"
             ],
             [
              1,
              "#f0f921"
             ]
            ],
            "type": "histogram2d"
           }
          ],
          "histogram2dcontour": [
           {
            "colorbar": {
             "outlinewidth": 0,
             "ticks": ""
            },
            "colorscale": [
             [
              0,
              "#0d0887"
             ],
             [
              0.1111111111111111,
              "#46039f"
             ],
             [
              0.2222222222222222,
              "#7201a8"
             ],
             [
              0.3333333333333333,
              "#9c179e"
             ],
             [
              0.4444444444444444,
              "#bd3786"
             ],
             [
              0.5555555555555556,
              "#d8576b"
             ],
             [
              0.6666666666666666,
              "#ed7953"
             ],
             [
              0.7777777777777778,
              "#fb9f3a"
             ],
             [
              0.8888888888888888,
              "#fdca26"
             ],
             [
              1,
              "#f0f921"
             ]
            ],
            "type": "histogram2dcontour"
           }
          ],
          "mesh3d": [
           {
            "colorbar": {
             "outlinewidth": 0,
             "ticks": ""
            },
            "type": "mesh3d"
           }
          ],
          "parcoords": [
           {
            "line": {
             "colorbar": {
              "outlinewidth": 0,
              "ticks": ""
             }
            },
            "type": "parcoords"
           }
          ],
          "pie": [
           {
            "automargin": true,
            "type": "pie"
           }
          ],
          "scatter": [
           {
            "marker": {
             "colorbar": {
              "outlinewidth": 0,
              "ticks": ""
             }
            },
            "type": "scatter"
           }
          ],
          "scatter3d": [
           {
            "line": {
             "colorbar": {
              "outlinewidth": 0,
              "ticks": ""
             }
            },
            "marker": {
             "colorbar": {
              "outlinewidth": 0,
              "ticks": ""
             }
            },
            "type": "scatter3d"
           }
          ],
          "scattercarpet": [
           {
            "marker": {
             "colorbar": {
              "outlinewidth": 0,
              "ticks": ""
             }
            },
            "type": "scattercarpet"
           }
          ],
          "scattergeo": [
           {
            "marker": {
             "colorbar": {
              "outlinewidth": 0,
              "ticks": ""
             }
            },
            "type": "scattergeo"
           }
          ],
          "scattergl": [
           {
            "marker": {
             "colorbar": {
              "outlinewidth": 0,
              "ticks": ""
             }
            },
            "type": "scattergl"
           }
          ],
          "scattermapbox": [
           {
            "marker": {
             "colorbar": {
              "outlinewidth": 0,
              "ticks": ""
             }
            },
            "type": "scattermapbox"
           }
          ],
          "scatterpolar": [
           {
            "marker": {
             "colorbar": {
              "outlinewidth": 0,
              "ticks": ""
             }
            },
            "type": "scatterpolar"
           }
          ],
          "scatterpolargl": [
           {
            "marker": {
             "colorbar": {
              "outlinewidth": 0,
              "ticks": ""
             }
            },
            "type": "scatterpolargl"
           }
          ],
          "scatterternary": [
           {
            "marker": {
             "colorbar": {
              "outlinewidth": 0,
              "ticks": ""
             }
            },
            "type": "scatterternary"
           }
          ],
          "surface": [
           {
            "colorbar": {
             "outlinewidth": 0,
             "ticks": ""
            },
            "colorscale": [
             [
              0,
              "#0d0887"
             ],
             [
              0.1111111111111111,
              "#46039f"
             ],
             [
              0.2222222222222222,
              "#7201a8"
             ],
             [
              0.3333333333333333,
              "#9c179e"
             ],
             [
              0.4444444444444444,
              "#bd3786"
             ],
             [
              0.5555555555555556,
              "#d8576b"
             ],
             [
              0.6666666666666666,
              "#ed7953"
             ],
             [
              0.7777777777777778,
              "#fb9f3a"
             ],
             [
              0.8888888888888888,
              "#fdca26"
             ],
             [
              1,
              "#f0f921"
             ]
            ],
            "type": "surface"
           }
          ],
          "table": [
           {
            "cells": {
             "fill": {
              "color": "#EBF0F8"
             },
             "line": {
              "color": "white"
             }
            },
            "header": {
             "fill": {
              "color": "#C8D4E3"
             },
             "line": {
              "color": "white"
             }
            },
            "type": "table"
           }
          ]
         },
         "layout": {
          "annotationdefaults": {
           "arrowcolor": "#2a3f5f",
           "arrowhead": 0,
           "arrowwidth": 1
          },
          "autotypenumbers": "strict",
          "coloraxis": {
           "colorbar": {
            "outlinewidth": 0,
            "ticks": ""
           }
          },
          "colorscale": {
           "diverging": [
            [
             0,
             "#8e0152"
            ],
            [
             0.1,
             "#c51b7d"
            ],
            [
             0.2,
             "#de77ae"
            ],
            [
             0.3,
             "#f1b6da"
            ],
            [
             0.4,
             "#fde0ef"
            ],
            [
             0.5,
             "#f7f7f7"
            ],
            [
             0.6,
             "#e6f5d0"
            ],
            [
             0.7,
             "#b8e186"
            ],
            [
             0.8,
             "#7fbc41"
            ],
            [
             0.9,
             "#4d9221"
            ],
            [
             1,
             "#276419"
            ]
           ],
           "sequential": [
            [
             0,
             "#0d0887"
            ],
            [
             0.1111111111111111,
             "#46039f"
            ],
            [
             0.2222222222222222,
             "#7201a8"
            ],
            [
             0.3333333333333333,
             "#9c179e"
            ],
            [
             0.4444444444444444,
             "#bd3786"
            ],
            [
             0.5555555555555556,
             "#d8576b"
            ],
            [
             0.6666666666666666,
             "#ed7953"
            ],
            [
             0.7777777777777778,
             "#fb9f3a"
            ],
            [
             0.8888888888888888,
             "#fdca26"
            ],
            [
             1,
             "#f0f921"
            ]
           ],
           "sequentialminus": [
            [
             0,
             "#0d0887"
            ],
            [
             0.1111111111111111,
             "#46039f"
            ],
            [
             0.2222222222222222,
             "#7201a8"
            ],
            [
             0.3333333333333333,
             "#9c179e"
            ],
            [
             0.4444444444444444,
             "#bd3786"
            ],
            [
             0.5555555555555556,
             "#d8576b"
            ],
            [
             0.6666666666666666,
             "#ed7953"
            ],
            [
             0.7777777777777778,
             "#fb9f3a"
            ],
            [
             0.8888888888888888,
             "#fdca26"
            ],
            [
             1,
             "#f0f921"
            ]
           ]
          },
          "colorway": [
           "#636efa",
           "#EF553B",
           "#00cc96",
           "#ab63fa",
           "#FFA15A",
           "#19d3f3",
           "#FF6692",
           "#B6E880",
           "#FF97FF",
           "#FECB52"
          ],
          "font": {
           "color": "#2a3f5f"
          },
          "geo": {
           "bgcolor": "white",
           "lakecolor": "white",
           "landcolor": "#E5ECF6",
           "showlakes": true,
           "showland": true,
           "subunitcolor": "white"
          },
          "hoverlabel": {
           "align": "left"
          },
          "hovermode": "closest",
          "mapbox": {
           "style": "light"
          },
          "paper_bgcolor": "white",
          "plot_bgcolor": "#E5ECF6",
          "polar": {
           "angularaxis": {
            "gridcolor": "white",
            "linecolor": "white",
            "ticks": ""
           },
           "bgcolor": "#E5ECF6",
           "radialaxis": {
            "gridcolor": "white",
            "linecolor": "white",
            "ticks": ""
           }
          },
          "scene": {
           "xaxis": {
            "backgroundcolor": "#E5ECF6",
            "gridcolor": "white",
            "gridwidth": 2,
            "linecolor": "white",
            "showbackground": true,
            "ticks": "",
            "zerolinecolor": "white"
           },
           "yaxis": {
            "backgroundcolor": "#E5ECF6",
            "gridcolor": "white",
            "gridwidth": 2,
            "linecolor": "white",
            "showbackground": true,
            "ticks": "",
            "zerolinecolor": "white"
           },
           "zaxis": {
            "backgroundcolor": "#E5ECF6",
            "gridcolor": "white",
            "gridwidth": 2,
            "linecolor": "white",
            "showbackground": true,
            "ticks": "",
            "zerolinecolor": "white"
           }
          },
          "shapedefaults": {
           "line": {
            "color": "#2a3f5f"
           }
          },
          "ternary": {
           "aaxis": {
            "gridcolor": "white",
            "linecolor": "white",
            "ticks": ""
           },
           "baxis": {
            "gridcolor": "white",
            "linecolor": "white",
            "ticks": ""
           },
           "bgcolor": "#E5ECF6",
           "caxis": {
            "gridcolor": "white",
            "linecolor": "white",
            "ticks": ""
           }
          },
          "title": {
           "x": 0.05
          },
          "xaxis": {
           "automargin": true,
           "gridcolor": "white",
           "linecolor": "white",
           "ticks": "",
           "title": {
            "standoff": 15
           },
           "zerolinecolor": "white",
           "zerolinewidth": 2
          },
          "yaxis": {
           "automargin": true,
           "gridcolor": "white",
           "linecolor": "white",
           "ticks": "",
           "title": {
            "standoff": 15
           },
           "zerolinecolor": "white",
           "zerolinewidth": 2
          }
         }
        },
        "title": {
         "text": "Total ETH Transfers"
        }
       }
      }
     },
     "metadata": {},
     "output_type": "display_data"
    }
   ],
   "source": [
    "agg_native_token_transfers_per_wallet = native_token_transfers_per_wallet.groupby([\"LABEL\", \"SIDE\"])[['AMOUNT_USD', 'AMOUNT']].sum()\n",
    "agg_native_token_transfers_per_wallet = agg_native_token_transfers_per_wallet.reset_index()\n",
    "\n",
    "fig = px.sunburst(agg_native_token_transfers_per_wallet, path=['SIDE', 'LABEL'], values='AMOUNT_USD', title='Total ETH Transfers')\n",
    "fig"
   ]
  },
  {
   "cell_type": "code",
   "execution_count": 208,
   "metadata": {},
   "outputs": [
    {
     "data": {
      "text/html": [
       "<div>\n",
       "<style scoped>\n",
       "    .dataframe tbody tr th:only-of-type {\n",
       "        vertical-align: middle;\n",
       "    }\n",
       "\n",
       "    .dataframe tbody tr th {\n",
       "        vertical-align: top;\n",
       "    }\n",
       "\n",
       "    .dataframe thead th {\n",
       "        text-align: right;\n",
       "    }\n",
       "</style>\n",
       "<table border=\"1\" class=\"dataframe\">\n",
       "  <thead>\n",
       "    <tr style=\"text-align: right;\">\n",
       "      <th></th>\n",
       "      <th>TX_HASH</th>\n",
       "      <th>SIDE</th>\n",
       "      <th>BLOCK_TIMESTAMP</th>\n",
       "      <th>ORIGIN_FROM_ADDRESS</th>\n",
       "      <th>ORIGIN_TO_ADDRESS</th>\n",
       "      <th>AMOUNT</th>\n",
       "      <th>AMOUNT_USD</th>\n",
       "      <th>ADDRESS_NAME</th>\n",
       "      <th>LABEL_TYPE</th>\n",
       "      <th>LABEL_SUBTYPE</th>\n",
       "      <th>LABEL</th>\n",
       "    </tr>\n",
       "  </thead>\n",
       "  <tbody>\n",
       "    <tr>\n",
       "      <th>0</th>\n",
       "      <td>0x2936566d37d298a4937746c32f72c59cbb7875b20274...</td>\n",
       "      <td>outgoing</td>\n",
       "      <td>2022-02-03 14:53:43</td>\n",
       "      <td>0x8dad4658ee06122fb9b105a8dea1d185ac428687</td>\n",
       "      <td>0xeea3311250fe4c3268f8e684f7c87a82ff183ec1</td>\n",
       "      <td>9298.000000</td>\n",
       "      <td>24301318.81</td>\n",
       "      <td>other</td>\n",
       "      <td>other</td>\n",
       "      <td>other</td>\n",
       "      <td>other</td>\n",
       "    </tr>\n",
       "    <tr>\n",
       "      <th>1</th>\n",
       "      <td>0x4043e89fbf25406509bbd27455b73e1119c806162651...</td>\n",
       "      <td>outgoing</td>\n",
       "      <td>2022-03-02 12:34:07</td>\n",
       "      <td>0x8dad4658ee06122fb9b105a8dea1d185ac428687</td>\n",
       "      <td>0xef22c14f46858d5ac61326497b056974167f2ee1</td>\n",
       "      <td>6668.000000</td>\n",
       "      <td>19962351.61</td>\n",
       "      <td>celsius wallet</td>\n",
       "      <td>defi</td>\n",
       "      <td>general_contract</td>\n",
       "      <td>celsius network</td>\n",
       "    </tr>\n",
       "    <tr>\n",
       "      <th>2</th>\n",
       "      <td>0x7073a7e0f2abb6879b135be49b56dc61f04ca7f541b3...</td>\n",
       "      <td>outgoing</td>\n",
       "      <td>2022-02-09 09:22:23</td>\n",
       "      <td>0x8dad4658ee06122fb9b105a8dea1d185ac428687</td>\n",
       "      <td>0xeea3311250fe4c3268f8e684f7c87a82ff183ec1</td>\n",
       "      <td>3250.000000</td>\n",
       "      <td>10095008.37</td>\n",
       "      <td>other</td>\n",
       "      <td>other</td>\n",
       "      <td>other</td>\n",
       "      <td>other</td>\n",
       "    </tr>\n",
       "    <tr>\n",
       "      <th>3</th>\n",
       "      <td>0xe40e2fb166ed24b731f5ad4e5ec72a408ce45368b9ed...</td>\n",
       "      <td>outgoing</td>\n",
       "      <td>2022-03-02 11:32:52</td>\n",
       "      <td>0x8dad4658ee06122fb9b105a8dea1d185ac428687</td>\n",
       "      <td>0xeea3311250fe4c3268f8e684f7c87a82ff183ec1</td>\n",
       "      <td>6666.938248</td>\n",
       "      <td>20006595.04</td>\n",
       "      <td>other</td>\n",
       "      <td>other</td>\n",
       "      <td>other</td>\n",
       "      <td>other</td>\n",
       "    </tr>\n",
       "    <tr>\n",
       "      <th>4</th>\n",
       "      <td>0x3069fd7851349fcdcd1c7c70cbd7aeee550e8aa32a46...</td>\n",
       "      <td>outgoing</td>\n",
       "      <td>2022-03-28 10:04:33</td>\n",
       "      <td>0x8dad4658ee06122fb9b105a8dea1d185ac428687</td>\n",
       "      <td>0xeea3311250fe4c3268f8e684f7c87a82ff183ec1</td>\n",
       "      <td>7977.237020</td>\n",
       "      <td>26655390.58</td>\n",
       "      <td>other</td>\n",
       "      <td>other</td>\n",
       "      <td>other</td>\n",
       "      <td>other</td>\n",
       "    </tr>\n",
       "    <tr>\n",
       "      <th>5</th>\n",
       "      <td>0xe40e2fb166ed24b731f5ad4e5ec72a408ce45368b9ed...</td>\n",
       "      <td>outgoing</td>\n",
       "      <td>2022-03-02 11:32:52</td>\n",
       "      <td>0x8dad4658ee06122fb9b105a8dea1d185ac428687</td>\n",
       "      <td>0xeea3311250fe4c3268f8e684f7c87a82ff183ec1</td>\n",
       "      <td>6666.938248</td>\n",
       "      <td>20006595.04</td>\n",
       "      <td>other</td>\n",
       "      <td>other</td>\n",
       "      <td>other</td>\n",
       "      <td>other</td>\n",
       "    </tr>\n",
       "    <tr>\n",
       "      <th>6</th>\n",
       "      <td>0x27dcde3b97d51f10f1d6d94e245716a8c98015280e0f...</td>\n",
       "      <td>incoming</td>\n",
       "      <td>2022-02-09 09:11:25</td>\n",
       "      <td>0xef22c14f46858d5ac61326497b056974167f2ee1</td>\n",
       "      <td>0x8dad4658ee06122fb9b105a8dea1d185ac428687</td>\n",
       "      <td>3250.000000</td>\n",
       "      <td>10095008.37</td>\n",
       "      <td>celsius wallet</td>\n",
       "      <td>defi</td>\n",
       "      <td>general_contract</td>\n",
       "      <td>celsius network</td>\n",
       "    </tr>\n",
       "    <tr>\n",
       "      <th>7</th>\n",
       "      <td>0x3069fd7851349fcdcd1c7c70cbd7aeee550e8aa32a46...</td>\n",
       "      <td>outgoing</td>\n",
       "      <td>2022-03-28 10:04:33</td>\n",
       "      <td>0x8dad4658ee06122fb9b105a8dea1d185ac428687</td>\n",
       "      <td>0xeea3311250fe4c3268f8e684f7c87a82ff183ec1</td>\n",
       "      <td>7977.237020</td>\n",
       "      <td>26655390.58</td>\n",
       "      <td>other</td>\n",
       "      <td>other</td>\n",
       "      <td>other</td>\n",
       "      <td>other</td>\n",
       "    </tr>\n",
       "    <tr>\n",
       "      <th>8</th>\n",
       "      <td>0x7073a7e0f2abb6879b135be49b56dc61f04ca7f541b3...</td>\n",
       "      <td>outgoing</td>\n",
       "      <td>2022-02-09 09:22:23</td>\n",
       "      <td>0x8dad4658ee06122fb9b105a8dea1d185ac428687</td>\n",
       "      <td>0xeea3311250fe4c3268f8e684f7c87a82ff183ec1</td>\n",
       "      <td>3250.000000</td>\n",
       "      <td>10095008.37</td>\n",
       "      <td>other</td>\n",
       "      <td>other</td>\n",
       "      <td>other</td>\n",
       "      <td>other</td>\n",
       "    </tr>\n",
       "    <tr>\n",
       "      <th>9</th>\n",
       "      <td>0xb64dff1b3bc33cbdfa19c91051185d8f410db3f5a997...</td>\n",
       "      <td>outgoing</td>\n",
       "      <td>2022-03-28 11:01:26</td>\n",
       "      <td>0x8dad4658ee06122fb9b105a8dea1d185ac428687</td>\n",
       "      <td>0xef22c14f46858d5ac61326497b056974167f2ee1</td>\n",
       "      <td>7977.000000</td>\n",
       "      <td>26682806.27</td>\n",
       "      <td>celsius wallet</td>\n",
       "      <td>defi</td>\n",
       "      <td>general_contract</td>\n",
       "      <td>celsius network</td>\n",
       "    </tr>\n",
       "    <tr>\n",
       "      <th>10</th>\n",
       "      <td>0x2936566d37d298a4937746c32f72c59cbb7875b20274...</td>\n",
       "      <td>outgoing</td>\n",
       "      <td>2022-02-03 14:53:43</td>\n",
       "      <td>0x8dad4658ee06122fb9b105a8dea1d185ac428687</td>\n",
       "      <td>0xeea3311250fe4c3268f8e684f7c87a82ff183ec1</td>\n",
       "      <td>9298.000000</td>\n",
       "      <td>24301318.81</td>\n",
       "      <td>other</td>\n",
       "      <td>other</td>\n",
       "      <td>other</td>\n",
       "      <td>other</td>\n",
       "    </tr>\n",
       "    <tr>\n",
       "      <th>11</th>\n",
       "      <td>0xb04f3b39abad174e0b7abd593bb9c5d49448d6115709...</td>\n",
       "      <td>incoming</td>\n",
       "      <td>2022-02-03 14:25:34</td>\n",
       "      <td>0xef22c14f46858d5ac61326497b056974167f2ee1</td>\n",
       "      <td>0x8dad4658ee06122fb9b105a8dea1d185ac428687</td>\n",
       "      <td>9300.000000</td>\n",
       "      <td>24306546.03</td>\n",
       "      <td>celsius wallet</td>\n",
       "      <td>defi</td>\n",
       "      <td>general_contract</td>\n",
       "      <td>celsius network</td>\n",
       "    </tr>\n",
       "  </tbody>\n",
       "</table>\n",
       "</div>"
      ],
      "text/plain": [
       "                                              TX_HASH      SIDE  \\\n",
       "0   0x2936566d37d298a4937746c32f72c59cbb7875b20274...  outgoing   \n",
       "1   0x4043e89fbf25406509bbd27455b73e1119c806162651...  outgoing   \n",
       "2   0x7073a7e0f2abb6879b135be49b56dc61f04ca7f541b3...  outgoing   \n",
       "3   0xe40e2fb166ed24b731f5ad4e5ec72a408ce45368b9ed...  outgoing   \n",
       "4   0x3069fd7851349fcdcd1c7c70cbd7aeee550e8aa32a46...  outgoing   \n",
       "5   0xe40e2fb166ed24b731f5ad4e5ec72a408ce45368b9ed...  outgoing   \n",
       "6   0x27dcde3b97d51f10f1d6d94e245716a8c98015280e0f...  incoming   \n",
       "7   0x3069fd7851349fcdcd1c7c70cbd7aeee550e8aa32a46...  outgoing   \n",
       "8   0x7073a7e0f2abb6879b135be49b56dc61f04ca7f541b3...  outgoing   \n",
       "9   0xb64dff1b3bc33cbdfa19c91051185d8f410db3f5a997...  outgoing   \n",
       "10  0x2936566d37d298a4937746c32f72c59cbb7875b20274...  outgoing   \n",
       "11  0xb04f3b39abad174e0b7abd593bb9c5d49448d6115709...  incoming   \n",
       "\n",
       "       BLOCK_TIMESTAMP                         ORIGIN_FROM_ADDRESS  \\\n",
       "0  2022-02-03 14:53:43  0x8dad4658ee06122fb9b105a8dea1d185ac428687   \n",
       "1  2022-03-02 12:34:07  0x8dad4658ee06122fb9b105a8dea1d185ac428687   \n",
       "2  2022-02-09 09:22:23  0x8dad4658ee06122fb9b105a8dea1d185ac428687   \n",
       "3  2022-03-02 11:32:52  0x8dad4658ee06122fb9b105a8dea1d185ac428687   \n",
       "4  2022-03-28 10:04:33  0x8dad4658ee06122fb9b105a8dea1d185ac428687   \n",
       "5  2022-03-02 11:32:52  0x8dad4658ee06122fb9b105a8dea1d185ac428687   \n",
       "6  2022-02-09 09:11:25  0xef22c14f46858d5ac61326497b056974167f2ee1   \n",
       "7  2022-03-28 10:04:33  0x8dad4658ee06122fb9b105a8dea1d185ac428687   \n",
       "8  2022-02-09 09:22:23  0x8dad4658ee06122fb9b105a8dea1d185ac428687   \n",
       "9  2022-03-28 11:01:26  0x8dad4658ee06122fb9b105a8dea1d185ac428687   \n",
       "10 2022-02-03 14:53:43  0x8dad4658ee06122fb9b105a8dea1d185ac428687   \n",
       "11 2022-02-03 14:25:34  0xef22c14f46858d5ac61326497b056974167f2ee1   \n",
       "\n",
       "                             ORIGIN_TO_ADDRESS       AMOUNT   AMOUNT_USD  \\\n",
       "0   0xeea3311250fe4c3268f8e684f7c87a82ff183ec1  9298.000000  24301318.81   \n",
       "1   0xef22c14f46858d5ac61326497b056974167f2ee1  6668.000000  19962351.61   \n",
       "2   0xeea3311250fe4c3268f8e684f7c87a82ff183ec1  3250.000000  10095008.37   \n",
       "3   0xeea3311250fe4c3268f8e684f7c87a82ff183ec1  6666.938248  20006595.04   \n",
       "4   0xeea3311250fe4c3268f8e684f7c87a82ff183ec1  7977.237020  26655390.58   \n",
       "5   0xeea3311250fe4c3268f8e684f7c87a82ff183ec1  6666.938248  20006595.04   \n",
       "6   0x8dad4658ee06122fb9b105a8dea1d185ac428687  3250.000000  10095008.37   \n",
       "7   0xeea3311250fe4c3268f8e684f7c87a82ff183ec1  7977.237020  26655390.58   \n",
       "8   0xeea3311250fe4c3268f8e684f7c87a82ff183ec1  3250.000000  10095008.37   \n",
       "9   0xef22c14f46858d5ac61326497b056974167f2ee1  7977.000000  26682806.27   \n",
       "10  0xeea3311250fe4c3268f8e684f7c87a82ff183ec1  9298.000000  24301318.81   \n",
       "11  0x8dad4658ee06122fb9b105a8dea1d185ac428687  9300.000000  24306546.03   \n",
       "\n",
       "      ADDRESS_NAME LABEL_TYPE     LABEL_SUBTYPE            LABEL  \n",
       "0            other      other             other            other  \n",
       "1   celsius wallet       defi  general_contract  celsius network  \n",
       "2            other      other             other            other  \n",
       "3            other      other             other            other  \n",
       "4            other      other             other            other  \n",
       "5            other      other             other            other  \n",
       "6   celsius wallet       defi  general_contract  celsius network  \n",
       "7            other      other             other            other  \n",
       "8            other      other             other            other  \n",
       "9   celsius wallet       defi  general_contract  celsius network  \n",
       "10           other      other             other            other  \n",
       "11  celsius wallet       defi  general_contract  celsius network  "
      ]
     },
     "execution_count": 208,
     "metadata": {},
     "output_type": "execute_result"
    }
   ],
   "source": [
    "cols = [\n",
    "\t'TX_HASH', 'SIDE', 'BLOCK_TIMESTAMP', 'ORIGIN_FROM_ADDRESS', \n",
    "\t'ORIGIN_TO_ADDRESS', 'AMOUNT', 'AMOUNT_USD', 'ADDRESS_NAME', \n",
    "\t'LABEL_TYPE', 'LABEL_SUBTYPE', 'LABEL',\n",
    "]\n",
    "native_token_transfers_per_wallet[cols]"
   ]
  },
  {
   "cell_type": "code",
   "execution_count": 234,
   "metadata": {},
   "outputs": [
    {
     "data": {
      "text/plain": [
       "SIDE\n",
       "incoming    3.440155e+07\n",
       "outgoing    2.087618e+08\n",
       "Name: AMOUNT_USD, dtype: float64"
      ]
     },
     "execution_count": 234,
     "metadata": {},
     "output_type": "execute_result"
    }
   ],
   "source": [
    "native_token_transfers_per_wallet.groupby(['SIDE'])['AMOUNT_USD'].sum()"
   ]
  },
  {
   "cell_type": "markdown",
   "metadata": {},
   "source": [
    "# token transfers"
   ]
  },
  {
   "cell_type": "code",
   "execution_count": 201,
   "metadata": {},
   "outputs": [
    {
     "data": {
      "application/vnd.plotly.v1+json": {
       "config": {
        "plotlyServerURL": "https://plotly.com"
       },
       "data": [
        {
         "customdata": [
          [
           "other",
           315477.85874139,
           null
          ],
          [
           "other",
           772076.63967765,
           null
          ],
          [
           "other",
           6666.938248365,
           19996631.1435277
          ],
          [
           "other",
           646400,
           null
          ],
          [
           "other",
           646400,
           null
          ],
          [
           "other",
           3250,
           10084591.6922589
          ],
          [
           "other",
           315477.85874139,
           null
          ],
          [
           "other",
           772076.63967765,
           null
          ],
          [
           "other",
           7977.23702012,
           26656331.2177283
          ],
          [
           "other",
           902998.78093626,
           null
          ],
          [
           "other",
           902998.78093626,
           null
          ],
          [
           "other",
           9298,
           24292497.8916528
          ]
         ],
         "hovertemplate": "LABEL=%{customdata[0]}<br>SIDE=outgoing<br>BLOCK_TIMESTAMP=%{x}<br>SYMBOL=%{y}<br>dummy=%{marker.size}<br>AMOUNT=%{customdata[1]}<br>AMOUNT_USD=%{customdata[2]}<extra></extra>",
         "legendgroup": "other",
         "marker": {
          "color": "#636efa",
          "opacity": 0.5,
          "size": [
           10,
           10,
           10,
           10,
           10,
           10,
           10,
           10,
           10,
           10,
           10,
           10
          ],
          "sizemode": "area",
          "sizeref": 0.1,
          "symbol": "circle"
         },
         "mode": "markers",
         "name": "other",
         "orientation": "v",
         "showlegend": true,
         "type": "scatter",
         "x": [
          "2022-02-09T09:22:23",
          "2022-03-28T10:04:33",
          "2022-03-02T11:32:52",
          "2022-03-02T11:32:52",
          "2022-03-02T11:32:52",
          "2022-02-09T09:22:23",
          "2022-02-09T09:22:23",
          "2022-03-28T10:04:33",
          "2022-03-28T10:04:33",
          "2022-02-03T14:53:43",
          "2022-02-03T14:53:43",
          "2022-02-03T14:53:43"
         ],
         "xaxis": "x",
         "y": [
          "cyWETH",
          "ibETHv2",
          "WETH",
          "cyWETH",
          "ibETHv2",
          "WETH",
          "ibETHv2",
          "cyWETH",
          "WETH",
          "cyWETH",
          "ibETHv2",
          "WETH"
         ],
         "yaxis": "y"
        }
       ],
       "layout": {
        "annotations": [
         {
          "font": {},
          "showarrow": false,
          "text": "SIDE=outgoing",
          "textangle": 90,
          "x": 0.98,
          "xanchor": "left",
          "xref": "paper",
          "y": 0.5,
          "yanchor": "middle",
          "yref": "paper"
         }
        ],
        "legend": {
         "itemsizing": "constant",
         "title": {
          "text": "LABEL"
         },
         "tracegroupgap": 0
        },
        "margin": {
         "t": 60
        },
        "template": {
         "data": {
          "bar": [
           {
            "error_x": {
             "color": "#2a3f5f"
            },
            "error_y": {
             "color": "#2a3f5f"
            },
            "marker": {
             "line": {
              "color": "#E5ECF6",
              "width": 0.5
             },
             "pattern": {
              "fillmode": "overlay",
              "size": 10,
              "solidity": 0.2
             }
            },
            "type": "bar"
           }
          ],
          "barpolar": [
           {
            "marker": {
             "line": {
              "color": "#E5ECF6",
              "width": 0.5
             },
             "pattern": {
              "fillmode": "overlay",
              "size": 10,
              "solidity": 0.2
             }
            },
            "type": "barpolar"
           }
          ],
          "carpet": [
           {
            "aaxis": {
             "endlinecolor": "#2a3f5f",
             "gridcolor": "white",
             "linecolor": "white",
             "minorgridcolor": "white",
             "startlinecolor": "#2a3f5f"
            },
            "baxis": {
             "endlinecolor": "#2a3f5f",
             "gridcolor": "white",
             "linecolor": "white",
             "minorgridcolor": "white",
             "startlinecolor": "#2a3f5f"
            },
            "type": "carpet"
           }
          ],
          "choropleth": [
           {
            "colorbar": {
             "outlinewidth": 0,
             "ticks": ""
            },
            "type": "choropleth"
           }
          ],
          "contour": [
           {
            "colorbar": {
             "outlinewidth": 0,
             "ticks": ""
            },
            "colorscale": [
             [
              0,
              "#0d0887"
             ],
             [
              0.1111111111111111,
              "#46039f"
             ],
             [
              0.2222222222222222,
              "#7201a8"
             ],
             [
              0.3333333333333333,
              "#9c179e"
             ],
             [
              0.4444444444444444,
              "#bd3786"
             ],
             [
              0.5555555555555556,
              "#d8576b"
             ],
             [
              0.6666666666666666,
              "#ed7953"
             ],
             [
              0.7777777777777778,
              "#fb9f3a"
             ],
             [
              0.8888888888888888,
              "#fdca26"
             ],
             [
              1,
              "#f0f921"
             ]
            ],
            "type": "contour"
           }
          ],
          "contourcarpet": [
           {
            "colorbar": {
             "outlinewidth": 0,
             "ticks": ""
            },
            "type": "contourcarpet"
           }
          ],
          "heatmap": [
           {
            "colorbar": {
             "outlinewidth": 0,
             "ticks": ""
            },
            "colorscale": [
             [
              0,
              "#0d0887"
             ],
             [
              0.1111111111111111,
              "#46039f"
             ],
             [
              0.2222222222222222,
              "#7201a8"
             ],
             [
              0.3333333333333333,
              "#9c179e"
             ],
             [
              0.4444444444444444,
              "#bd3786"
             ],
             [
              0.5555555555555556,
              "#d8576b"
             ],
             [
              0.6666666666666666,
              "#ed7953"
             ],
             [
              0.7777777777777778,
              "#fb9f3a"
             ],
             [
              0.8888888888888888,
              "#fdca26"
             ],
             [
              1,
              "#f0f921"
             ]
            ],
            "type": "heatmap"
           }
          ],
          "heatmapgl": [
           {
            "colorbar": {
             "outlinewidth": 0,
             "ticks": ""
            },
            "colorscale": [
             [
              0,
              "#0d0887"
             ],
             [
              0.1111111111111111,
              "#46039f"
             ],
             [
              0.2222222222222222,
              "#7201a8"
             ],
             [
              0.3333333333333333,
              "#9c179e"
             ],
             [
              0.4444444444444444,
              "#bd3786"
             ],
             [
              0.5555555555555556,
              "#d8576b"
             ],
             [
              0.6666666666666666,
              "#ed7953"
             ],
             [
              0.7777777777777778,
              "#fb9f3a"
             ],
             [
              0.8888888888888888,
              "#fdca26"
             ],
             [
              1,
              "#f0f921"
             ]
            ],
            "type": "heatmapgl"
           }
          ],
          "histogram": [
           {
            "marker": {
             "pattern": {
              "fillmode": "overlay",
              "size": 10,
              "solidity": 0.2
             }
            },
            "type": "histogram"
           }
          ],
          "histogram2d": [
           {
            "colorbar": {
             "outlinewidth": 0,
             "ticks": ""
            },
            "colorscale": [
             [
              0,
              "#0d0887"
             ],
             [
              0.1111111111111111,
              "#46039f"
             ],
             [
              0.2222222222222222,
              "#7201a8"
             ],
             [
              0.3333333333333333,
              "#9c179e"
             ],
             [
              0.4444444444444444,
              "#bd3786"
             ],
             [
              0.5555555555555556,
              "#d8576b"
             ],
             [
              0.6666666666666666,
              "#ed7953"
             ],
             [
              0.7777777777777778,
              "#fb9f3a"
             ],
             [
              0.8888888888888888,
              "#fdca26"
             ],
             [
              1,
              "#f0f921"
             ]
            ],
            "type": "histogram2d"
           }
          ],
          "histogram2dcontour": [
           {
            "colorbar": {
             "outlinewidth": 0,
             "ticks": ""
            },
            "colorscale": [
             [
              0,
              "#0d0887"
             ],
             [
              0.1111111111111111,
              "#46039f"
             ],
             [
              0.2222222222222222,
              "#7201a8"
             ],
             [
              0.3333333333333333,
              "#9c179e"
             ],
             [
              0.4444444444444444,
              "#bd3786"
             ],
             [
              0.5555555555555556,
              "#d8576b"
             ],
             [
              0.6666666666666666,
              "#ed7953"
             ],
             [
              0.7777777777777778,
              "#fb9f3a"
             ],
             [
              0.8888888888888888,
              "#fdca26"
             ],
             [
              1,
              "#f0f921"
             ]
            ],
            "type": "histogram2dcontour"
           }
          ],
          "mesh3d": [
           {
            "colorbar": {
             "outlinewidth": 0,
             "ticks": ""
            },
            "type": "mesh3d"
           }
          ],
          "parcoords": [
           {
            "line": {
             "colorbar": {
              "outlinewidth": 0,
              "ticks": ""
             }
            },
            "type": "parcoords"
           }
          ],
          "pie": [
           {
            "automargin": true,
            "type": "pie"
           }
          ],
          "scatter": [
           {
            "marker": {
             "colorbar": {
              "outlinewidth": 0,
              "ticks": ""
             }
            },
            "type": "scatter"
           }
          ],
          "scatter3d": [
           {
            "line": {
             "colorbar": {
              "outlinewidth": 0,
              "ticks": ""
             }
            },
            "marker": {
             "colorbar": {
              "outlinewidth": 0,
              "ticks": ""
             }
            },
            "type": "scatter3d"
           }
          ],
          "scattercarpet": [
           {
            "marker": {
             "colorbar": {
              "outlinewidth": 0,
              "ticks": ""
             }
            },
            "type": "scattercarpet"
           }
          ],
          "scattergeo": [
           {
            "marker": {
             "colorbar": {
              "outlinewidth": 0,
              "ticks": ""
             }
            },
            "type": "scattergeo"
           }
          ],
          "scattergl": [
           {
            "marker": {
             "colorbar": {
              "outlinewidth": 0,
              "ticks": ""
             }
            },
            "type": "scattergl"
           }
          ],
          "scattermapbox": [
           {
            "marker": {
             "colorbar": {
              "outlinewidth": 0,
              "ticks": ""
             }
            },
            "type": "scattermapbox"
           }
          ],
          "scatterpolar": [
           {
            "marker": {
             "colorbar": {
              "outlinewidth": 0,
              "ticks": ""
             }
            },
            "type": "scatterpolar"
           }
          ],
          "scatterpolargl": [
           {
            "marker": {
             "colorbar": {
              "outlinewidth": 0,
              "ticks": ""
             }
            },
            "type": "scatterpolargl"
           }
          ],
          "scatterternary": [
           {
            "marker": {
             "colorbar": {
              "outlinewidth": 0,
              "ticks": ""
             }
            },
            "type": "scatterternary"
           }
          ],
          "surface": [
           {
            "colorbar": {
             "outlinewidth": 0,
             "ticks": ""
            },
            "colorscale": [
             [
              0,
              "#0d0887"
             ],
             [
              0.1111111111111111,
              "#46039f"
             ],
             [
              0.2222222222222222,
              "#7201a8"
             ],
             [
              0.3333333333333333,
              "#9c179e"
             ],
             [
              0.4444444444444444,
              "#bd3786"
             ],
             [
              0.5555555555555556,
              "#d8576b"
             ],
             [
              0.6666666666666666,
              "#ed7953"
             ],
             [
              0.7777777777777778,
              "#fb9f3a"
             ],
             [
              0.8888888888888888,
              "#fdca26"
             ],
             [
              1,
              "#f0f921"
             ]
            ],
            "type": "surface"
           }
          ],
          "table": [
           {
            "cells": {
             "fill": {
              "color": "#EBF0F8"
             },
             "line": {
              "color": "white"
             }
            },
            "header": {
             "fill": {
              "color": "#C8D4E3"
             },
             "line": {
              "color": "white"
             }
            },
            "type": "table"
           }
          ]
         },
         "layout": {
          "annotationdefaults": {
           "arrowcolor": "#2a3f5f",
           "arrowhead": 0,
           "arrowwidth": 1
          },
          "autotypenumbers": "strict",
          "coloraxis": {
           "colorbar": {
            "outlinewidth": 0,
            "ticks": ""
           }
          },
          "colorscale": {
           "diverging": [
            [
             0,
             "#8e0152"
            ],
            [
             0.1,
             "#c51b7d"
            ],
            [
             0.2,
             "#de77ae"
            ],
            [
             0.3,
             "#f1b6da"
            ],
            [
             0.4,
             "#fde0ef"
            ],
            [
             0.5,
             "#f7f7f7"
            ],
            [
             0.6,
             "#e6f5d0"
            ],
            [
             0.7,
             "#b8e186"
            ],
            [
             0.8,
             "#7fbc41"
            ],
            [
             0.9,
             "#4d9221"
            ],
            [
             1,
             "#276419"
            ]
           ],
           "sequential": [
            [
             0,
             "#0d0887"
            ],
            [
             0.1111111111111111,
             "#46039f"
            ],
            [
             0.2222222222222222,
             "#7201a8"
            ],
            [
             0.3333333333333333,
             "#9c179e"
            ],
            [
             0.4444444444444444,
             "#bd3786"
            ],
            [
             0.5555555555555556,
             "#d8576b"
            ],
            [
             0.6666666666666666,
             "#ed7953"
            ],
            [
             0.7777777777777778,
             "#fb9f3a"
            ],
            [
             0.8888888888888888,
             "#fdca26"
            ],
            [
             1,
             "#f0f921"
            ]
           ],
           "sequentialminus": [
            [
             0,
             "#0d0887"
            ],
            [
             0.1111111111111111,
             "#46039f"
            ],
            [
             0.2222222222222222,
             "#7201a8"
            ],
            [
             0.3333333333333333,
             "#9c179e"
            ],
            [
             0.4444444444444444,
             "#bd3786"
            ],
            [
             0.5555555555555556,
             "#d8576b"
            ],
            [
             0.6666666666666666,
             "#ed7953"
            ],
            [
             0.7777777777777778,
             "#fb9f3a"
            ],
            [
             0.8888888888888888,
             "#fdca26"
            ],
            [
             1,
             "#f0f921"
            ]
           ]
          },
          "colorway": [
           "#636efa",
           "#EF553B",
           "#00cc96",
           "#ab63fa",
           "#FFA15A",
           "#19d3f3",
           "#FF6692",
           "#B6E880",
           "#FF97FF",
           "#FECB52"
          ],
          "font": {
           "color": "#2a3f5f"
          },
          "geo": {
           "bgcolor": "white",
           "lakecolor": "white",
           "landcolor": "#E5ECF6",
           "showlakes": true,
           "showland": true,
           "subunitcolor": "white"
          },
          "hoverlabel": {
           "align": "left"
          },
          "hovermode": "closest",
          "mapbox": {
           "style": "light"
          },
          "paper_bgcolor": "white",
          "plot_bgcolor": "#E5ECF6",
          "polar": {
           "angularaxis": {
            "gridcolor": "white",
            "linecolor": "white",
            "ticks": ""
           },
           "bgcolor": "#E5ECF6",
           "radialaxis": {
            "gridcolor": "white",
            "linecolor": "white",
            "ticks": ""
           }
          },
          "scene": {
           "xaxis": {
            "backgroundcolor": "#E5ECF6",
            "gridcolor": "white",
            "gridwidth": 2,
            "linecolor": "white",
            "showbackground": true,
            "ticks": "",
            "zerolinecolor": "white"
           },
           "yaxis": {
            "backgroundcolor": "#E5ECF6",
            "gridcolor": "white",
            "gridwidth": 2,
            "linecolor": "white",
            "showbackground": true,
            "ticks": "",
            "zerolinecolor": "white"
           },
           "zaxis": {
            "backgroundcolor": "#E5ECF6",
            "gridcolor": "white",
            "gridwidth": 2,
            "linecolor": "white",
            "showbackground": true,
            "ticks": "",
            "zerolinecolor": "white"
           }
          },
          "shapedefaults": {
           "line": {
            "color": "#2a3f5f"
           }
          },
          "ternary": {
           "aaxis": {
            "gridcolor": "white",
            "linecolor": "white",
            "ticks": ""
           },
           "baxis": {
            "gridcolor": "white",
            "linecolor": "white",
            "ticks": ""
           },
           "bgcolor": "#E5ECF6",
           "caxis": {
            "gridcolor": "white",
            "linecolor": "white",
            "ticks": ""
           }
          },
          "title": {
           "x": 0.05
          },
          "xaxis": {
           "automargin": true,
           "gridcolor": "white",
           "linecolor": "white",
           "ticks": "",
           "title": {
            "standoff": 15
           },
           "zerolinecolor": "white",
           "zerolinewidth": 2
          },
          "yaxis": {
           "automargin": true,
           "gridcolor": "white",
           "linecolor": "white",
           "ticks": "",
           "title": {
            "standoff": 15
           },
           "zerolinecolor": "white",
           "zerolinewidth": 2
          }
         }
        },
        "xaxis": {
         "anchor": "y",
         "domain": [
          0,
          0.98
         ],
         "title": {
          "text": "BLOCK_TIMESTAMP"
         }
        },
        "yaxis": {
         "anchor": "x",
         "domain": [
          0,
          1
         ],
         "title": {
          "text": "SYMBOL"
         }
        }
       }
      }
     },
     "metadata": {},
     "output_type": "display_data"
    }
   ],
   "source": [
    "token_transfers_per_wallet['dummy'] = 10\n",
    "fig = px.scatter(token_transfers_per_wallet, x=\"BLOCK_TIMESTAMP\", y='SYMBOL',color=\"LABEL\", facet_row=\"SIDE\", \n",
    "\t\t  hover_data=['LABEL', 'AMOUNT', 'AMOUNT_USD'], size='dummy', size_max=10, opacity=0.5)\n",
    "fig"
   ]
  },
  {
   "cell_type": "code",
   "execution_count": 193,
   "metadata": {},
   "outputs": [
    {
     "data": {
      "application/vnd.plotly.v1+json": {
       "config": {
        "plotlyServerURL": "https://plotly.com"
       },
       "data": [
        {
         "branchvalues": "total",
         "domain": {
          "x": [
           0,
           1
          ],
          "y": [
           0,
           1
          ]
         },
         "hovertemplate": "labels=%{label}<br>AMOUNT_USD=%{value}<br>parent=%{parent}<br>id=%{id}<extra></extra>",
         "ids": [
          "outgoing/WETH/other",
          "outgoing/cyWETH/other",
          "outgoing/ibETHv2/other",
          "outgoing/WETH",
          "outgoing/cyWETH",
          "outgoing/ibETHv2",
          "outgoing"
         ],
         "labels": [
          "other",
          "other",
          "other",
          "WETH",
          "cyWETH",
          "ibETHv2",
          "outgoing"
         ],
         "name": "",
         "parents": [
          "outgoing/WETH",
          "outgoing/cyWETH",
          "outgoing/ibETHv2",
          "outgoing",
          "outgoing",
          "outgoing",
          ""
         ],
         "type": "sunburst",
         "values": [
          81030051.94516769,
          0,
          0,
          81030051.94516769,
          0,
          0,
          81030051.94516769
         ]
        }
       ],
       "layout": {
        "legend": {
         "tracegroupgap": 0
        },
        "template": {
         "data": {
          "bar": [
           {
            "error_x": {
             "color": "#2a3f5f"
            },
            "error_y": {
             "color": "#2a3f5f"
            },
            "marker": {
             "line": {
              "color": "#E5ECF6",
              "width": 0.5
             },
             "pattern": {
              "fillmode": "overlay",
              "size": 10,
              "solidity": 0.2
             }
            },
            "type": "bar"
           }
          ],
          "barpolar": [
           {
            "marker": {
             "line": {
              "color": "#E5ECF6",
              "width": 0.5
             },
             "pattern": {
              "fillmode": "overlay",
              "size": 10,
              "solidity": 0.2
             }
            },
            "type": "barpolar"
           }
          ],
          "carpet": [
           {
            "aaxis": {
             "endlinecolor": "#2a3f5f",
             "gridcolor": "white",
             "linecolor": "white",
             "minorgridcolor": "white",
             "startlinecolor": "#2a3f5f"
            },
            "baxis": {
             "endlinecolor": "#2a3f5f",
             "gridcolor": "white",
             "linecolor": "white",
             "minorgridcolor": "white",
             "startlinecolor": "#2a3f5f"
            },
            "type": "carpet"
           }
          ],
          "choropleth": [
           {
            "colorbar": {
             "outlinewidth": 0,
             "ticks": ""
            },
            "type": "choropleth"
           }
          ],
          "contour": [
           {
            "colorbar": {
             "outlinewidth": 0,
             "ticks": ""
            },
            "colorscale": [
             [
              0,
              "#0d0887"
             ],
             [
              0.1111111111111111,
              "#46039f"
             ],
             [
              0.2222222222222222,
              "#7201a8"
             ],
             [
              0.3333333333333333,
              "#9c179e"
             ],
             [
              0.4444444444444444,
              "#bd3786"
             ],
             [
              0.5555555555555556,
              "#d8576b"
             ],
             [
              0.6666666666666666,
              "#ed7953"
             ],
             [
              0.7777777777777778,
              "#fb9f3a"
             ],
             [
              0.8888888888888888,
              "#fdca26"
             ],
             [
              1,
              "#f0f921"
             ]
            ],
            "type": "contour"
           }
          ],
          "contourcarpet": [
           {
            "colorbar": {
             "outlinewidth": 0,
             "ticks": ""
            },
            "type": "contourcarpet"
           }
          ],
          "heatmap": [
           {
            "colorbar": {
             "outlinewidth": 0,
             "ticks": ""
            },
            "colorscale": [
             [
              0,
              "#0d0887"
             ],
             [
              0.1111111111111111,
              "#46039f"
             ],
             [
              0.2222222222222222,
              "#7201a8"
             ],
             [
              0.3333333333333333,
              "#9c179e"
             ],
             [
              0.4444444444444444,
              "#bd3786"
             ],
             [
              0.5555555555555556,
              "#d8576b"
             ],
             [
              0.6666666666666666,
              "#ed7953"
             ],
             [
              0.7777777777777778,
              "#fb9f3a"
             ],
             [
              0.8888888888888888,
              "#fdca26"
             ],
             [
              1,
              "#f0f921"
             ]
            ],
            "type": "heatmap"
           }
          ],
          "heatmapgl": [
           {
            "colorbar": {
             "outlinewidth": 0,
             "ticks": ""
            },
            "colorscale": [
             [
              0,
              "#0d0887"
             ],
             [
              0.1111111111111111,
              "#46039f"
             ],
             [
              0.2222222222222222,
              "#7201a8"
             ],
             [
              0.3333333333333333,
              "#9c179e"
             ],
             [
              0.4444444444444444,
              "#bd3786"
             ],
             [
              0.5555555555555556,
              "#d8576b"
             ],
             [
              0.6666666666666666,
              "#ed7953"
             ],
             [
              0.7777777777777778,
              "#fb9f3a"
             ],
             [
              0.8888888888888888,
              "#fdca26"
             ],
             [
              1,
              "#f0f921"
             ]
            ],
            "type": "heatmapgl"
           }
          ],
          "histogram": [
           {
            "marker": {
             "pattern": {
              "fillmode": "overlay",
              "size": 10,
              "solidity": 0.2
             }
            },
            "type": "histogram"
           }
          ],
          "histogram2d": [
           {
            "colorbar": {
             "outlinewidth": 0,
             "ticks": ""
            },
            "colorscale": [
             [
              0,
              "#0d0887"
             ],
             [
              0.1111111111111111,
              "#46039f"
             ],
             [
              0.2222222222222222,
              "#7201a8"
             ],
             [
              0.3333333333333333,
              "#9c179e"
             ],
             [
              0.4444444444444444,
              "#bd3786"
             ],
             [
              0.5555555555555556,
              "#d8576b"
             ],
             [
              0.6666666666666666,
              "#ed7953"
             ],
             [
              0.7777777777777778,
              "#fb9f3a"
             ],
             [
              0.8888888888888888,
              "#fdca26"
             ],
             [
              1,
              "#f0f921"
             ]
            ],
            "type": "histogram2d"
           }
          ],
          "histogram2dcontour": [
           {
            "colorbar": {
             "outlinewidth": 0,
             "ticks": ""
            },
            "colorscale": [
             [
              0,
              "#0d0887"
             ],
             [
              0.1111111111111111,
              "#46039f"
             ],
             [
              0.2222222222222222,
              "#7201a8"
             ],
             [
              0.3333333333333333,
              "#9c179e"
             ],
             [
              0.4444444444444444,
              "#bd3786"
             ],
             [
              0.5555555555555556,
              "#d8576b"
             ],
             [
              0.6666666666666666,
              "#ed7953"
             ],
             [
              0.7777777777777778,
              "#fb9f3a"
             ],
             [
              0.8888888888888888,
              "#fdca26"
             ],
             [
              1,
              "#f0f921"
             ]
            ],
            "type": "histogram2dcontour"
           }
          ],
          "mesh3d": [
           {
            "colorbar": {
             "outlinewidth": 0,
             "ticks": ""
            },
            "type": "mesh3d"
           }
          ],
          "parcoords": [
           {
            "line": {
             "colorbar": {
              "outlinewidth": 0,
              "ticks": ""
             }
            },
            "type": "parcoords"
           }
          ],
          "pie": [
           {
            "automargin": true,
            "type": "pie"
           }
          ],
          "scatter": [
           {
            "marker": {
             "colorbar": {
              "outlinewidth": 0,
              "ticks": ""
             }
            },
            "type": "scatter"
           }
          ],
          "scatter3d": [
           {
            "line": {
             "colorbar": {
              "outlinewidth": 0,
              "ticks": ""
             }
            },
            "marker": {
             "colorbar": {
              "outlinewidth": 0,
              "ticks": ""
             }
            },
            "type": "scatter3d"
           }
          ],
          "scattercarpet": [
           {
            "marker": {
             "colorbar": {
              "outlinewidth": 0,
              "ticks": ""
             }
            },
            "type": "scattercarpet"
           }
          ],
          "scattergeo": [
           {
            "marker": {
             "colorbar": {
              "outlinewidth": 0,
              "ticks": ""
             }
            },
            "type": "scattergeo"
           }
          ],
          "scattergl": [
           {
            "marker": {
             "colorbar": {
              "outlinewidth": 0,
              "ticks": ""
             }
            },
            "type": "scattergl"
           }
          ],
          "scattermapbox": [
           {
            "marker": {
             "colorbar": {
              "outlinewidth": 0,
              "ticks": ""
             }
            },
            "type": "scattermapbox"
           }
          ],
          "scatterpolar": [
           {
            "marker": {
             "colorbar": {
              "outlinewidth": 0,
              "ticks": ""
             }
            },
            "type": "scatterpolar"
           }
          ],
          "scatterpolargl": [
           {
            "marker": {
             "colorbar": {
              "outlinewidth": 0,
              "ticks": ""
             }
            },
            "type": "scatterpolargl"
           }
          ],
          "scatterternary": [
           {
            "marker": {
             "colorbar": {
              "outlinewidth": 0,
              "ticks": ""
             }
            },
            "type": "scatterternary"
           }
          ],
          "surface": [
           {
            "colorbar": {
             "outlinewidth": 0,
             "ticks": ""
            },
            "colorscale": [
             [
              0,
              "#0d0887"
             ],
             [
              0.1111111111111111,
              "#46039f"
             ],
             [
              0.2222222222222222,
              "#7201a8"
             ],
             [
              0.3333333333333333,
              "#9c179e"
             ],
             [
              0.4444444444444444,
              "#bd3786"
             ],
             [
              0.5555555555555556,
              "#d8576b"
             ],
             [
              0.6666666666666666,
              "#ed7953"
             ],
             [
              0.7777777777777778,
              "#fb9f3a"
             ],
             [
              0.8888888888888888,
              "#fdca26"
             ],
             [
              1,
              "#f0f921"
             ]
            ],
            "type": "surface"
           }
          ],
          "table": [
           {
            "cells": {
             "fill": {
              "color": "#EBF0F8"
             },
             "line": {
              "color": "white"
             }
            },
            "header": {
             "fill": {
              "color": "#C8D4E3"
             },
             "line": {
              "color": "white"
             }
            },
            "type": "table"
           }
          ]
         },
         "layout": {
          "annotationdefaults": {
           "arrowcolor": "#2a3f5f",
           "arrowhead": 0,
           "arrowwidth": 1
          },
          "autotypenumbers": "strict",
          "coloraxis": {
           "colorbar": {
            "outlinewidth": 0,
            "ticks": ""
           }
          },
          "colorscale": {
           "diverging": [
            [
             0,
             "#8e0152"
            ],
            [
             0.1,
             "#c51b7d"
            ],
            [
             0.2,
             "#de77ae"
            ],
            [
             0.3,
             "#f1b6da"
            ],
            [
             0.4,
             "#fde0ef"
            ],
            [
             0.5,
             "#f7f7f7"
            ],
            [
             0.6,
             "#e6f5d0"
            ],
            [
             0.7,
             "#b8e186"
            ],
            [
             0.8,
             "#7fbc41"
            ],
            [
             0.9,
             "#4d9221"
            ],
            [
             1,
             "#276419"
            ]
           ],
           "sequential": [
            [
             0,
             "#0d0887"
            ],
            [
             0.1111111111111111,
             "#46039f"
            ],
            [
             0.2222222222222222,
             "#7201a8"
            ],
            [
             0.3333333333333333,
             "#9c179e"
            ],
            [
             0.4444444444444444,
             "#bd3786"
            ],
            [
             0.5555555555555556,
             "#d8576b"
            ],
            [
             0.6666666666666666,
             "#ed7953"
            ],
            [
             0.7777777777777778,
             "#fb9f3a"
            ],
            [
             0.8888888888888888,
             "#fdca26"
            ],
            [
             1,
             "#f0f921"
            ]
           ],
           "sequentialminus": [
            [
             0,
             "#0d0887"
            ],
            [
             0.1111111111111111,
             "#46039f"
            ],
            [
             0.2222222222222222,
             "#7201a8"
            ],
            [
             0.3333333333333333,
             "#9c179e"
            ],
            [
             0.4444444444444444,
             "#bd3786"
            ],
            [
             0.5555555555555556,
             "#d8576b"
            ],
            [
             0.6666666666666666,
             "#ed7953"
            ],
            [
             0.7777777777777778,
             "#fb9f3a"
            ],
            [
             0.8888888888888888,
             "#fdca26"
            ],
            [
             1,
             "#f0f921"
            ]
           ]
          },
          "colorway": [
           "#636efa",
           "#EF553B",
           "#00cc96",
           "#ab63fa",
           "#FFA15A",
           "#19d3f3",
           "#FF6692",
           "#B6E880",
           "#FF97FF",
           "#FECB52"
          ],
          "font": {
           "color": "#2a3f5f"
          },
          "geo": {
           "bgcolor": "white",
           "lakecolor": "white",
           "landcolor": "#E5ECF6",
           "showlakes": true,
           "showland": true,
           "subunitcolor": "white"
          },
          "hoverlabel": {
           "align": "left"
          },
          "hovermode": "closest",
          "mapbox": {
           "style": "light"
          },
          "paper_bgcolor": "white",
          "plot_bgcolor": "#E5ECF6",
          "polar": {
           "angularaxis": {
            "gridcolor": "white",
            "linecolor": "white",
            "ticks": ""
           },
           "bgcolor": "#E5ECF6",
           "radialaxis": {
            "gridcolor": "white",
            "linecolor": "white",
            "ticks": ""
           }
          },
          "scene": {
           "xaxis": {
            "backgroundcolor": "#E5ECF6",
            "gridcolor": "white",
            "gridwidth": 2,
            "linecolor": "white",
            "showbackground": true,
            "ticks": "",
            "zerolinecolor": "white"
           },
           "yaxis": {
            "backgroundcolor": "#E5ECF6",
            "gridcolor": "white",
            "gridwidth": 2,
            "linecolor": "white",
            "showbackground": true,
            "ticks": "",
            "zerolinecolor": "white"
           },
           "zaxis": {
            "backgroundcolor": "#E5ECF6",
            "gridcolor": "white",
            "gridwidth": 2,
            "linecolor": "white",
            "showbackground": true,
            "ticks": "",
            "zerolinecolor": "white"
           }
          },
          "shapedefaults": {
           "line": {
            "color": "#2a3f5f"
           }
          },
          "ternary": {
           "aaxis": {
            "gridcolor": "white",
            "linecolor": "white",
            "ticks": ""
           },
           "baxis": {
            "gridcolor": "white",
            "linecolor": "white",
            "ticks": ""
           },
           "bgcolor": "#E5ECF6",
           "caxis": {
            "gridcolor": "white",
            "linecolor": "white",
            "ticks": ""
           }
          },
          "title": {
           "x": 0.05
          },
          "xaxis": {
           "automargin": true,
           "gridcolor": "white",
           "linecolor": "white",
           "ticks": "",
           "title": {
            "standoff": 15
           },
           "zerolinecolor": "white",
           "zerolinewidth": 2
          },
          "yaxis": {
           "automargin": true,
           "gridcolor": "white",
           "linecolor": "white",
           "ticks": "",
           "title": {
            "standoff": 15
           },
           "zerolinecolor": "white",
           "zerolinewidth": 2
          }
         }
        },
        "title": {
         "text": "Total ERC-20 Transfers"
        }
       }
      }
     },
     "metadata": {},
     "output_type": "display_data"
    }
   ],
   "source": [
    "agg_token_transfers_per_wallet = token_transfers_per_wallet.groupby([\"LABEL\", \"SIDE\", 'SYMBOL'])[['AMOUNT_USD', 'AMOUNT']].sum()\n",
    "agg_token_transfers_per_wallet = agg_token_transfers_per_wallet.reset_index()\n",
    "\n",
    "fig = px.sunburst(agg_token_transfers_per_wallet, path=['SIDE', 'SYMBOL', 'LABEL'], values='AMOUNT_USD', title='Total ERC-20 Transfers')\n",
    "fig"
   ]
  },
  {
   "cell_type": "code",
   "execution_count": 221,
   "metadata": {},
   "outputs": [
    {
     "data": {
      "text/plain": [
       "Index(['BLOCK_NUMBER', 'BLOCK_TIMESTAMP', 'TX_HASH',\n",
       "       'ORIGIN_FUNCTION_SIGNATURE', 'ORIGIN_FROM_ADDRESS', 'ORIGIN_TO_ADDRESS',\n",
       "       'CONTRACT_ADDRESS', 'FROM_ADDRESS', 'TO_ADDRESS', 'RAW_AMOUNT',\n",
       "       'DECIMALS', 'SYMBOL', 'TOKEN_PRICE', 'AMOUNT', 'AMOUNT_USD',\n",
       "       'HAS_DECIMAL', 'HAS_PRICE', '_LOG_ID', 'INGESTED_AT',\n",
       "       '_INSERTED_TIMESTAMP', 'BLOCKCHAIN', 'CREATOR', 'ADDRESS',\n",
       "       'ADDRESS_NAME', 'LABEL_TYPE', 'LABEL_SUBTYPE', 'LABEL', 'SIDE',\n",
       "       'dummy'],\n",
       "      dtype='object')"
      ]
     },
     "execution_count": 221,
     "metadata": {},
     "output_type": "execute_result"
    }
   ],
   "source": [
    "token_transfers_per_wallet.columns"
   ]
  },
  {
   "cell_type": "code",
   "execution_count": 224,
   "metadata": {},
   "outputs": [
    {
     "data": {
      "text/html": [
       "<div>\n",
       "<style scoped>\n",
       "    .dataframe tbody tr th:only-of-type {\n",
       "        vertical-align: middle;\n",
       "    }\n",
       "\n",
       "    .dataframe tbody tr th {\n",
       "        vertical-align: top;\n",
       "    }\n",
       "\n",
       "    .dataframe thead th {\n",
       "        text-align: right;\n",
       "    }\n",
       "</style>\n",
       "<table border=\"1\" class=\"dataframe\">\n",
       "  <thead>\n",
       "    <tr style=\"text-align: right;\">\n",
       "      <th></th>\n",
       "      <th>TX_HASH</th>\n",
       "      <th>SIDE</th>\n",
       "      <th>SYMBOL</th>\n",
       "      <th>BLOCK_TIMESTAMP</th>\n",
       "      <th>ORIGIN_FROM_ADDRESS</th>\n",
       "      <th>ORIGIN_TO_ADDRESS</th>\n",
       "      <th>AMOUNT</th>\n",
       "      <th>AMOUNT_USD</th>\n",
       "      <th>ADDRESS_NAME</th>\n",
       "      <th>LABEL_TYPE</th>\n",
       "      <th>LABEL_SUBTYPE</th>\n",
       "      <th>LABEL</th>\n",
       "    </tr>\n",
       "  </thead>\n",
       "  <tbody>\n",
       "    <tr>\n",
       "      <th>0</th>\n",
       "      <td>0x7073a7e0f2abb6879b135be49b56dc61f04ca7f541b3...</td>\n",
       "      <td>outgoing</td>\n",
       "      <td>cyWETH</td>\n",
       "      <td>2022-02-09 09:22:23</td>\n",
       "      <td>0x8dad4658ee06122fb9b105a8dea1d185ac428687</td>\n",
       "      <td>0xeea3311250fe4c3268f8e684f7c87a82ff183ec1</td>\n",
       "      <td>315477.858741</td>\n",
       "      <td>NaN</td>\n",
       "      <td>other</td>\n",
       "      <td>other</td>\n",
       "      <td>other</td>\n",
       "      <td>other</td>\n",
       "    </tr>\n",
       "    <tr>\n",
       "      <th>1</th>\n",
       "      <td>0x3069fd7851349fcdcd1c7c70cbd7aeee550e8aa32a46...</td>\n",
       "      <td>outgoing</td>\n",
       "      <td>ibETHv2</td>\n",
       "      <td>2022-03-28 10:04:33</td>\n",
       "      <td>0x8dad4658ee06122fb9b105a8dea1d185ac428687</td>\n",
       "      <td>0xeea3311250fe4c3268f8e684f7c87a82ff183ec1</td>\n",
       "      <td>772076.639678</td>\n",
       "      <td>NaN</td>\n",
       "      <td>other</td>\n",
       "      <td>other</td>\n",
       "      <td>other</td>\n",
       "      <td>other</td>\n",
       "    </tr>\n",
       "    <tr>\n",
       "      <th>2</th>\n",
       "      <td>0xe40e2fb166ed24b731f5ad4e5ec72a408ce45368b9ed...</td>\n",
       "      <td>outgoing</td>\n",
       "      <td>WETH</td>\n",
       "      <td>2022-03-02 11:32:52</td>\n",
       "      <td>0x8dad4658ee06122fb9b105a8dea1d185ac428687</td>\n",
       "      <td>0xeea3311250fe4c3268f8e684f7c87a82ff183ec1</td>\n",
       "      <td>6666.938248</td>\n",
       "      <td>1.999663e+07</td>\n",
       "      <td>other</td>\n",
       "      <td>other</td>\n",
       "      <td>other</td>\n",
       "      <td>other</td>\n",
       "    </tr>\n",
       "    <tr>\n",
       "      <th>3</th>\n",
       "      <td>0xe40e2fb166ed24b731f5ad4e5ec72a408ce45368b9ed...</td>\n",
       "      <td>outgoing</td>\n",
       "      <td>cyWETH</td>\n",
       "      <td>2022-03-02 11:32:52</td>\n",
       "      <td>0x8dad4658ee06122fb9b105a8dea1d185ac428687</td>\n",
       "      <td>0xeea3311250fe4c3268f8e684f7c87a82ff183ec1</td>\n",
       "      <td>646400.000000</td>\n",
       "      <td>NaN</td>\n",
       "      <td>other</td>\n",
       "      <td>other</td>\n",
       "      <td>other</td>\n",
       "      <td>other</td>\n",
       "    </tr>\n",
       "    <tr>\n",
       "      <th>4</th>\n",
       "      <td>0xe40e2fb166ed24b731f5ad4e5ec72a408ce45368b9ed...</td>\n",
       "      <td>outgoing</td>\n",
       "      <td>ibETHv2</td>\n",
       "      <td>2022-03-02 11:32:52</td>\n",
       "      <td>0x8dad4658ee06122fb9b105a8dea1d185ac428687</td>\n",
       "      <td>0xeea3311250fe4c3268f8e684f7c87a82ff183ec1</td>\n",
       "      <td>646400.000000</td>\n",
       "      <td>NaN</td>\n",
       "      <td>other</td>\n",
       "      <td>other</td>\n",
       "      <td>other</td>\n",
       "      <td>other</td>\n",
       "    </tr>\n",
       "    <tr>\n",
       "      <th>5</th>\n",
       "      <td>0x7073a7e0f2abb6879b135be49b56dc61f04ca7f541b3...</td>\n",
       "      <td>outgoing</td>\n",
       "      <td>WETH</td>\n",
       "      <td>2022-02-09 09:22:23</td>\n",
       "      <td>0x8dad4658ee06122fb9b105a8dea1d185ac428687</td>\n",
       "      <td>0xeea3311250fe4c3268f8e684f7c87a82ff183ec1</td>\n",
       "      <td>3250.000000</td>\n",
       "      <td>1.008459e+07</td>\n",
       "      <td>other</td>\n",
       "      <td>other</td>\n",
       "      <td>other</td>\n",
       "      <td>other</td>\n",
       "    </tr>\n",
       "    <tr>\n",
       "      <th>6</th>\n",
       "      <td>0x7073a7e0f2abb6879b135be49b56dc61f04ca7f541b3...</td>\n",
       "      <td>outgoing</td>\n",
       "      <td>ibETHv2</td>\n",
       "      <td>2022-02-09 09:22:23</td>\n",
       "      <td>0x8dad4658ee06122fb9b105a8dea1d185ac428687</td>\n",
       "      <td>0xeea3311250fe4c3268f8e684f7c87a82ff183ec1</td>\n",
       "      <td>315477.858741</td>\n",
       "      <td>NaN</td>\n",
       "      <td>other</td>\n",
       "      <td>other</td>\n",
       "      <td>other</td>\n",
       "      <td>other</td>\n",
       "    </tr>\n",
       "    <tr>\n",
       "      <th>7</th>\n",
       "      <td>0x3069fd7851349fcdcd1c7c70cbd7aeee550e8aa32a46...</td>\n",
       "      <td>outgoing</td>\n",
       "      <td>cyWETH</td>\n",
       "      <td>2022-03-28 10:04:33</td>\n",
       "      <td>0x8dad4658ee06122fb9b105a8dea1d185ac428687</td>\n",
       "      <td>0xeea3311250fe4c3268f8e684f7c87a82ff183ec1</td>\n",
       "      <td>772076.639678</td>\n",
       "      <td>NaN</td>\n",
       "      <td>other</td>\n",
       "      <td>other</td>\n",
       "      <td>other</td>\n",
       "      <td>other</td>\n",
       "    </tr>\n",
       "    <tr>\n",
       "      <th>8</th>\n",
       "      <td>0x3069fd7851349fcdcd1c7c70cbd7aeee550e8aa32a46...</td>\n",
       "      <td>outgoing</td>\n",
       "      <td>WETH</td>\n",
       "      <td>2022-03-28 10:04:33</td>\n",
       "      <td>0x8dad4658ee06122fb9b105a8dea1d185ac428687</td>\n",
       "      <td>0xeea3311250fe4c3268f8e684f7c87a82ff183ec1</td>\n",
       "      <td>7977.237020</td>\n",
       "      <td>2.665633e+07</td>\n",
       "      <td>other</td>\n",
       "      <td>other</td>\n",
       "      <td>other</td>\n",
       "      <td>other</td>\n",
       "    </tr>\n",
       "    <tr>\n",
       "      <th>9</th>\n",
       "      <td>0x2936566d37d298a4937746c32f72c59cbb7875b20274...</td>\n",
       "      <td>outgoing</td>\n",
       "      <td>cyWETH</td>\n",
       "      <td>2022-02-03 14:53:43</td>\n",
       "      <td>0x8dad4658ee06122fb9b105a8dea1d185ac428687</td>\n",
       "      <td>0xeea3311250fe4c3268f8e684f7c87a82ff183ec1</td>\n",
       "      <td>902998.780936</td>\n",
       "      <td>NaN</td>\n",
       "      <td>other</td>\n",
       "      <td>other</td>\n",
       "      <td>other</td>\n",
       "      <td>other</td>\n",
       "    </tr>\n",
       "    <tr>\n",
       "      <th>10</th>\n",
       "      <td>0x2936566d37d298a4937746c32f72c59cbb7875b20274...</td>\n",
       "      <td>outgoing</td>\n",
       "      <td>ibETHv2</td>\n",
       "      <td>2022-02-03 14:53:43</td>\n",
       "      <td>0x8dad4658ee06122fb9b105a8dea1d185ac428687</td>\n",
       "      <td>0xeea3311250fe4c3268f8e684f7c87a82ff183ec1</td>\n",
       "      <td>902998.780936</td>\n",
       "      <td>NaN</td>\n",
       "      <td>other</td>\n",
       "      <td>other</td>\n",
       "      <td>other</td>\n",
       "      <td>other</td>\n",
       "    </tr>\n",
       "    <tr>\n",
       "      <th>11</th>\n",
       "      <td>0x2936566d37d298a4937746c32f72c59cbb7875b20274...</td>\n",
       "      <td>outgoing</td>\n",
       "      <td>WETH</td>\n",
       "      <td>2022-02-03 14:53:43</td>\n",
       "      <td>0x8dad4658ee06122fb9b105a8dea1d185ac428687</td>\n",
       "      <td>0xeea3311250fe4c3268f8e684f7c87a82ff183ec1</td>\n",
       "      <td>9298.000000</td>\n",
       "      <td>2.429250e+07</td>\n",
       "      <td>other</td>\n",
       "      <td>other</td>\n",
       "      <td>other</td>\n",
       "      <td>other</td>\n",
       "    </tr>\n",
       "  </tbody>\n",
       "</table>\n",
       "</div>"
      ],
      "text/plain": [
       "                                              TX_HASH      SIDE   SYMBOL  \\\n",
       "0   0x7073a7e0f2abb6879b135be49b56dc61f04ca7f541b3...  outgoing   cyWETH   \n",
       "1   0x3069fd7851349fcdcd1c7c70cbd7aeee550e8aa32a46...  outgoing  ibETHv2   \n",
       "2   0xe40e2fb166ed24b731f5ad4e5ec72a408ce45368b9ed...  outgoing     WETH   \n",
       "3   0xe40e2fb166ed24b731f5ad4e5ec72a408ce45368b9ed...  outgoing   cyWETH   \n",
       "4   0xe40e2fb166ed24b731f5ad4e5ec72a408ce45368b9ed...  outgoing  ibETHv2   \n",
       "5   0x7073a7e0f2abb6879b135be49b56dc61f04ca7f541b3...  outgoing     WETH   \n",
       "6   0x7073a7e0f2abb6879b135be49b56dc61f04ca7f541b3...  outgoing  ibETHv2   \n",
       "7   0x3069fd7851349fcdcd1c7c70cbd7aeee550e8aa32a46...  outgoing   cyWETH   \n",
       "8   0x3069fd7851349fcdcd1c7c70cbd7aeee550e8aa32a46...  outgoing     WETH   \n",
       "9   0x2936566d37d298a4937746c32f72c59cbb7875b20274...  outgoing   cyWETH   \n",
       "10  0x2936566d37d298a4937746c32f72c59cbb7875b20274...  outgoing  ibETHv2   \n",
       "11  0x2936566d37d298a4937746c32f72c59cbb7875b20274...  outgoing     WETH   \n",
       "\n",
       "       BLOCK_TIMESTAMP                         ORIGIN_FROM_ADDRESS  \\\n",
       "0  2022-02-09 09:22:23  0x8dad4658ee06122fb9b105a8dea1d185ac428687   \n",
       "1  2022-03-28 10:04:33  0x8dad4658ee06122fb9b105a8dea1d185ac428687   \n",
       "2  2022-03-02 11:32:52  0x8dad4658ee06122fb9b105a8dea1d185ac428687   \n",
       "3  2022-03-02 11:32:52  0x8dad4658ee06122fb9b105a8dea1d185ac428687   \n",
       "4  2022-03-02 11:32:52  0x8dad4658ee06122fb9b105a8dea1d185ac428687   \n",
       "5  2022-02-09 09:22:23  0x8dad4658ee06122fb9b105a8dea1d185ac428687   \n",
       "6  2022-02-09 09:22:23  0x8dad4658ee06122fb9b105a8dea1d185ac428687   \n",
       "7  2022-03-28 10:04:33  0x8dad4658ee06122fb9b105a8dea1d185ac428687   \n",
       "8  2022-03-28 10:04:33  0x8dad4658ee06122fb9b105a8dea1d185ac428687   \n",
       "9  2022-02-03 14:53:43  0x8dad4658ee06122fb9b105a8dea1d185ac428687   \n",
       "10 2022-02-03 14:53:43  0x8dad4658ee06122fb9b105a8dea1d185ac428687   \n",
       "11 2022-02-03 14:53:43  0x8dad4658ee06122fb9b105a8dea1d185ac428687   \n",
       "\n",
       "                             ORIGIN_TO_ADDRESS         AMOUNT    AMOUNT_USD  \\\n",
       "0   0xeea3311250fe4c3268f8e684f7c87a82ff183ec1  315477.858741           NaN   \n",
       "1   0xeea3311250fe4c3268f8e684f7c87a82ff183ec1  772076.639678           NaN   \n",
       "2   0xeea3311250fe4c3268f8e684f7c87a82ff183ec1    6666.938248  1.999663e+07   \n",
       "3   0xeea3311250fe4c3268f8e684f7c87a82ff183ec1  646400.000000           NaN   \n",
       "4   0xeea3311250fe4c3268f8e684f7c87a82ff183ec1  646400.000000           NaN   \n",
       "5   0xeea3311250fe4c3268f8e684f7c87a82ff183ec1    3250.000000  1.008459e+07   \n",
       "6   0xeea3311250fe4c3268f8e684f7c87a82ff183ec1  315477.858741           NaN   \n",
       "7   0xeea3311250fe4c3268f8e684f7c87a82ff183ec1  772076.639678           NaN   \n",
       "8   0xeea3311250fe4c3268f8e684f7c87a82ff183ec1    7977.237020  2.665633e+07   \n",
       "9   0xeea3311250fe4c3268f8e684f7c87a82ff183ec1  902998.780936           NaN   \n",
       "10  0xeea3311250fe4c3268f8e684f7c87a82ff183ec1  902998.780936           NaN   \n",
       "11  0xeea3311250fe4c3268f8e684f7c87a82ff183ec1    9298.000000  2.429250e+07   \n",
       "\n",
       "   ADDRESS_NAME LABEL_TYPE LABEL_SUBTYPE  LABEL  \n",
       "0         other      other         other  other  \n",
       "1         other      other         other  other  \n",
       "2         other      other         other  other  \n",
       "3         other      other         other  other  \n",
       "4         other      other         other  other  \n",
       "5         other      other         other  other  \n",
       "6         other      other         other  other  \n",
       "7         other      other         other  other  \n",
       "8         other      other         other  other  \n",
       "9         other      other         other  other  \n",
       "10        other      other         other  other  \n",
       "11        other      other         other  other  "
      ]
     },
     "execution_count": 224,
     "metadata": {},
     "output_type": "execute_result"
    }
   ],
   "source": [
    "cols = [\n",
    "\t'TX_HASH', 'SIDE', 'SYMBOL', 'BLOCK_TIMESTAMP', 'ORIGIN_FROM_ADDRESS', \n",
    "\t'ORIGIN_TO_ADDRESS', 'AMOUNT', 'AMOUNT_USD', 'ADDRESS_NAME', \n",
    "\t'LABEL_TYPE', 'LABEL_SUBTYPE', 'LABEL',\n",
    "]\n",
    "token_transfers_per_wallet[cols]"
   ]
  },
  {
   "cell_type": "markdown",
   "metadata": {},
   "source": [
    "# merge all"
   ]
  },
  {
   "cell_type": "code",
   "execution_count": 4,
   "metadata": {},
   "outputs": [],
   "source": [
    "other_chains = ['arbitrum', 'optimism', 'avalanche', 'bsc', 'polygon']"
   ]
  },
  {
   "cell_type": "code",
   "execution_count": 14,
   "metadata": {},
   "outputs": [],
   "source": [
    "wallet_address = '0x73ccb2892094cdd2d09f6f5313f0060631a111ab'"
   ]
  },
  {
   "cell_type": "code",
   "execution_count": 16,
   "metadata": {},
   "outputs": [],
   "source": [
    "def load_transactions(wallet_address: str, start_date: str, rows_limit: int = 100_000, chain_name='ethereum'):\n",
    "\tquery_template = queries.transactions_per_wallet\n",
    "\tquery = query_template.\\\n",
    "\t\treplace(\"$CHAIN_NAME\", chain_name).\\\n",
    "\t\treplace(\"$START_DATE\", start_date).\\\n",
    "\t\treplace(\"$WALLET_ADDRESS\", wallet_address.lower())\n",
    "\tdata = flipside.get_data_safe(query + f\" LIMIT {rows_limit}\")\n",
    "\n",
    "\tif data:\n",
    "\t\ttransactions_per_wallet = pd.DataFrame(data['results'], columns=data['columnLabels'])\n",
    "\t\ttransactions_per_wallet = transactions_per_wallet.drop_duplicates('TX_HASH')\n",
    "\t\ttransactions_per_wallet.rename(columns={'PROJECT_NAME': 'LABEL'}, inplace=True)\n",
    "\t\ttransactions_per_wallet['BLOCK_TIMESTAMP'] = pd.to_datetime(transactions_per_wallet['BLOCK_TIMESTAMP'])\n",
    "\t\tcols = ['ADDRESS_NAME','LABEL_TYPE','LABEL_SUBTYPE','LABEL']\n",
    "\t\tfor col in cols:\n",
    "\t\t\ttransactions_per_wallet[col] = transactions_per_wallet[col].fillna('other')\n",
    "\n",
    "\t\treturn transactions_per_wallet\n",
    "\n",
    "\telse: \n",
    "\t\treturn pd.DataFrame(columns=['BLOCK_NUMBER', 'BLOCK_TIMESTAMP', 'BLOCK_HASH', 'TX_HASH', 'NONCE',\n",
    "       'POSITION', 'ORIGIN_FUNCTION_SIGNATURE', 'FROM_ADDRESS', 'TO_ADDRESS',\n",
    "       'ETH_VALUE', 'TX_FEE', 'GAS_PRICE', 'GAS_LIMIT', 'GAS_USED',\n",
    "       'CUMULATIVE_GAS_USED', 'INPUT_DATA', 'STATUS', 'TX_JSON', 'BLOCKCHAIN',\n",
    "       'CREATOR', 'ADDRESS', 'ADDRESS_NAME', 'LABEL_TYPE', 'LABEL_SUBTYPE',\n",
    "       'LABEL', 'SIDE'])"
   ]
  },
  {
   "cell_type": "code",
   "execution_count": 17,
   "metadata": {},
   "outputs": [
    {
     "name": "stdout",
     "output_type": "stream",
     "text": [
      "arbitrum\n",
      "No rows found, returning empty dict\n",
      "optimism\n",
      "No rows found, returning empty dict\n",
      "avalanche\n",
      "bsc\n",
      "No rows found, returning empty dict\n",
      "polygon\n",
      "No rows found, returning empty dict\n"
     ]
    }
   ],
   "source": [
    "list_of_dfs = []\n",
    "\n",
    "for chain in other_chains:\n",
    "\tprint(chain)\n",
    "\ttmp_df = load_transactions(wallet_address.lower(), start_date, chain_name=chain)\n",
    "\ttmp_df['chain'] = chain\n",
    "\tlist_of_dfs.append(tmp_df)\n",
    "\n",
    "transactions_per_wallet_other_chains = pd.concat(list_of_dfs)"
   ]
  },
  {
   "cell_type": "code",
   "execution_count": 29,
   "metadata": {},
   "outputs": [],
   "source": [
    "found_chains = list(transactions_per_wallet_other_chains['chain'].unique())\n",
    "if len(found_chains) > 0:\n",
    "\tpass\n",
    "transactions_per_wallet_other_chains['dummy'] = 10\n",
    "fig = px.scatter(transactions_per_wallet_other_chains, x=\"BLOCK_TIMESTAMP\", y=\"LABEL\", color=\"SIDE\", size='dummy', size_max=10, opacity=0.5,\n",
    "\t\ttitle='Labeled Transactions over time', hover_data=['TX_FEE', 'TX_HASH', 'ETH_VALUE'], facet_row='chain')\n",
    "# fig.update_layout(xaxis_rangeslider_visible=True)\n",
    "fig.update_layout(height=500*transactions_per_wallet_other_chains['chain'].nunique())\n",
    "fig"
   ]
  },
  {
   "cell_type": "code",
   "execution_count": 30,
   "metadata": {},
   "outputs": [
    {
     "data": {
      "application/vnd.plotly.v1+json": {
       "config": {
        "plotlyServerURL": "https://plot.ly"
       },
       "data": [
        {
         "alignmentgroup": "True",
         "hovertemplate": "LABEL=other<br>SIDE=incoming<br>BLOCK_TIMESTAMP=%{x}<br>TX_HASH=%{y}<extra></extra>",
         "legendgroup": "other",
         "marker": {
          "color": "#636efa",
          "pattern": {
           "shape": ""
          }
         },
         "name": "other",
         "offsetgroup": "other",
         "orientation": "v",
         "showlegend": true,
         "textposition": "auto",
         "type": "bar",
         "x": [
          "2022-06-22T00:00:00"
         ],
         "xaxis": "x",
         "y": [
          1
         ],
         "yaxis": "y"
        }
       ],
       "layout": {
        "annotations": [
         {
          "font": {},
          "showarrow": false,
          "text": "SIDE=incoming",
          "textangle": 90,
          "x": 0.98,
          "xanchor": "left",
          "xref": "paper",
          "y": 0.5,
          "yanchor": "middle",
          "yref": "paper"
         }
        ],
        "barmode": "relative",
        "legend": {
         "title": {
          "text": "LABEL"
         },
         "tracegroupgap": 0
        },
        "template": {
         "data": {
          "bar": [
           {
            "error_x": {
             "color": "#2a3f5f"
            },
            "error_y": {
             "color": "#2a3f5f"
            },
            "marker": {
             "line": {
              "color": "#E5ECF6",
              "width": 0.5
             },
             "pattern": {
              "fillmode": "overlay",
              "size": 10,
              "solidity": 0.2
             }
            },
            "type": "bar"
           }
          ],
          "barpolar": [
           {
            "marker": {
             "line": {
              "color": "#E5ECF6",
              "width": 0.5
             },
             "pattern": {
              "fillmode": "overlay",
              "size": 10,
              "solidity": 0.2
             }
            },
            "type": "barpolar"
           }
          ],
          "carpet": [
           {
            "aaxis": {
             "endlinecolor": "#2a3f5f",
             "gridcolor": "white",
             "linecolor": "white",
             "minorgridcolor": "white",
             "startlinecolor": "#2a3f5f"
            },
            "baxis": {
             "endlinecolor": "#2a3f5f",
             "gridcolor": "white",
             "linecolor": "white",
             "minorgridcolor": "white",
             "startlinecolor": "#2a3f5f"
            },
            "type": "carpet"
           }
          ],
          "choropleth": [
           {
            "colorbar": {
             "outlinewidth": 0,
             "ticks": ""
            },
            "type": "choropleth"
           }
          ],
          "contour": [
           {
            "colorbar": {
             "outlinewidth": 0,
             "ticks": ""
            },
            "colorscale": [
             [
              0,
              "#0d0887"
             ],
             [
              0.1111111111111111,
              "#46039f"
             ],
             [
              0.2222222222222222,
              "#7201a8"
             ],
             [
              0.3333333333333333,
              "#9c179e"
             ],
             [
              0.4444444444444444,
              "#bd3786"
             ],
             [
              0.5555555555555556,
              "#d8576b"
             ],
             [
              0.6666666666666666,
              "#ed7953"
             ],
             [
              0.7777777777777778,
              "#fb9f3a"
             ],
             [
              0.8888888888888888,
              "#fdca26"
             ],
             [
              1,
              "#f0f921"
             ]
            ],
            "type": "contour"
           }
          ],
          "contourcarpet": [
           {
            "colorbar": {
             "outlinewidth": 0,
             "ticks": ""
            },
            "type": "contourcarpet"
           }
          ],
          "heatmap": [
           {
            "colorbar": {
             "outlinewidth": 0,
             "ticks": ""
            },
            "colorscale": [
             [
              0,
              "#0d0887"
             ],
             [
              0.1111111111111111,
              "#46039f"
             ],
             [
              0.2222222222222222,
              "#7201a8"
             ],
             [
              0.3333333333333333,
              "#9c179e"
             ],
             [
              0.4444444444444444,
              "#bd3786"
             ],
             [
              0.5555555555555556,
              "#d8576b"
             ],
             [
              0.6666666666666666,
              "#ed7953"
             ],
             [
              0.7777777777777778,
              "#fb9f3a"
             ],
             [
              0.8888888888888888,
              "#fdca26"
             ],
             [
              1,
              "#f0f921"
             ]
            ],
            "type": "heatmap"
           }
          ],
          "heatmapgl": [
           {
            "colorbar": {
             "outlinewidth": 0,
             "ticks": ""
            },
            "colorscale": [
             [
              0,
              "#0d0887"
             ],
             [
              0.1111111111111111,
              "#46039f"
             ],
             [
              0.2222222222222222,
              "#7201a8"
             ],
             [
              0.3333333333333333,
              "#9c179e"
             ],
             [
              0.4444444444444444,
              "#bd3786"
             ],
             [
              0.5555555555555556,
              "#d8576b"
             ],
             [
              0.6666666666666666,
              "#ed7953"
             ],
             [
              0.7777777777777778,
              "#fb9f3a"
             ],
             [
              0.8888888888888888,
              "#fdca26"
             ],
             [
              1,
              "#f0f921"
             ]
            ],
            "type": "heatmapgl"
           }
          ],
          "histogram": [
           {
            "marker": {
             "pattern": {
              "fillmode": "overlay",
              "size": 10,
              "solidity": 0.2
             }
            },
            "type": "histogram"
           }
          ],
          "histogram2d": [
           {
            "colorbar": {
             "outlinewidth": 0,
             "ticks": ""
            },
            "colorscale": [
             [
              0,
              "#0d0887"
             ],
             [
              0.1111111111111111,
              "#46039f"
             ],
             [
              0.2222222222222222,
              "#7201a8"
             ],
             [
              0.3333333333333333,
              "#9c179e"
             ],
             [
              0.4444444444444444,
              "#bd3786"
             ],
             [
              0.5555555555555556,
              "#d8576b"
             ],
             [
              0.6666666666666666,
              "#ed7953"
             ],
             [
              0.7777777777777778,
              "#fb9f3a"
             ],
             [
              0.8888888888888888,
              "#fdca26"
             ],
             [
              1,
              "#f0f921"
             ]
            ],
            "type": "histogram2d"
           }
          ],
          "histogram2dcontour": [
           {
            "colorbar": {
             "outlinewidth": 0,
             "ticks": ""
            },
            "colorscale": [
             [
              0,
              "#0d0887"
             ],
             [
              0.1111111111111111,
              "#46039f"
             ],
             [
              0.2222222222222222,
              "#7201a8"
             ],
             [
              0.3333333333333333,
              "#9c179e"
             ],
             [
              0.4444444444444444,
              "#bd3786"
             ],
             [
              0.5555555555555556,
              "#d8576b"
             ],
             [
              0.6666666666666666,
              "#ed7953"
             ],
             [
              0.7777777777777778,
              "#fb9f3a"
             ],
             [
              0.8888888888888888,
              "#fdca26"
             ],
             [
              1,
              "#f0f921"
             ]
            ],
            "type": "histogram2dcontour"
           }
          ],
          "mesh3d": [
           {
            "colorbar": {
             "outlinewidth": 0,
             "ticks": ""
            },
            "type": "mesh3d"
           }
          ],
          "parcoords": [
           {
            "line": {
             "colorbar": {
              "outlinewidth": 0,
              "ticks": ""
             }
            },
            "type": "parcoords"
           }
          ],
          "pie": [
           {
            "automargin": true,
            "type": "pie"
           }
          ],
          "scatter": [
           {
            "fillpattern": {
             "fillmode": "overlay",
             "size": 10,
             "solidity": 0.2
            },
            "type": "scatter"
           }
          ],
          "scatter3d": [
           {
            "line": {
             "colorbar": {
              "outlinewidth": 0,
              "ticks": ""
             }
            },
            "marker": {
             "colorbar": {
              "outlinewidth": 0,
              "ticks": ""
             }
            },
            "type": "scatter3d"
           }
          ],
          "scattercarpet": [
           {
            "marker": {
             "colorbar": {
              "outlinewidth": 0,
              "ticks": ""
             }
            },
            "type": "scattercarpet"
           }
          ],
          "scattergeo": [
           {
            "marker": {
             "colorbar": {
              "outlinewidth": 0,
              "ticks": ""
             }
            },
            "type": "scattergeo"
           }
          ],
          "scattergl": [
           {
            "marker": {
             "colorbar": {
              "outlinewidth": 0,
              "ticks": ""
             }
            },
            "type": "scattergl"
           }
          ],
          "scattermapbox": [
           {
            "marker": {
             "colorbar": {
              "outlinewidth": 0,
              "ticks": ""
             }
            },
            "type": "scattermapbox"
           }
          ],
          "scatterpolar": [
           {
            "marker": {
             "colorbar": {
              "outlinewidth": 0,
              "ticks": ""
             }
            },
            "type": "scatterpolar"
           }
          ],
          "scatterpolargl": [
           {
            "marker": {
             "colorbar": {
              "outlinewidth": 0,
              "ticks": ""
             }
            },
            "type": "scatterpolargl"
           }
          ],
          "scatterternary": [
           {
            "marker": {
             "colorbar": {
              "outlinewidth": 0,
              "ticks": ""
             }
            },
            "type": "scatterternary"
           }
          ],
          "surface": [
           {
            "colorbar": {
             "outlinewidth": 0,
             "ticks": ""
            },
            "colorscale": [
             [
              0,
              "#0d0887"
             ],
             [
              0.1111111111111111,
              "#46039f"
             ],
             [
              0.2222222222222222,
              "#7201a8"
             ],
             [
              0.3333333333333333,
              "#9c179e"
             ],
             [
              0.4444444444444444,
              "#bd3786"
             ],
             [
              0.5555555555555556,
              "#d8576b"
             ],
             [
              0.6666666666666666,
              "#ed7953"
             ],
             [
              0.7777777777777778,
              "#fb9f3a"
             ],
             [
              0.8888888888888888,
              "#fdca26"
             ],
             [
              1,
              "#f0f921"
             ]
            ],
            "type": "surface"
           }
          ],
          "table": [
           {
            "cells": {
             "fill": {
              "color": "#EBF0F8"
             },
             "line": {
              "color": "white"
             }
            },
            "header": {
             "fill": {
              "color": "#C8D4E3"
             },
             "line": {
              "color": "white"
             }
            },
            "type": "table"
           }
          ]
         },
         "layout": {
          "annotationdefaults": {
           "arrowcolor": "#2a3f5f",
           "arrowhead": 0,
           "arrowwidth": 1
          },
          "autotypenumbers": "strict",
          "coloraxis": {
           "colorbar": {
            "outlinewidth": 0,
            "ticks": ""
           }
          },
          "colorscale": {
           "diverging": [
            [
             0,
             "#8e0152"
            ],
            [
             0.1,
             "#c51b7d"
            ],
            [
             0.2,
             "#de77ae"
            ],
            [
             0.3,
             "#f1b6da"
            ],
            [
             0.4,
             "#fde0ef"
            ],
            [
             0.5,
             "#f7f7f7"
            ],
            [
             0.6,
             "#e6f5d0"
            ],
            [
             0.7,
             "#b8e186"
            ],
            [
             0.8,
             "#7fbc41"
            ],
            [
             0.9,
             "#4d9221"
            ],
            [
             1,
             "#276419"
            ]
           ],
           "sequential": [
            [
             0,
             "#0d0887"
            ],
            [
             0.1111111111111111,
             "#46039f"
            ],
            [
             0.2222222222222222,
             "#7201a8"
            ],
            [
             0.3333333333333333,
             "#9c179e"
            ],
            [
             0.4444444444444444,
             "#bd3786"
            ],
            [
             0.5555555555555556,
             "#d8576b"
            ],
            [
             0.6666666666666666,
             "#ed7953"
            ],
            [
             0.7777777777777778,
             "#fb9f3a"
            ],
            [
             0.8888888888888888,
             "#fdca26"
            ],
            [
             1,
             "#f0f921"
            ]
           ],
           "sequentialminus": [
            [
             0,
             "#0d0887"
            ],
            [
             0.1111111111111111,
             "#46039f"
            ],
            [
             0.2222222222222222,
             "#7201a8"
            ],
            [
             0.3333333333333333,
             "#9c179e"
            ],
            [
             0.4444444444444444,
             "#bd3786"
            ],
            [
             0.5555555555555556,
             "#d8576b"
            ],
            [
             0.6666666666666666,
             "#ed7953"
            ],
            [
             0.7777777777777778,
             "#fb9f3a"
            ],
            [
             0.8888888888888888,
             "#fdca26"
            ],
            [
             1,
             "#f0f921"
            ]
           ]
          },
          "colorway": [
           "#636efa",
           "#EF553B",
           "#00cc96",
           "#ab63fa",
           "#FFA15A",
           "#19d3f3",
           "#FF6692",
           "#B6E880",
           "#FF97FF",
           "#FECB52"
          ],
          "font": {
           "color": "#2a3f5f"
          },
          "geo": {
           "bgcolor": "white",
           "lakecolor": "white",
           "landcolor": "#E5ECF6",
           "showlakes": true,
           "showland": true,
           "subunitcolor": "white"
          },
          "hoverlabel": {
           "align": "left"
          },
          "hovermode": "closest",
          "mapbox": {
           "style": "light"
          },
          "paper_bgcolor": "white",
          "plot_bgcolor": "#E5ECF6",
          "polar": {
           "angularaxis": {
            "gridcolor": "white",
            "linecolor": "white",
            "ticks": ""
           },
           "bgcolor": "#E5ECF6",
           "radialaxis": {
            "gridcolor": "white",
            "linecolor": "white",
            "ticks": ""
           }
          },
          "scene": {
           "xaxis": {
            "backgroundcolor": "#E5ECF6",
            "gridcolor": "white",
            "gridwidth": 2,
            "linecolor": "white",
            "showbackground": true,
            "ticks": "",
            "zerolinecolor": "white"
           },
           "yaxis": {
            "backgroundcolor": "#E5ECF6",
            "gridcolor": "white",
            "gridwidth": 2,
            "linecolor": "white",
            "showbackground": true,
            "ticks": "",
            "zerolinecolor": "white"
           },
           "zaxis": {
            "backgroundcolor": "#E5ECF6",
            "gridcolor": "white",
            "gridwidth": 2,
            "linecolor": "white",
            "showbackground": true,
            "ticks": "",
            "zerolinecolor": "white"
           }
          },
          "shapedefaults": {
           "line": {
            "color": "#2a3f5f"
           }
          },
          "ternary": {
           "aaxis": {
            "gridcolor": "white",
            "linecolor": "white",
            "ticks": ""
           },
           "baxis": {
            "gridcolor": "white",
            "linecolor": "white",
            "ticks": ""
           },
           "bgcolor": "#E5ECF6",
           "caxis": {
            "gridcolor": "white",
            "linecolor": "white",
            "ticks": ""
           }
          },
          "title": {
           "x": 0.05
          },
          "xaxis": {
           "automargin": true,
           "gridcolor": "white",
           "linecolor": "white",
           "ticks": "",
           "title": {
            "standoff": 15
           },
           "zerolinecolor": "white",
           "zerolinewidth": 2
          },
          "yaxis": {
           "automargin": true,
           "gridcolor": "white",
           "linecolor": "white",
           "ticks": "",
           "title": {
            "standoff": 15
           },
           "zerolinecolor": "white",
           "zerolinewidth": 2
          }
         }
        },
        "title": {
         "text": "Aggregated Labeled Incoming Transactions over time"
        },
        "xaxis": {
         "anchor": "y",
         "domain": [
          0,
          0.98
         ],
         "title": {
          "text": "BLOCK_TIMESTAMP"
         }
        },
        "yaxis": {
         "anchor": "x",
         "domain": [
          0,
          1
         ],
         "title": {
          "text": "TX_HASH"
         }
        }
       }
      }
     },
     "metadata": {},
     "output_type": "display_data"
    }
   ],
   "source": []
  },
  {
   "cell_type": "code",
   "execution_count": 21,
   "metadata": {},
   "outputs": [
    {
     "data": {
      "text/html": [
       "<div>\n",
       "<style scoped>\n",
       "    .dataframe tbody tr th:only-of-type {\n",
       "        vertical-align: middle;\n",
       "    }\n",
       "\n",
       "    .dataframe tbody tr th {\n",
       "        vertical-align: top;\n",
       "    }\n",
       "\n",
       "    .dataframe thead th {\n",
       "        text-align: right;\n",
       "    }\n",
       "</style>\n",
       "<table border=\"1\" class=\"dataframe\">\n",
       "  <thead>\n",
       "    <tr style=\"text-align: right;\">\n",
       "      <th></th>\n",
       "      <th>BLOCK_NUMBER</th>\n",
       "      <th>BLOCK_TIMESTAMP</th>\n",
       "      <th>BLOCK_HASH</th>\n",
       "      <th>TX_HASH</th>\n",
       "      <th>NONCE</th>\n",
       "      <th>POSITION</th>\n",
       "      <th>ORIGIN_FUNCTION_SIGNATURE</th>\n",
       "      <th>FROM_ADDRESS</th>\n",
       "      <th>TO_ADDRESS</th>\n",
       "      <th>ETH_VALUE</th>\n",
       "      <th>...</th>\n",
       "      <th>TX_JSON</th>\n",
       "      <th>BLOCKCHAIN</th>\n",
       "      <th>CREATOR</th>\n",
       "      <th>ADDRESS</th>\n",
       "      <th>ADDRESS_NAME</th>\n",
       "      <th>LABEL_TYPE</th>\n",
       "      <th>LABEL_SUBTYPE</th>\n",
       "      <th>LABEL</th>\n",
       "      <th>SIDE</th>\n",
       "      <th>chain</th>\n",
       "    </tr>\n",
       "  </thead>\n",
       "  <tbody>\n",
       "    <tr>\n",
       "      <th>0</th>\n",
       "      <td>14861607</td>\n",
       "      <td>2022-05-28 17:29:31</td>\n",
       "      <td>0x0eb0ecb6b25ef7136cec0892f1cf5e704369f5c58862...</td>\n",
       "      <td>0xefbf5ecb908fb943f0e2003121b7eef9146b44b07764...</td>\n",
       "      <td>4</td>\n",
       "      <td>81</td>\n",
       "      <td>0xf7a16963</td>\n",
       "      <td>0xafb5853ba41ee4d8886ed66793535218bec8f1a9</td>\n",
       "      <td>0x283af0b28c62c092c9727f1ee09c02ca627eb7f5</td>\n",
       "      <td>0.003096</td>\n",
       "      <td>...</td>\n",
       "      <td>{'block_hash': '0x0eb0ecb6b25ef7136cec0892f1cf...</td>\n",
       "      <td>ethereum</td>\n",
       "      <td>flipside</td>\n",
       "      <td>0x283af0b28c62c092c9727f1ee09c02ca627eb7f5</td>\n",
       "      <td>eth registrar controller</td>\n",
       "      <td>dapp</td>\n",
       "      <td>general_contract</td>\n",
       "      <td>ens</td>\n",
       "      <td>outgoing</td>\n",
       "      <td>arbitrum</td>\n",
       "    </tr>\n",
       "    <tr>\n",
       "      <th>1</th>\n",
       "      <td>14861594</td>\n",
       "      <td>2022-05-28 17:26:29</td>\n",
       "      <td>0x66f74af7efc94715a1e88c4a06794de860353b322b68...</td>\n",
       "      <td>0x24ee6e03ff7248490a8685d582758566fb5ab20978e6...</td>\n",
       "      <td>3</td>\n",
       "      <td>265</td>\n",
       "      <td>0xf14fcbc8</td>\n",
       "      <td>0xafb5853ba41ee4d8886ed66793535218bec8f1a9</td>\n",
       "      <td>0x283af0b28c62c092c9727f1ee09c02ca627eb7f5</td>\n",
       "      <td>0.000000</td>\n",
       "      <td>...</td>\n",
       "      <td>{'block_hash': '0x66f74af7efc94715a1e88c4a0679...</td>\n",
       "      <td>ethereum</td>\n",
       "      <td>flipside</td>\n",
       "      <td>0x283af0b28c62c092c9727f1ee09c02ca627eb7f5</td>\n",
       "      <td>eth registrar controller</td>\n",
       "      <td>dapp</td>\n",
       "      <td>general_contract</td>\n",
       "      <td>ens</td>\n",
       "      <td>outgoing</td>\n",
       "      <td>arbitrum</td>\n",
       "    </tr>\n",
       "    <tr>\n",
       "      <th>2</th>\n",
       "      <td>15093358</td>\n",
       "      <td>2022-07-07 04:49:29</td>\n",
       "      <td>0x9f2b955c069a1a0022bd5251931e4f759b05234d4a7b...</td>\n",
       "      <td>0x60a44c3df174d05f79e3e13c2156164a6b7f43c9feba...</td>\n",
       "      <td>18</td>\n",
       "      <td>14</td>\n",
       "      <td>0x5ae401dc</td>\n",
       "      <td>0xafb5853ba41ee4d8886ed66793535218bec8f1a9</td>\n",
       "      <td>0x68b3465833fb72a70ecdf485e0e4c7bd8665fc45</td>\n",
       "      <td>0.100000</td>\n",
       "      <td>...</td>\n",
       "      <td>{'block_hash': '0x9f2b955c069a1a0022bd5251931e...</td>\n",
       "      <td>ethereum</td>\n",
       "      <td>flipside</td>\n",
       "      <td>0x68b3465833fb72a70ecdf485e0e4c7bd8665fc45</td>\n",
       "      <td>uniswap v3: router 2</td>\n",
       "      <td>dex</td>\n",
       "      <td>swap_contract</td>\n",
       "      <td>uniswap</td>\n",
       "      <td>outgoing</td>\n",
       "      <td>arbitrum</td>\n",
       "    </tr>\n",
       "    <tr>\n",
       "      <th>3</th>\n",
       "      <td>15001487</td>\n",
       "      <td>2022-06-21 09:01:56</td>\n",
       "      <td>0x974421fc2c341b599b481287a65f0ff64722f90c8ed9...</td>\n",
       "      <td>0x5b796f5ad00e6411658553d1916fe99cb3ae42337e11...</td>\n",
       "      <td>11</td>\n",
       "      <td>171</td>\n",
       "      <td>0x5ae401dc</td>\n",
       "      <td>0xafb5853ba41ee4d8886ed66793535218bec8f1a9</td>\n",
       "      <td>0x68b3465833fb72a70ecdf485e0e4c7bd8665fc45</td>\n",
       "      <td>0.000000</td>\n",
       "      <td>...</td>\n",
       "      <td>{'block_hash': '0x974421fc2c341b599b481287a65f...</td>\n",
       "      <td>ethereum</td>\n",
       "      <td>flipside</td>\n",
       "      <td>0x68b3465833fb72a70ecdf485e0e4c7bd8665fc45</td>\n",
       "      <td>uniswap v3: router 2</td>\n",
       "      <td>dex</td>\n",
       "      <td>swap_contract</td>\n",
       "      <td>uniswap</td>\n",
       "      <td>outgoing</td>\n",
       "      <td>arbitrum</td>\n",
       "    </tr>\n",
       "    <tr>\n",
       "      <th>4</th>\n",
       "      <td>14920945</td>\n",
       "      <td>2022-06-07 12:59:11</td>\n",
       "      <td>0x023140aead2fe63fd0171d722c6c7eccf7367f312519...</td>\n",
       "      <td>0x59e65a181b1a6d99b5e8a6c8e179284c70d9580fa2f2...</td>\n",
       "      <td>2995284</td>\n",
       "      <td>97</td>\n",
       "      <td>0x</td>\n",
       "      <td>0x56eddb7aa87536c09ccc2793473599fd21a8b17f</td>\n",
       "      <td>0xafb5853ba41ee4d8886ed66793535218bec8f1a9</td>\n",
       "      <td>0.014253</td>\n",
       "      <td>...</td>\n",
       "      <td>{'block_hash': '0x023140aead2fe63fd0171d722c6c...</td>\n",
       "      <td>ethereum</td>\n",
       "      <td>flipside</td>\n",
       "      <td>0x56eddb7aa87536c09ccc2793473599fd21a8b17f</td>\n",
       "      <td>binance 17</td>\n",
       "      <td>cex</td>\n",
       "      <td>hot_wallet</td>\n",
       "      <td>binance</td>\n",
       "      <td>incoming</td>\n",
       "      <td>arbitrum</td>\n",
       "    </tr>\n",
       "    <tr>\n",
       "      <th>...</th>\n",
       "      <td>...</td>\n",
       "      <td>...</td>\n",
       "      <td>...</td>\n",
       "      <td>...</td>\n",
       "      <td>...</td>\n",
       "      <td>...</td>\n",
       "      <td>...</td>\n",
       "      <td>...</td>\n",
       "      <td>...</td>\n",
       "      <td>...</td>\n",
       "      <td>...</td>\n",
       "      <td>...</td>\n",
       "      <td>...</td>\n",
       "      <td>...</td>\n",
       "      <td>...</td>\n",
       "      <td>...</td>\n",
       "      <td>...</td>\n",
       "      <td>...</td>\n",
       "      <td>...</td>\n",
       "      <td>...</td>\n",
       "      <td>...</td>\n",
       "    </tr>\n",
       "    <tr>\n",
       "      <th>18</th>\n",
       "      <td>15013392</td>\n",
       "      <td>2022-06-23 14:29:49</td>\n",
       "      <td>0xf7c3560b3bfa844e359531ba3d1ce2022b1d8c88cdc5...</td>\n",
       "      <td>0x688c9bbfd9c7300a6ed73e212f39ae355fac8bc664e7...</td>\n",
       "      <td>12</td>\n",
       "      <td>81</td>\n",
       "      <td>0xa22cb465</td>\n",
       "      <td>0xafb5853ba41ee4d8886ed66793535218bec8f1a9</td>\n",
       "      <td>0x4b10701bfd7bfedc47d50562b76b436fbb5bdb3b</td>\n",
       "      <td>0.000000</td>\n",
       "      <td>...</td>\n",
       "      <td>{'block_hash': '0xf7c3560b3bfa844e359531ba3d1c...</td>\n",
       "      <td>None</td>\n",
       "      <td>None</td>\n",
       "      <td>None</td>\n",
       "      <td>other</td>\n",
       "      <td>other</td>\n",
       "      <td>other</td>\n",
       "      <td>other</td>\n",
       "      <td>outgoing</td>\n",
       "      <td>polygon</td>\n",
       "    </tr>\n",
       "    <tr>\n",
       "      <th>19</th>\n",
       "      <td>14922086</td>\n",
       "      <td>2022-06-07 17:32:03</td>\n",
       "      <td>0xe243b64403d5127eb56bd2efabf4f28c959315a9c5b7...</td>\n",
       "      <td>0x451319d36541b4123e72be66d31ce3291bd586ddf08b...</td>\n",
       "      <td>10</td>\n",
       "      <td>193</td>\n",
       "      <td>0xb77a147b</td>\n",
       "      <td>0xafb5853ba41ee4d8886ed66793535218bec8f1a9</td>\n",
       "      <td>0x903e2f5d42ee23156d548dd46bb84b7873789e44</td>\n",
       "      <td>0.100000</td>\n",
       "      <td>...</td>\n",
       "      <td>{'block_hash': '0xe243b64403d5127eb56bd2efabf4...</td>\n",
       "      <td>ethereum</td>\n",
       "      <td>flipside</td>\n",
       "      <td>0x903e2f5d42ee23156d548dd46bb84b7873789e44</td>\n",
       "      <td>godmode nft</td>\n",
       "      <td>nft</td>\n",
       "      <td>nf_token_contract</td>\n",
       "      <td>flipside</td>\n",
       "      <td>outgoing</td>\n",
       "      <td>polygon</td>\n",
       "    </tr>\n",
       "    <tr>\n",
       "      <th>20</th>\n",
       "      <td>15013394</td>\n",
       "      <td>2022-06-23 14:30:32</td>\n",
       "      <td>0x1fe6d4e64820c789dddd963e44143b146814e36066eb...</td>\n",
       "      <td>0x9322b410088b9284d99777954bcb42e068e69e1e1d43...</td>\n",
       "      <td>13</td>\n",
       "      <td>80</td>\n",
       "      <td>0x095ea7b3</td>\n",
       "      <td>0xafb5853ba41ee4d8886ed66793535218bec8f1a9</td>\n",
       "      <td>0xc02aaa39b223fe8d0a0e5c4f27ead9083c756cc2</td>\n",
       "      <td>0.000000</td>\n",
       "      <td>...</td>\n",
       "      <td>{'block_hash': '0x1fe6d4e64820c789dddd963e4414...</td>\n",
       "      <td>ethereum</td>\n",
       "      <td>flipside</td>\n",
       "      <td>0xc02aaa39b223fe8d0a0e5c4f27ead9083c756cc2</td>\n",
       "      <td>weth</td>\n",
       "      <td>dapp</td>\n",
       "      <td>token_contract</td>\n",
       "      <td>weth</td>\n",
       "      <td>outgoing</td>\n",
       "      <td>polygon</td>\n",
       "    </tr>\n",
       "    <tr>\n",
       "      <th>21</th>\n",
       "      <td>14922056</td>\n",
       "      <td>2022-06-07 17:25:24</td>\n",
       "      <td>0xc7ce26f02077b85bb490a9cbf740511fcb6bd9d87121...</td>\n",
       "      <td>0x139708a5c3fe6ba0ec8674dd533d2bf5df9f63393f7c...</td>\n",
       "      <td>3812642</td>\n",
       "      <td>255</td>\n",
       "      <td>0x</td>\n",
       "      <td>0x21a31ee1afc51d94c2efccaa2092ad1028285549</td>\n",
       "      <td>0xafb5853ba41ee4d8886ed66793535218bec8f1a9</td>\n",
       "      <td>0.040300</td>\n",
       "      <td>...</td>\n",
       "      <td>{'block_hash': '0xc7ce26f02077b85bb490a9cbf740...</td>\n",
       "      <td>ethereum</td>\n",
       "      <td>flipside</td>\n",
       "      <td>0x21a31ee1afc51d94c2efccaa2092ad1028285549</td>\n",
       "      <td>binance 15</td>\n",
       "      <td>cex</td>\n",
       "      <td>hot_wallet</td>\n",
       "      <td>binance</td>\n",
       "      <td>incoming</td>\n",
       "      <td>polygon</td>\n",
       "    </tr>\n",
       "    <tr>\n",
       "      <th>22</th>\n",
       "      <td>14861614</td>\n",
       "      <td>2022-05-28 17:30:14</td>\n",
       "      <td>0xfd63c9a360a5684ccb840cb790e053c5e257cd4f6ac9...</td>\n",
       "      <td>0x4b67bc061a9d42e94570136d1b6333ece92830ca857a...</td>\n",
       "      <td>5</td>\n",
       "      <td>103</td>\n",
       "      <td>0xc47f0027</td>\n",
       "      <td>0xafb5853ba41ee4d8886ed66793535218bec8f1a9</td>\n",
       "      <td>0x084b1c3c81545d370f3634392de611caabff8148</td>\n",
       "      <td>0.000000</td>\n",
       "      <td>...</td>\n",
       "      <td>{'block_hash': '0xfd63c9a360a5684ccb840cb790e0...</td>\n",
       "      <td>ethereum</td>\n",
       "      <td>flipside</td>\n",
       "      <td>0x084b1c3c81545d370f3634392de611caabff8148</td>\n",
       "      <td>reverse registrar</td>\n",
       "      <td>dapp</td>\n",
       "      <td>general_contract</td>\n",
       "      <td>ens</td>\n",
       "      <td>outgoing</td>\n",
       "      <td>polygon</td>\n",
       "    </tr>\n",
       "  </tbody>\n",
       "</table>\n",
       "<p>115 rows × 27 columns</p>\n",
       "</div>"
      ],
      "text/plain": [
       "    BLOCK_NUMBER     BLOCK_TIMESTAMP  \\\n",
       "0       14861607 2022-05-28 17:29:31   \n",
       "1       14861594 2022-05-28 17:26:29   \n",
       "2       15093358 2022-07-07 04:49:29   \n",
       "3       15001487 2022-06-21 09:01:56   \n",
       "4       14920945 2022-06-07 12:59:11   \n",
       "..           ...                 ...   \n",
       "18      15013392 2022-06-23 14:29:49   \n",
       "19      14922086 2022-06-07 17:32:03   \n",
       "20      15013394 2022-06-23 14:30:32   \n",
       "21      14922056 2022-06-07 17:25:24   \n",
       "22      14861614 2022-05-28 17:30:14   \n",
       "\n",
       "                                           BLOCK_HASH  \\\n",
       "0   0x0eb0ecb6b25ef7136cec0892f1cf5e704369f5c58862...   \n",
       "1   0x66f74af7efc94715a1e88c4a06794de860353b322b68...   \n",
       "2   0x9f2b955c069a1a0022bd5251931e4f759b05234d4a7b...   \n",
       "3   0x974421fc2c341b599b481287a65f0ff64722f90c8ed9...   \n",
       "4   0x023140aead2fe63fd0171d722c6c7eccf7367f312519...   \n",
       "..                                                ...   \n",
       "18  0xf7c3560b3bfa844e359531ba3d1ce2022b1d8c88cdc5...   \n",
       "19  0xe243b64403d5127eb56bd2efabf4f28c959315a9c5b7...   \n",
       "20  0x1fe6d4e64820c789dddd963e44143b146814e36066eb...   \n",
       "21  0xc7ce26f02077b85bb490a9cbf740511fcb6bd9d87121...   \n",
       "22  0xfd63c9a360a5684ccb840cb790e053c5e257cd4f6ac9...   \n",
       "\n",
       "                                              TX_HASH    NONCE  POSITION  \\\n",
       "0   0xefbf5ecb908fb943f0e2003121b7eef9146b44b07764...        4        81   \n",
       "1   0x24ee6e03ff7248490a8685d582758566fb5ab20978e6...        3       265   \n",
       "2   0x60a44c3df174d05f79e3e13c2156164a6b7f43c9feba...       18        14   \n",
       "3   0x5b796f5ad00e6411658553d1916fe99cb3ae42337e11...       11       171   \n",
       "4   0x59e65a181b1a6d99b5e8a6c8e179284c70d9580fa2f2...  2995284        97   \n",
       "..                                                ...      ...       ...   \n",
       "18  0x688c9bbfd9c7300a6ed73e212f39ae355fac8bc664e7...       12        81   \n",
       "19  0x451319d36541b4123e72be66d31ce3291bd586ddf08b...       10       193   \n",
       "20  0x9322b410088b9284d99777954bcb42e068e69e1e1d43...       13        80   \n",
       "21  0x139708a5c3fe6ba0ec8674dd533d2bf5df9f63393f7c...  3812642       255   \n",
       "22  0x4b67bc061a9d42e94570136d1b6333ece92830ca857a...        5       103   \n",
       "\n",
       "   ORIGIN_FUNCTION_SIGNATURE                                FROM_ADDRESS  \\\n",
       "0                 0xf7a16963  0xafb5853ba41ee4d8886ed66793535218bec8f1a9   \n",
       "1                 0xf14fcbc8  0xafb5853ba41ee4d8886ed66793535218bec8f1a9   \n",
       "2                 0x5ae401dc  0xafb5853ba41ee4d8886ed66793535218bec8f1a9   \n",
       "3                 0x5ae401dc  0xafb5853ba41ee4d8886ed66793535218bec8f1a9   \n",
       "4                         0x  0x56eddb7aa87536c09ccc2793473599fd21a8b17f   \n",
       "..                       ...                                         ...   \n",
       "18                0xa22cb465  0xafb5853ba41ee4d8886ed66793535218bec8f1a9   \n",
       "19                0xb77a147b  0xafb5853ba41ee4d8886ed66793535218bec8f1a9   \n",
       "20                0x095ea7b3  0xafb5853ba41ee4d8886ed66793535218bec8f1a9   \n",
       "21                        0x  0x21a31ee1afc51d94c2efccaa2092ad1028285549   \n",
       "22                0xc47f0027  0xafb5853ba41ee4d8886ed66793535218bec8f1a9   \n",
       "\n",
       "                                    TO_ADDRESS  ETH_VALUE  ...  \\\n",
       "0   0x283af0b28c62c092c9727f1ee09c02ca627eb7f5   0.003096  ...   \n",
       "1   0x283af0b28c62c092c9727f1ee09c02ca627eb7f5   0.000000  ...   \n",
       "2   0x68b3465833fb72a70ecdf485e0e4c7bd8665fc45   0.100000  ...   \n",
       "3   0x68b3465833fb72a70ecdf485e0e4c7bd8665fc45   0.000000  ...   \n",
       "4   0xafb5853ba41ee4d8886ed66793535218bec8f1a9   0.014253  ...   \n",
       "..                                         ...        ...  ...   \n",
       "18  0x4b10701bfd7bfedc47d50562b76b436fbb5bdb3b   0.000000  ...   \n",
       "19  0x903e2f5d42ee23156d548dd46bb84b7873789e44   0.100000  ...   \n",
       "20  0xc02aaa39b223fe8d0a0e5c4f27ead9083c756cc2   0.000000  ...   \n",
       "21  0xafb5853ba41ee4d8886ed66793535218bec8f1a9   0.040300  ...   \n",
       "22  0x084b1c3c81545d370f3634392de611caabff8148   0.000000  ...   \n",
       "\n",
       "                                              TX_JSON  BLOCKCHAIN   CREATOR  \\\n",
       "0   {'block_hash': '0x0eb0ecb6b25ef7136cec0892f1cf...    ethereum  flipside   \n",
       "1   {'block_hash': '0x66f74af7efc94715a1e88c4a0679...    ethereum  flipside   \n",
       "2   {'block_hash': '0x9f2b955c069a1a0022bd5251931e...    ethereum  flipside   \n",
       "3   {'block_hash': '0x974421fc2c341b599b481287a65f...    ethereum  flipside   \n",
       "4   {'block_hash': '0x023140aead2fe63fd0171d722c6c...    ethereum  flipside   \n",
       "..                                                ...         ...       ...   \n",
       "18  {'block_hash': '0xf7c3560b3bfa844e359531ba3d1c...        None      None   \n",
       "19  {'block_hash': '0xe243b64403d5127eb56bd2efabf4...    ethereum  flipside   \n",
       "20  {'block_hash': '0x1fe6d4e64820c789dddd963e4414...    ethereum  flipside   \n",
       "21  {'block_hash': '0xc7ce26f02077b85bb490a9cbf740...    ethereum  flipside   \n",
       "22  {'block_hash': '0xfd63c9a360a5684ccb840cb790e0...    ethereum  flipside   \n",
       "\n",
       "                                       ADDRESS               ADDRESS_NAME  \\\n",
       "0   0x283af0b28c62c092c9727f1ee09c02ca627eb7f5   eth registrar controller   \n",
       "1   0x283af0b28c62c092c9727f1ee09c02ca627eb7f5   eth registrar controller   \n",
       "2   0x68b3465833fb72a70ecdf485e0e4c7bd8665fc45       uniswap v3: router 2   \n",
       "3   0x68b3465833fb72a70ecdf485e0e4c7bd8665fc45       uniswap v3: router 2   \n",
       "4   0x56eddb7aa87536c09ccc2793473599fd21a8b17f                 binance 17   \n",
       "..                                         ...                        ...   \n",
       "18                                        None                      other   \n",
       "19  0x903e2f5d42ee23156d548dd46bb84b7873789e44                godmode nft   \n",
       "20  0xc02aaa39b223fe8d0a0e5c4f27ead9083c756cc2                       weth   \n",
       "21  0x21a31ee1afc51d94c2efccaa2092ad1028285549                 binance 15   \n",
       "22  0x084b1c3c81545d370f3634392de611caabff8148          reverse registrar   \n",
       "\n",
       "   LABEL_TYPE      LABEL_SUBTYPE     LABEL      SIDE     chain  \n",
       "0        dapp   general_contract       ens  outgoing  arbitrum  \n",
       "1        dapp   general_contract       ens  outgoing  arbitrum  \n",
       "2         dex      swap_contract   uniswap  outgoing  arbitrum  \n",
       "3         dex      swap_contract   uniswap  outgoing  arbitrum  \n",
       "4         cex         hot_wallet   binance  incoming  arbitrum  \n",
       "..        ...                ...       ...       ...       ...  \n",
       "18      other              other     other  outgoing   polygon  \n",
       "19        nft  nf_token_contract  flipside  outgoing   polygon  \n",
       "20       dapp     token_contract      weth  outgoing   polygon  \n",
       "21        cex         hot_wallet   binance  incoming   polygon  \n",
       "22       dapp   general_contract       ens  outgoing   polygon  \n",
       "\n",
       "[115 rows x 27 columns]"
      ]
     },
     "execution_count": 21,
     "metadata": {},
     "output_type": "execute_result"
    }
   ],
   "source": [
    "cross_chain"
   ]
  }
 ],
 "metadata": {
  "kernelspec": {
   "display_name": "Python 3.10.4 ('0xdoing')",
   "language": "python",
   "name": "python3"
  },
  "language_info": {
   "codemirror_mode": {
    "name": "ipython",
    "version": 3
   },
   "file_extension": ".py",
   "mimetype": "text/x-python",
   "name": "python",
   "nbconvert_exporter": "python",
   "pygments_lexer": "ipython3",
   "version": "3.10.4"
  },
  "orig_nbformat": 4,
  "vscode": {
   "interpreter": {
    "hash": "4ad5bc12d36157ceef377b1e9868523f2c8a74a561f5078e0ceb0a3a79adfdc1"
   }
  }
 },
 "nbformat": 4,
 "nbformat_minor": 2
}
